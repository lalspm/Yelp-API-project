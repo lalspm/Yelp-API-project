{
 "cells": [
  {
   "cell_type": "markdown",
   "metadata": {},
   "source": [
    "# Yelp API Project\n",
    "\n",
    "\n",
    "## Introduction \n",
    "\n",
    "We've learned how to query the Yelp API, analyze JSON data and create basic visualizations. It's time to put those skills to work in order to create a project of your own! Taking things a step further, you'll also independently explore how to perform pagination in order to retrieve a full results set from the Yelp API.\n",
    "\n",
    "## Objectives\n",
    "\n",
    "You will be able to: \n",
    "\n",
    "* Practice using functions to organize your code\n",
    "* Use pagination to retrieve all results from an API query\n",
    "* Practice parsing data returned from an API query\n",
    "* Practice interpreting visualizations of a dataset"
   ]
  },
  {
   "cell_type": "markdown",
   "metadata": {},
   "source": [
    "# Task: Query Yelp for All Businesses in a Category and Analyze the Results\n",
    "\n",
    "![restaurant counter with pizza](images/restaurant_counter.jpg)\n",
    "\n",
    "Photo by <a href=\"https://unsplash.com/@jordanmadrid?utm_source=unsplash&utm_medium=referral&utm_content=creditCopyText\">Jordan Madrid</a> on <a href=\"/s/photos/pizza-restaurant?utm_source=unsplash&utm_medium=referral&utm_content=creditCopyText\">Unsplash</a>"
   ]
  },
  {
   "cell_type": "markdown",
   "metadata": {},
   "source": [
    "## Overview\n",
    "\n",
    "You've now worked with some API calls, but we have yet to see how to retrieve a more complete dataset in a programmatic manner. In this lab, you will write a query of businesses on Yelp, then use *pagination* to retrieve all possible results for that query. Then you will pre-process and analyze your data, leading to a presentation of your findings.\n",
    "\n",
    "## Requirements\n",
    "\n",
    "### 1. Make the Initial Request\n",
    "\n",
    "Start by filling in your API key to make the initial request to the business search API. \n",
    "\n",
    "### 2. Add Pagination\n",
    "\n",
    "Using loops and functions, collect the maximum number of results for your query from the API.\n",
    "\n",
    "### 3. Prepare Data\n",
    "\n",
    "Investigate the structure of the response you get back and extract the relevant information.\n",
    "\n",
    "### 4. Perform Descriptive Analysis\n",
    "\n",
    "Interpret visualizations related to the price range, average rating, and number of reviews for all query results.\n",
    "\n",
    "### 5. Create Presentation Notebook\n",
    "\n",
    "Edit this notebook or create a new one to showcase your work."
   ]
  },
  {
   "cell_type": "markdown",
   "metadata": {},
   "source": [
    "# 1. Make the Initial Request\n",
    "\n",
    "## Querying\n",
    "\n",
    "Start by making an initial request to the Yelp API. Your search must include at least 2 parameters: **term** and **location**. For example, you might search for pizza restaurants in NYC. The term and location is up to you but make the request below.\n",
    "\n",
    "Use the `requests` library ([documentation here](https://requests.readthedocs.io/en/master/user/quickstart/#make-a-request)).\n",
    "\n",
    "You'll also need an API key from Yelp. If you haven't done this already, go to the Yelp [Manage App page](https://www.yelp.com/developers/v3/manage_app) and create a new app (after making an account if you haven't already)."
   ]
  },
  {
   "cell_type": "code",
   "execution_count": 10,
   "metadata": {
    "scrolled": false
   },
   "outputs": [
    {
     "name": "stdout",
     "output_type": "stream",
     "text": [
      "<Response [200]>\n"
     ]
    },
    {
     "data": {
      "text/plain": [
       "<Response [200]>"
      ]
     },
     "metadata": {},
     "output_type": "display_data"
    },
    {
     "name": "stdout",
     "output_type": "stream",
     "text": [
      "{\"businesses\": [{\"id\": \"KzYd2EaFvmu63wqTIektSA\", \"alias\": \"padella-london-3\", \"name\": \"Padella\", \"image_url\": \"https://s3-media3.fl.yelpcdn.com/bphoto/Z6ujE4hSjT6DrejptE9PQQ/o.jpg\", \"is_closed\": false, \"url\": \"https://www.yelp.com/biz/padella-london-3?adjust_creative=bTI35OJmNt0Jsn-b6bHaqA&utm_campaign=yelp_api_v3&utm_medium=api_v3_business_search&utm_source=bTI35OJmNt0Jsn-b6bHaqA\", \"review_count\": 208, \"categories\": [{\"alias\": \"italian\", \"title\": \"Italian\"}], \"rating\": 4.5, \"coordinates\": {\"latitude\": 51.5051451, \"longitude\": -0.0899515}, \"transactions\": [], \"price\": \"\\u00a3\\u00a3\", \"location\": {\"address1\": \"6 Southwark Street\", \"address2\": \"\", \"address3\": \"\", \"city\": \"London\", \"zip_code\": \"SE1 1TQ\", \"country\": \"GB\", \"state\": \"XGL\", \"display_address\": [\"6 Southwark Street\", \"London SE1 1TQ\", \"United Kingdom\"]}, \"phone\": \"\", \"display_phone\": \"\", \"distance\": 3297.287249700157}, {\"id\": \"1bR581OwoAOLMLG9sS_tow\", \"alias\": \"circolo-popolare-london\", \"name\": \"Circolo Popolare\", \"image_url\": \"https://s3-media4.fl.yelpcdn.com/bphoto/fcMZ6vZgHsstTAupJ69ocg/o.jpg\", \"is_closed\": false, \"url\": \"https://www.yelp.com/biz/circolo-popolare-london?adjust_creative=bTI35OJmNt0Jsn-b6bHaqA&utm_campaign=yelp_api_v3&utm_medium=api_v3_business_search&utm_source=bTI35OJmNt0Jsn-b6bHaqA\", \"review_count\": 16, \"categories\": [{\"alias\": \"italian\", \"title\": \"Italian\"}], \"rating\": 4.5, \"coordinates\": {\"latitude\": 51.5173110961914, \"longitude\": -0.133615002036095}, \"transactions\": [], \"location\": {\"address1\": \"40-41 Rathbone Place\", \"address2\": \"\", \"address3\": null, \"city\": \"London\", \"zip_code\": \"W1T 1HX\", \"country\": \"GB\", \"state\": \"XGL\", \"display_address\": [\"40-41 Rathbone Place\", \"London W1T 1HX\", \"United Kingdom\"]}, \"phone\": \"\", \"display_phone\": \"\", \"distance\": 508.1354888154036}, {\"id\": \"eRsWcoSBWYkfhfXoHxnIEg\", \"alias\": \"bocca-di-lupo-london\", \"name\": \"Bocca Di Lupo\", \"image_url\": \"https://s3-media4.fl.yelpcdn.com/bphoto/hFJdlRuh6cw5DxSGh6TqFw/o.jpg\", \"is_closed\": false, \"url\": \"https://www.yelp.com/biz/bocca-di-lupo-london?adjust_creative=bTI35OJmNt0Jsn-b6bHaqA&utm_campaign=yelp_api_v3&utm_medium=api_v3_business_search&utm_source=bTI35OJmNt0Jsn-b6bHaqA\", \"review_count\": 167, \"categories\": [{\"alias\": \"italian\", \"title\": \"Italian\"}], \"rating\": 4.0, \"coordinates\": {\"latitude\": 51.5116836912991, \"longitude\": -0.133953506589517}, \"transactions\": [], \"price\": \"\\u00a3\\u00a3\\u00a3\", \"location\": {\"address1\": \"12 Archer Street\", \"address2\": \"\", \"address3\": \"\", \"city\": \"London\", \"zip_code\": \"W1D 7BB\", \"country\": \"GB\", \"state\": \"XGL\", \"display_address\": [\"12 Archer Street\", \"London W1D 7BB\", \"United Kingdom\"]}, \"phone\": \"+442077342223\", \"display_phone\": \"+44 20 7734 2223\", \"distance\": 188.68901579545133}, {\"id\": \"ZfM-yM1OWk41l8RJNRMnvw\", \"alias\": \"da-mario-restaurant-london\", \"name\": \"Da Mario Restaurant\", \"image_url\": \"https://s3-media1.fl.yelpcdn.com/bphoto/GgmhWL3ae9RuS9ChDOmcIA/o.jpg\", \"is_closed\": false, \"url\": \"https://www.yelp.com/biz/da-mario-restaurant-london?adjust_creative=bTI35OJmNt0Jsn-b6bHaqA&utm_campaign=yelp_api_v3&utm_medium=api_v3_business_search&utm_source=bTI35OJmNt0Jsn-b6bHaqA\", \"review_count\": 141, \"categories\": [{\"alias\": \"italian\", \"title\": \"Italian\"}], \"rating\": 4.5, \"coordinates\": {\"latitude\": 51.4987228161749, \"longitude\": -0.183567237647306}, \"transactions\": [], \"price\": \"\\u00a3\\u00a3\", \"location\": {\"address1\": \"15 Gloucester Road\", \"address2\": \"\", \"address3\": \"\", \"city\": \"London\", \"zip_code\": \"SW7 4PP\", \"country\": \"GB\", \"state\": \"XGL\", \"display_address\": [\"15 Gloucester Road\", \"London SW7 4PP\", \"United Kingdom\"]}, \"phone\": \"+442075849078\", \"display_phone\": \"+44 20 7584 9078\", \"distance\": 3649.840780107747}, {\"id\": \"jcWobjpfGS5AaJuh13UbUw\", \"alias\": \"il-portico-london\", \"name\": \"Il Portico\", \"image_url\": \"https://s3-media1.fl.yelpcdn.com/bphoto/_ZqoDWADKy3AwvfBrrn4dA/o.jpg\", \"is_closed\": false, \"url\": \"https://www.yelp.com/biz/il-portico-london?adjust_creative=bTI35OJmNt0Jsn-b6bHaqA&utm_campaign=yelp_api_v3&utm_medium=api_v3_business_search&utm_source=bTI35OJmNt0Jsn-b6bHaqA\", \"review_count\": 48, \"categories\": [{\"alias\": \"italian\", \"title\": \"Italian\"}], \"rating\": 5.0, \"coordinates\": {\"latitude\": 51.4985799, \"longitude\": -0.2000019}, \"transactions\": [], \"price\": \"\\u00a3\\u00a3\\u00a3\", \"location\": {\"address1\": \"277 Kensington High Street\", \"address2\": \"\", \"address3\": \"\", \"city\": \"London\", \"zip_code\": \"W8 6NA\", \"country\": \"GB\", \"state\": \"XGL\", \"display_address\": [\"277 Kensington High Street\", \"London W8 6NA\", \"United Kingdom\"]}, \"phone\": \"+442076026262\", \"display_phone\": \"+44 20 7602 6262\", \"distance\": 4703.757817126668}, {\"id\": \"ofk57INQHCumktjqs0EjhQ\", \"alias\": \"san-carlo-cicchetti-london-2\", \"name\": \"San Carlo Cicchetti\", \"image_url\": \"https://s3-media2.fl.yelpcdn.com/bphoto/8blt2grhJcB35GAyYuJWvQ/o.jpg\", \"is_closed\": false, \"url\": \"https://www.yelp.com/biz/san-carlo-cicchetti-london-2?adjust_creative=bTI35OJmNt0Jsn-b6bHaqA&utm_campaign=yelp_api_v3&utm_medium=api_v3_business_search&utm_source=bTI35OJmNt0Jsn-b6bHaqA\", \"review_count\": 120, \"categories\": [{\"alias\": \"italian\", \"title\": \"Italian\"}], \"rating\": 4.0, \"coordinates\": {\"latitude\": 51.5095021385658, \"longitude\": -0.135087305946757}, \"transactions\": [], \"price\": \"\\u00a3\\u00a3\\u00a3\", \"location\": {\"address1\": \"215 Piccadilly\", \"address2\": \"\", \"address3\": \"\", \"city\": \"London\", \"zip_code\": \"W1J 9HL\", \"country\": \"GB\", \"state\": \"XGL\", \"display_address\": [\"215 Piccadilly\", \"London W1J 9HL\", \"United Kingdom\"]}, \"phone\": \"+442074949435\", \"display_phone\": \"+44 20 7494 9435\", \"distance\": 375.49624382101644}, {\"id\": \"FXSGVcfBDYytOHHyLsoCCg\", \"alias\": \"albertini-restaurant-london\", \"name\": \"Albertini Restaurant\", \"image_url\": \"https://s3-media3.fl.yelpcdn.com/bphoto/ifwjbx18T7ZmecmJN2rLIA/o.jpg\", \"is_closed\": false, \"url\": \"https://www.yelp.com/biz/albertini-restaurant-london?adjust_creative=bTI35OJmNt0Jsn-b6bHaqA&utm_campaign=yelp_api_v3&utm_medium=api_v3_business_search&utm_source=bTI35OJmNt0Jsn-b6bHaqA\", \"review_count\": 52, \"categories\": [{\"alias\": \"pizza\", \"title\": \"Pizza\"}, {\"alias\": \"italian\", \"title\": \"Italian\"}, {\"alias\": \"seafood\", \"title\": \"Seafood\"}], \"rating\": 4.5, \"coordinates\": {\"latitude\": 51.5290298461914, \"longitude\": -0.129214003682137}, \"transactions\": [], \"price\": \"\\u00a3\", \"location\": {\"address1\": \"16-20 Chalton Street\", \"address2\": null, \"address3\": \"\", \"city\": \"London\", \"zip_code\": \"NW1 1JH\", \"country\": \"GB\", \"state\": \"XGL\", \"display_address\": [\"16-20 Chalton Street\", \"London NW1 1JH\", \"United Kingdom\"]}, \"phone\": \"+442073874723\", \"display_phone\": \"+44 20 7387 4723\", \"distance\": 1844.1187278999082}, {\"id\": \"RRBZpT_Ljv-Mol53nAjvGg\", \"alias\": \"piccolino-london-2\", \"name\": \"Piccolino\", \"image_url\": \"https://s3-media3.fl.yelpcdn.com/bphoto/VKED7Ch68XN_hZeMMXl1Yw/o.jpg\", \"is_closed\": false, \"url\": \"https://www.yelp.com/biz/piccolino-london-2?adjust_creative=bTI35OJmNt0Jsn-b6bHaqA&utm_campaign=yelp_api_v3&utm_medium=api_v3_business_search&utm_source=bTI35OJmNt0Jsn-b6bHaqA\", \"review_count\": 46, \"categories\": [{\"alias\": \"italian\", \"title\": \"Italian\"}], \"rating\": 4.0, \"coordinates\": {\"latitude\": 51.510953, \"longitude\": -0.139739}, \"transactions\": [], \"price\": \"\\u00a3\\u00a3\", \"location\": {\"address1\": \"21 Heddon Street\", \"address2\": \"\", \"address3\": \"\", \"city\": \"London\", \"zip_code\": \"W1B 4BG\", \"country\": \"GB\", \"state\": \"XGL\", \"display_address\": [\"21 Heddon Street\", \"London W1B 4BG\", \"United Kingdom\"]}, \"phone\": \"+442072874029\", \"display_phone\": \"+44 20 7287 4029\", \"distance\": 329.056979623144}, {\"id\": \"Gqs6N5V7PcIF_DbTceEFiQ\", \"alias\": \"cecconis-mayfair-london-2\", \"name\": \"Cecconi's Mayfair\", \"image_url\": \"https://s3-media1.fl.yelpcdn.com/bphoto/KqJA_5YZv4VoTcDSCG1Wiw/o.jpg\", \"is_closed\": false, \"url\": \"https://www.yelp.com/biz/cecconis-mayfair-london-2?adjust_creative=bTI35OJmNt0Jsn-b6bHaqA&utm_campaign=yelp_api_v3&utm_medium=api_v3_business_search&utm_source=bTI35OJmNt0Jsn-b6bHaqA\", \"review_count\": 96, \"categories\": [{\"alias\": \"italian\", \"title\": \"Italian\"}], \"rating\": 4.0, \"coordinates\": {\"latitude\": 51.51004817, \"longitude\": -0.14055809}, \"transactions\": [], \"price\": \"\\u00a3\\u00a3\\u00a3\", \"location\": {\"address1\": \"5A Burlington Gardens\", \"address2\": \"\", \"address3\": \"\", \"city\": \"London\", \"zip_code\": \"W1S 3EP\", \"country\": \"GB\", \"state\": \"XGL\", \"display_address\": [\"5A Burlington Gardens\", \"London W1S 3EP\", \"United Kingdom\"]}, \"phone\": \"+442074341500\", \"display_phone\": \"+44 20 7434 1500\", \"distance\": 444.40866950399754}, {\"id\": \"oxCMByNo12dgtYWzHretMg\", \"alias\": \"la-rocchetta-london\", \"name\": \"La Rocchetta\", \"image_url\": \"https://s3-media2.fl.yelpcdn.com/bphoto/Jth2EaMdBYlvJOR9pVRrcQ/o.jpg\", \"is_closed\": false, \"url\": \"https://www.yelp.com/biz/la-rocchetta-london?adjust_creative=bTI35OJmNt0Jsn-b6bHaqA&utm_campaign=yelp_api_v3&utm_medium=api_v3_business_search&utm_source=bTI35OJmNt0Jsn-b6bHaqA\", \"review_count\": 2, \"categories\": [{\"alias\": \"italian\", \"title\": \"Italian\"}], \"rating\": 5.0, \"coordinates\": {\"latitude\": 51.5229682922363, \"longitude\": -0.105994999408722}, \"transactions\": [], \"price\": \"\\u00a3\", \"location\": {\"address1\": \"40 Clerkenwell Green\", \"address2\": \"\", \"address3\": \"\", \"city\": \"London\", \"zip_code\": \"EC1R 0DU\", \"country\": \"GB\", \"state\": \"XGL\", \"display_address\": [\"40 Clerkenwell Green\", \"London EC1R 0DU\", \"United Kingdom\"]}, \"phone\": \"+442072538676\", \"display_phone\": \"+44 20 7253 8676\", \"distance\": 2359.48246285179}, {\"id\": \"NoJ_9VDZ4GyTGywmsvkH9A\", \"alias\": \"canto-corvino-london\", \"name\": \"Canto Corvino\", \"image_url\": \"https://s3-media2.fl.yelpcdn.com/bphoto/eDvD6NETBQUR1S1jJJR1Gw/o.jpg\", \"is_closed\": false, \"url\": \"https://www.yelp.com/biz/canto-corvino-london?adjust_creative=bTI35OJmNt0Jsn-b6bHaqA&utm_campaign=yelp_api_v3&utm_medium=api_v3_business_search&utm_source=bTI35OJmNt0Jsn-b6bHaqA\", \"review_count\": 11, \"categories\": [{\"alias\": \"italian\", \"title\": \"Italian\"}], \"rating\": 4.5, \"coordinates\": {\"latitude\": 51.5184731521465, \"longitude\": -0.0783929228782654}, \"transactions\": [], \"location\": {\"address1\": \"21 Artillery Lane\", \"address2\": \"\", \"address3\": \"\", \"city\": \"London\", \"zip_code\": \"E1 7HA\", \"country\": \"GB\", \"state\": \"XGL\", \"display_address\": [\"21 Artillery Lane\", \"London E1 7HA\", \"United Kingdom\"]}, \"phone\": \"+442076550390\", \"display_phone\": \"+44 20 7655 0390\", \"distance\": 4032.1843577028762}, {\"id\": \"T6HqvhytfyhMBVooUgl9rg\", \"alias\": \"franco-manca-london\", \"name\": \"Franco Manca\", \"image_url\": \"https://s3-media1.fl.yelpcdn.com/bphoto/Oj3RI_R7vs1cKW4sTQ6YWw/o.jpg\", \"is_closed\": false, \"url\": \"https://www.yelp.com/biz/franco-manca-london?adjust_creative=bTI35OJmNt0Jsn-b6bHaqA&utm_campaign=yelp_api_v3&utm_medium=api_v3_business_search&utm_source=bTI35OJmNt0Jsn-b6bHaqA\", \"review_count\": 169, \"categories\": [{\"alias\": \"italian\", \"title\": \"Italian\"}, {\"alias\": \"pizza\", \"title\": \"Pizza\"}], \"rating\": 4.5, \"coordinates\": {\"latitude\": 51.4617348041813, \"longitude\": -0.11336088180542}, \"transactions\": [], \"price\": \"\\u00a3\", \"location\": {\"address1\": \"4 Market Row\", \"address2\": \"Electric Lane\", \"address3\": \"\", \"city\": \"London\", \"zip_code\": \"SW9 8LD\", \"country\": \"GB\", \"state\": \"XGL\", \"display_address\": [\"4 Market Row\", \"Electric Lane\", \"London SW9 8LD\", \"United Kingdom\"]}, \"phone\": \"+442077383021\", \"display_phone\": \"+44 20 7738 3021\", \"distance\": 5893.572953642648}, {\"id\": \"MMQdqF-q-d__b1Z8_4Hs2Q\", \"alias\": \"astoria-london\", \"name\": \"Astoria\", \"image_url\": \"https://s3-media1.fl.yelpcdn.com/bphoto/YdfWUKJqfciWrZS-_II4cg/o.jpg\", \"is_closed\": false, \"url\": \"https://www.yelp.com/biz/astoria-london?adjust_creative=bTI35OJmNt0Jsn-b6bHaqA&utm_campaign=yelp_api_v3&utm_medium=api_v3_business_search&utm_source=bTI35OJmNt0Jsn-b6bHaqA\", \"review_count\": 3, \"categories\": [{\"alias\": \"italian\", \"title\": \"Italian\"}], \"rating\": 4.5, \"coordinates\": {\"latitude\": 51.511549, \"longitude\": -0.13251}, \"transactions\": [], \"location\": {\"address1\": \"45 Wardour Street\", \"address2\": null, \"address3\": \"\", \"city\": \"London\", \"zip_code\": \"W1D 6PZ\", \"country\": \"GB\", \"state\": \"XGL\", \"display_address\": [\"45 Wardour Street\", \"London W1D 6PZ\", \"United Kingdom\"]}, \"phone\": \"+442074376523\", \"display_phone\": \"+44 20 7437 6523\", \"distance\": 279.3894500795922}, {\"id\": \"B3G1IoAyqTKWBMNUiB2SLA\", \"alias\": \"morso-restaurant-london\", \"name\": \"Morso Restaurant\", \"image_url\": \"https://s3-media1.fl.yelpcdn.com/bphoto/DoaJfv63NvwxCXtKJu5DNQ/o.jpg\", \"is_closed\": false, \"url\": \"https://www.yelp.com/biz/morso-restaurant-london?adjust_creative=bTI35OJmNt0Jsn-b6bHaqA&utm_campaign=yelp_api_v3&utm_medium=api_v3_business_search&utm_source=bTI35OJmNt0Jsn-b6bHaqA\", \"review_count\": 5, \"categories\": [{\"alias\": \"tapasmallplates\", \"title\": \"Tapas/Small Plates\"}, {\"alias\": \"italian\", \"title\": \"Italian\"}], \"rating\": 5.0, \"coordinates\": {\"latitude\": 51.5370894, \"longitude\": -0.1858321}, \"transactions\": [], \"location\": {\"address1\": \"130 Boundary Road\", \"address2\": null, \"address3\": \"\", \"city\": \"London\", \"zip_code\": \"NW8 0RH\", \"country\": \"GB\", \"state\": \"XGL\", \"display_address\": [\"130 Boundary Road\", \"London NW8 0RH\", \"United Kingdom\"]}, \"phone\": \"+442076247412\", \"display_phone\": \"+44 20 7624 7412\", \"distance\": 4375.5197725399}, {\"id\": \"lrkhrEmcffCWIBLsqU0nRw\", \"alias\": \"bizzarro-london\", \"name\": \"Bizzarro\", \"image_url\": \"https://s3-media3.fl.yelpcdn.com/bphoto/KO1LnuEZTe8ZfgAetqCuyA/o.jpg\", \"is_closed\": false, \"url\": \"https://www.yelp.com/biz/bizzarro-london?adjust_creative=bTI35OJmNt0Jsn-b6bHaqA&utm_campaign=yelp_api_v3&utm_medium=api_v3_business_search&utm_source=bTI35OJmNt0Jsn-b6bHaqA\", \"review_count\": 150, \"categories\": [{\"alias\": \"italian\", \"title\": \"Italian\"}], \"rating\": 4.0, \"coordinates\": {\"latitude\": 51.514853, \"longitude\": -0.1772311}, \"transactions\": [], \"price\": \"\\u00a3\\u00a3\", \"location\": {\"address1\": \"18-22 Craven Road\", \"address2\": \"\", \"address3\": \"\", \"city\": \"London\", \"zip_code\": \"W2 3PX\", \"country\": \"GB\", \"state\": \"XGL\", \"display_address\": [\"18-22 Craven Road\", \"London W2 3PX\", \"United Kingdom\"]}, \"phone\": \"+442077236029\", \"display_phone\": \"+44 20 7723 6029\", \"distance\": 2857.153283484032}, {\"id\": \"cxRk4T-Z3q_mekEWj6l2Dw\", \"alias\": \"mamma-mia-london-9\", \"name\": \"Mamma Mia \", \"image_url\": \"https://s3-media3.fl.yelpcdn.com/bphoto/s7Nc0VR_mBNGamMKyuGB1w/o.jpg\", \"is_closed\": false, \"url\": \"https://www.yelp.com/biz/mamma-mia-london-9?adjust_creative=bTI35OJmNt0Jsn-b6bHaqA&utm_campaign=yelp_api_v3&utm_medium=api_v3_business_search&utm_source=bTI35OJmNt0Jsn-b6bHaqA\", \"review_count\": 26, \"categories\": [{\"alias\": \"pizza\", \"title\": \"Pizza\"}, {\"alias\": \"italian\", \"title\": \"Italian\"}], \"rating\": 4.5, \"coordinates\": {\"latitude\": 51.5115510342144, \"longitude\": -0.187024012207985}, \"transactions\": [], \"price\": \"\\u00a3\\u00a3\", \"location\": {\"address1\": \"36 Queensway\", \"address2\": \"\", \"address3\": \"Bayswater\", \"city\": \"London\", \"zip_code\": \"W2 3RX\", \"country\": \"GB\", \"state\": \"XGL\", \"display_address\": [\"36 Queensway\", \"Bayswater\", \"London W2 3RX\", \"United Kingdom\"]}, \"phone\": \"+442072438992\", \"display_phone\": \"+44 20 7243 8992\", \"distance\": 3536.9001095278263}, {\"id\": \"-147sXWJVzjQ6xed3kdtxQ\", \"alias\": \"la-porchetta-pollo-bar-london\", \"name\": \"La Porchetta Pollo Bar\", \"image_url\": \"https://s3-media4.fl.yelpcdn.com/bphoto/7dR3wrkUu2n3IY-GXYNadg/o.jpg\", \"is_closed\": false, \"url\": \"https://www.yelp.com/biz/la-porchetta-pollo-bar-london?adjust_creative=bTI35OJmNt0Jsn-b6bHaqA&utm_campaign=yelp_api_v3&utm_medium=api_v3_business_search&utm_source=bTI35OJmNt0Jsn-b6bHaqA\", \"review_count\": 77, \"categories\": [{\"alias\": \"italian\", \"title\": \"Italian\"}], \"rating\": 4.0, \"coordinates\": {\"latitude\": 51.5136346213443, \"longitude\": -0.130298037090699}, \"transactions\": [], \"price\": \"\\u00a3\", \"location\": {\"address1\": \"20 Old Compton Street\", \"address2\": \"\", \"address3\": \"Soho\", \"city\": \"London\", \"zip_code\": \"W1D 4TW\", \"country\": \"GB\", \"state\": \"XGL\", \"display_address\": [\"20 Old Compton Street\", \"Soho\", \"London W1D 4TW\", \"United Kingdom\"]}, \"phone\": \"+442074949368\", \"display_phone\": \"+44 20 7494 9368\", \"distance\": 401.4759210697374}, {\"id\": \"I0CdzZuM1lNe6YENxl1hLQ\", \"alias\": \"domo-94-london\", \"name\": \"Domo 94\", \"image_url\": \"https://s3-media3.fl.yelpcdn.com/bphoto/RiPc715rlpTAsyc-yCh-OQ/o.jpg\", \"is_closed\": false, \"url\": \"https://www.yelp.com/biz/domo-94-london?adjust_creative=bTI35OJmNt0Jsn-b6bHaqA&utm_campaign=yelp_api_v3&utm_medium=api_v3_business_search&utm_source=bTI35OJmNt0Jsn-b6bHaqA\", \"review_count\": 17, \"categories\": [{\"alias\": \"italian\", \"title\": \"Italian\"}], \"rating\": 4.5, \"coordinates\": {\"latitude\": 51.5412931, \"longitude\": -0.1385957}, \"transactions\": [], \"price\": \"\\u00a3\\u00a3\", \"location\": {\"address1\": \"94 Camden Road\", \"address2\": \"\", \"address3\": \"\", \"city\": \"London\", \"zip_code\": \"NW1 9EA\", \"country\": \"GB\", \"state\": \"XGL\", \"display_address\": [\"94 Camden Road\", \"London NW1 9EA\", \"United Kingdom\"]}, \"phone\": \"+442074824366\", \"display_phone\": \"+44 20 7482 4366\", \"distance\": 3169.600503668651}, {\"id\": \"natxYvht_q9dVUpVCtJlYw\", \"alias\": \"giovannis-of-covent-garden-london\", \"name\": \"Giovanni's of Covent Garden\", \"image_url\": \"https://s3-media4.fl.yelpcdn.com/bphoto/8InP1Oxrmk4HK9P1G-Ptsw/o.jpg\", \"is_closed\": false, \"url\": \"https://www.yelp.com/biz/giovannis-of-covent-garden-london?adjust_creative=bTI35OJmNt0Jsn-b6bHaqA&utm_campaign=yelp_api_v3&utm_medium=api_v3_business_search&utm_source=bTI35OJmNt0Jsn-b6bHaqA\", \"review_count\": 39, \"categories\": [{\"alias\": \"italian\", \"title\": \"Italian\"}], \"rating\": 4.5, \"coordinates\": {\"latitude\": 51.5109872, \"longitude\": -0.1261001}, \"transactions\": [], \"price\": \"\\u00a3\\u00a3\\u00a3\", \"location\": {\"address1\": \"10 Goodwins Court\", \"address2\": \"\", \"address3\": \"\", \"city\": \"London\", \"zip_code\": \"WC2N 4LL\", \"country\": \"GB\", \"state\": \"XGL\", \"display_address\": [\"10 Goodwins Court\", \"London WC2N 4LL\", \"United Kingdom\"]}, \"phone\": \"+442072403303\", \"display_phone\": \"+44 20 7240 3303\", \"distance\": 711.4416983772318}, {\"id\": \"dbgwLM4DAgIa26fVA9xMZg\", \"alias\": \"anacapri-restaurant-london\", \"name\": \"Anacapri Restaurant\", \"image_url\": \"https://s3-media4.fl.yelpcdn.com/bphoto/9Ysg-oM-CpZFPRBLMuQgQA/o.jpg\", \"is_closed\": false, \"url\": \"https://www.yelp.com/biz/anacapri-restaurant-london?adjust_creative=bTI35OJmNt0Jsn-b6bHaqA&utm_campaign=yelp_api_v3&utm_medium=api_v3_business_search&utm_source=bTI35OJmNt0Jsn-b6bHaqA\", \"review_count\": 15, \"categories\": [{\"alias\": \"italian\", \"title\": \"Italian\"}], \"rating\": 4.5, \"coordinates\": {\"latitude\": 51.519641656007, \"longitude\": -0.1558836672686}, \"transactions\": [], \"price\": \"\\u00a3\\u00a3\\u00a3\", \"location\": {\"address1\": \"10 Dorset Street\", \"address2\": \"\", \"address3\": \"\", \"city\": \"London\", \"zip_code\": \"W1U 6QR\", \"country\": \"GB\", \"state\": \"XGL\", \"display_address\": [\"10 Dorset Street\", \"London W1U 6QR\", \"United Kingdom\"]}, \"phone\": \"+442079356441\", \"display_phone\": \"+44 20 7935 6441\", \"distance\": 1572.9538640242754}], \"total\": 2200, \"region\": {\"center\": {\"longitude\": -0.135955810546875, \"latitude\": 51.51283552118349}}}\n"
     ]
    }
   ],
   "source": [
    "# Replace None with appropriate code\n",
    "\n",
    "# Import the requests library\n",
    "import requests\n",
    "\n",
    "# Get this from the \"Manage App\" page. Make sure you set them\n",
    "# back to None before pushing this to GitHub, since otherwise\n",
    "# your credentials will be compromised\n",
    "api_key = \"# These can be whatever you want! But the solution uses \"pizza\"\n",
    "# and \"New York NY\" if you want to compare your work directly\n",
    "term = 'Italian'\n",
    "location = 'London' \n",
    "\n",
    "# Set up params for request\n",
    "url = \"https://api.yelp.com/v3/businesses/search\"\n",
    "headers = {\n",
    "    \"Authorization\": \"Bearer {}\".format(api_key)\n",
    "}\n",
    "url_params = {\n",
    "    \"term\": term.replace(\" \", \"+\"),\n",
    "    \"location\": location.replace(\" \", \"+\")\n",
    "}\n",
    "\n",
    "# Make the request using requests.get, passing in\n",
    "# url, headers=headers, and params=url_params\n",
    "response = requests.get(url, headers=headers, params=url_params)\n",
    "# Confirm we got a 200 response\n",
    "response\n",
    "print(response)\n",
    "display(response)\n",
    "\n",
    "print(response.text[:25000])"
   ]
  },
  {
   "cell_type": "code",
   "execution_count": 11,
   "metadata": {},
   "outputs": [
    {
     "data": {
      "text/plain": [
       "dict_keys(['businesses', 'total', 'region'])"
      ]
     },
     "execution_count": 11,
     "metadata": {},
     "output_type": "execute_result"
    }
   ],
   "source": [
    "# Run this cell without changes\n",
    "\n",
    "# Get the response body in JSON format\n",
    "response_json = response.json()\n",
    "# View the keys\n",
    "response_json.keys()"
   ]
  },
  {
   "cell_type": "markdown",
   "metadata": {},
   "source": [
    "## Extracting Data\n",
    "\n",
    "Now, retrieve the value associated with the `'businesses'` key, and inspect its contents."
   ]
  },
  {
   "cell_type": "code",
   "execution_count": 12,
   "metadata": {},
   "outputs": [
    {
     "name": "stdout",
     "output_type": "stream",
     "text": [
      "There are 20 businesses in this response\n"
     ]
    },
    {
     "data": {
      "text/plain": [
       "[{'id': 'KzYd2EaFvmu63wqTIektSA',\n",
       "  'alias': 'padella-london-3',\n",
       "  'name': 'Padella',\n",
       "  'image_url': 'https://s3-media3.fl.yelpcdn.com/bphoto/Z6ujE4hSjT6DrejptE9PQQ/o.jpg',\n",
       "  'is_closed': False,\n",
       "  'url': 'https://www.yelp.com/biz/padella-london-3?adjust_creative=bTI35OJmNt0Jsn-b6bHaqA&utm_campaign=yelp_api_v3&utm_medium=api_v3_business_search&utm_source=bTI35OJmNt0Jsn-b6bHaqA',\n",
       "  'review_count': 208,\n",
       "  'categories': [{'alias': 'italian', 'title': 'Italian'}],\n",
       "  'rating': 4.5,\n",
       "  'coordinates': {'latitude': 51.5051451, 'longitude': -0.0899515},\n",
       "  'transactions': [],\n",
       "  'price': '££',\n",
       "  'location': {'address1': '6 Southwark Street',\n",
       "   'address2': '',\n",
       "   'address3': '',\n",
       "   'city': 'London',\n",
       "   'zip_code': 'SE1 1TQ',\n",
       "   'country': 'GB',\n",
       "   'state': 'XGL',\n",
       "   'display_address': ['6 Southwark Street',\n",
       "    'London SE1 1TQ',\n",
       "    'United Kingdom']},\n",
       "  'phone': '',\n",
       "  'display_phone': '',\n",
       "  'distance': 3297.287249700157},\n",
       " {'id': '1bR581OwoAOLMLG9sS_tow',\n",
       "  'alias': 'circolo-popolare-london',\n",
       "  'name': 'Circolo Popolare',\n",
       "  'image_url': 'https://s3-media4.fl.yelpcdn.com/bphoto/fcMZ6vZgHsstTAupJ69ocg/o.jpg',\n",
       "  'is_closed': False,\n",
       "  'url': 'https://www.yelp.com/biz/circolo-popolare-london?adjust_creative=bTI35OJmNt0Jsn-b6bHaqA&utm_campaign=yelp_api_v3&utm_medium=api_v3_business_search&utm_source=bTI35OJmNt0Jsn-b6bHaqA',\n",
       "  'review_count': 16,\n",
       "  'categories': [{'alias': 'italian', 'title': 'Italian'}],\n",
       "  'rating': 4.5,\n",
       "  'coordinates': {'latitude': 51.5173110961914,\n",
       "   'longitude': -0.133615002036095},\n",
       "  'transactions': [],\n",
       "  'location': {'address1': '40-41 Rathbone Place',\n",
       "   'address2': '',\n",
       "   'address3': None,\n",
       "   'city': 'London',\n",
       "   'zip_code': 'W1T 1HX',\n",
       "   'country': 'GB',\n",
       "   'state': 'XGL',\n",
       "   'display_address': ['40-41 Rathbone Place',\n",
       "    'London W1T 1HX',\n",
       "    'United Kingdom']},\n",
       "  'phone': '',\n",
       "  'display_phone': '',\n",
       "  'distance': 508.1354888154036}]"
      ]
     },
     "execution_count": 12,
     "metadata": {},
     "output_type": "execute_result"
    }
   ],
   "source": [
    "# Replace None with appropriate code\n",
    "\n",
    "# Retrieve the value from response_json\n",
    "businesses = response.json()['businesses'] \n",
    "\n",
    "# View number of records\n",
    "print(f\"There are {len(businesses)} businesses in this response\")\n",
    "\n",
    "# View the first 2 records\n",
    "businesses[:2]"
   ]
  },
  {
   "cell_type": "markdown",
   "metadata": {},
   "source": [
    "# 2. Add Pagination\n",
    "\n",
    "Now that you are able to get one set of responses, known as a **page**, let's figure out how to request as many pages as possible.\n",
    "\n",
    "## Technical Details\n",
    "\n",
    "Returning to the Yelp API, the [documentation](https://www.yelp.com/developers/documentation/v3/business_search) also provides us details regarding the **API limits**. These often include details about the number of requests a user is allowed to make within a specified time limit and the maximum number of results to be returned. In this case, we are told that any request has a **maximum of 50 results per request** and defaults to 20. Furthermore, any search will be limited to a **total of 1000 results**. To retrieve all 1000 of these results, we would have to page through the results piece by piece, retrieving 50 at a time. Processes such as these are often referred to as pagination.\n",
    "\n",
    "Also, be mindful of the **API** ***rate*** **limits**. You can only make **5000 requests per day** and are also can make requests too fast. Start prototyping small before running a loop that could be faulty. You can also use `time.sleep(n)` to add delays. For more details see https://www.yelp.com/developers/documentation/v3/rate_limiting.\n",
    "\n",
    "In this lab, you will define a search and then paginate over the results to retrieve all of the results. You'll then parse these responses as a list of dictionaries (for further exploration) and create a map using Folium to visualize the results geographically.\n",
    "\n",
    "## Determining the Total\n",
    "\n",
    "Depending on the number of total results for your query, you will either retrieve all of the results, or just the first 1000 (if there are more than 1000 total).\n",
    "\n",
    "We can find the total number of results using the `\"total\"` key:"
   ]
  },
  {
   "cell_type": "code",
   "execution_count": 13,
   "metadata": {},
   "outputs": [
    {
     "data": {
      "text/plain": [
       "2200"
      ]
     },
     "execution_count": 13,
     "metadata": {},
     "output_type": "execute_result"
    }
   ],
   "source": [
    "# Run this cell without changes\n",
    "response_json[\"total\"]"
   ]
  },
  {
   "cell_type": "markdown",
   "metadata": {},
   "source": [
    "(This is specific to the implementation of the Yelp API. Some APIs will just tell you that there are more pages, or will tell you the number of pages total, rather than the total number of results. If you're not sure, always check the documentation.)\n",
    "\n",
    "In the cell below, assign the variable `total` to either the value shown above (if it is less than 1000), or 1000."
   ]
  },
  {
   "cell_type": "code",
   "execution_count": 14,
   "metadata": {},
   "outputs": [],
   "source": [
    "# Replace None with appropriate code\n",
    "total = 1000"
   ]
  },
  {
   "cell_type": "markdown",
   "metadata": {},
   "source": [
    "### Calculating the Offsets\n",
    "\n",
    "The documentation states in the parameters section:\n",
    "\n",
    "> **Name**: `limit`, **Type:** int, **Description:** Optional. Number of business results to return. By default, it will return 20. Maximum is 50.\n",
    "\n",
    "> **Name**: `offset`, **Type:** int, **Description:** Optional. Offset the list of returned business results by this amount.\n",
    "\n",
    "So, to get the most results with the fewest API calls we want to set a limit of 50 every time. If, say, we wanted to get 210 total results, that would mean:\n",
    "\n",
    "1. Offset of `0` (first 50 records)\n",
    "2. Offset of `50` (second 50 records)\n",
    "3. Offset of `100` (third 50 records)\n",
    "4. Offset of `150` (fourth 50 records)\n",
    "5. Offset of `200` (final 10 records)\n",
    "\n",
    "In the cell below, create a function `get_offsets` that takes in a total and returns a list of offsets for that total. You can assume that there is a limit of 50 every time.\n",
    "\n",
    "*Hint: you can use `range` ([documentation here](https://docs.python.org/3.3/library/stdtypes.html?highlight=range#range)) to do this in one line of code. Just make the returned result is a list.*"
   ]
  },
  {
   "cell_type": "code",
   "execution_count": 15,
   "metadata": {},
   "outputs": [
    {
     "data": {
      "text/plain": [
       "[0, 50, 100, 150, 200, 250, 300, 350, 400, 450]"
      ]
     },
     "execution_count": 15,
     "metadata": {},
     "output_type": "execute_result"
    }
   ],
   "source": [
    "# Replace None with appropriate code\n",
    "def get_offsets(total):\n",
    "    limit = 50\n",
    "    return list(range(0,total,limit))\n",
    "get_offsets(500)\n",
    "           \n"
   ]
  },
  {
   "cell_type": "markdown",
   "metadata": {},
   "source": [
    "Check that your function works below:"
   ]
  },
  {
   "cell_type": "code",
   "execution_count": 16,
   "metadata": {},
   "outputs": [],
   "source": [
    "# Run this cell without changes\n",
    "\n",
    "assert get_offsets(200) == [0, 50, 100, 150]\n",
    "assert get_offsets(210) == [0, 50, 100, 150, 200]"
   ]
  },
  {
   "cell_type": "markdown",
   "metadata": {},
   "source": [
    "### Putting It All Together\n",
    "\n",
    "Recall that the following variable has already been declared for you:"
   ]
  },
  {
   "cell_type": "code",
   "execution_count": 17,
   "metadata": {},
   "outputs": [
    {
     "data": {
      "text/plain": [
       "{'term': 'Italian', 'location': 'London'}"
      ]
     },
     "execution_count": 17,
     "metadata": {},
     "output_type": "execute_result"
    }
   ],
   "source": [
    "# Run this cell without changes\n",
    "url_params\n"
   ]
  },
  {
   "cell_type": "markdown",
   "metadata": {},
   "source": [
    "We'll go ahead and also specify that the limit should be 50 every time:"
   ]
  },
  {
   "cell_type": "code",
   "execution_count": 18,
   "metadata": {},
   "outputs": [],
   "source": [
    "# Run this cell without changes\n",
    "url_params[\"limit\"] = 50\n",
    "         "
   ]
  },
  {
   "cell_type": "markdown",
   "metadata": {},
   "source": [
    "In order to modify the offset, you'll need to add it to `url_params` with the key `\"offset\"` and whatever value is needed.\n",
    "\n",
    "In the cell below, write code that:\n",
    "\n",
    "* Creates an empty list for the full prepared dataset\n",
    "* Loops over all of the offsets from `get_offsets` and makes an API call each time with the specified offset\n",
    "* Extends the full dataset list with each query's dataset"
   ]
  },
  {
   "cell_type": "code",
   "execution_count": 19,
   "metadata": {},
   "outputs": [
    {
     "data": {
      "text/plain": [
       "1000"
      ]
     },
     "execution_count": 19,
     "metadata": {},
     "output_type": "execute_result"
    }
   ],
   "source": [
    "# Replace None with appropriate code\n",
    "\n",
    "# Create an empty list for the full prepared dataset\n",
    "full_dataset = []\n",
    "\n",
    "for offset in get_offsets(total):\n",
    "        url_params[\"offset\"] = offset\n",
    "        \n",
    "\n",
    "            \n",
    "    \n",
    "    ## Make the query and get the response\n",
    "        response = requests.get(url, headers=headers, params=url_params)\n",
    "    \n",
    "    # Get the response body in JSON format\n",
    "        response_json = response.json()\n",
    "    \n",
    "    # Get the list of businesses from the response_json\n",
    "        businesses = response_json['businesses']\n",
    "    \n",
    "    # Extend full_dataset with this list (don't append, or you'll get\n",
    "    # a list of lists instead of a flat list)\n",
    "        full_dataset.extend(businesses)\n",
    " \n",
    "# Check the length of the full dataset. It will be up to `total`,\n",
    "# potentially less if there were missing values\n",
    "len(full_dataset)"
   ]
  },
  {
   "cell_type": "markdown",
   "metadata": {},
   "source": [
    "This code may take up to a few minutes to run.\n",
    "\n",
    "If you get an error trying to get the response body in JSON format, try adding `time.sleep(1)` right after the `requests.get` line, so your code will sleep for 1 second between each API call."
   ]
  },
  {
   "cell_type": "markdown",
   "metadata": {},
   "source": [
    "# 3. Prepare Data\n",
    "\n",
    "Now that we have all of our data, let's prepare it for analysis. It can be helpful to start this process by inspecting the raw data."
   ]
  },
  {
   "cell_type": "code",
   "execution_count": 20,
   "metadata": {
    "scrolled": true
   },
   "outputs": [
    {
     "data": {
      "text/plain": [
       "[{'id': 'KzYd2EaFvmu63wqTIektSA',\n",
       "  'alias': 'padella-london-3',\n",
       "  'name': 'Padella',\n",
       "  'image_url': 'https://s3-media3.fl.yelpcdn.com/bphoto/Z6ujE4hSjT6DrejptE9PQQ/o.jpg',\n",
       "  'is_closed': False,\n",
       "  'url': 'https://www.yelp.com/biz/padella-london-3?adjust_creative=bTI35OJmNt0Jsn-b6bHaqA&utm_campaign=yelp_api_v3&utm_medium=api_v3_business_search&utm_source=bTI35OJmNt0Jsn-b6bHaqA',\n",
       "  'review_count': 208,\n",
       "  'categories': [{'alias': 'italian', 'title': 'Italian'}],\n",
       "  'rating': 4.5,\n",
       "  'coordinates': {'latitude': 51.5051451, 'longitude': -0.0899515},\n",
       "  'transactions': [],\n",
       "  'price': '££',\n",
       "  'location': {'address1': '6 Southwark Street',\n",
       "   'address2': '',\n",
       "   'address3': '',\n",
       "   'city': 'London',\n",
       "   'zip_code': 'SE1 1TQ',\n",
       "   'country': 'GB',\n",
       "   'state': 'XGL',\n",
       "   'display_address': ['6 Southwark Street',\n",
       "    'London SE1 1TQ',\n",
       "    'United Kingdom']},\n",
       "  'phone': '',\n",
       "  'display_phone': '',\n",
       "  'distance': 3297.287249700157},\n",
       " {'id': '1bR581OwoAOLMLG9sS_tow',\n",
       "  'alias': 'circolo-popolare-london',\n",
       "  'name': 'Circolo Popolare',\n",
       "  'image_url': 'https://s3-media4.fl.yelpcdn.com/bphoto/fcMZ6vZgHsstTAupJ69ocg/o.jpg',\n",
       "  'is_closed': False,\n",
       "  'url': 'https://www.yelp.com/biz/circolo-popolare-london?adjust_creative=bTI35OJmNt0Jsn-b6bHaqA&utm_campaign=yelp_api_v3&utm_medium=api_v3_business_search&utm_source=bTI35OJmNt0Jsn-b6bHaqA',\n",
       "  'review_count': 16,\n",
       "  'categories': [{'alias': 'italian', 'title': 'Italian'}],\n",
       "  'rating': 4.5,\n",
       "  'coordinates': {'latitude': 51.5173110961914,\n",
       "   'longitude': -0.133615002036095},\n",
       "  'transactions': [],\n",
       "  'location': {'address1': '40-41 Rathbone Place',\n",
       "   'address2': '',\n",
       "   'address3': None,\n",
       "   'city': 'London',\n",
       "   'zip_code': 'W1T 1HX',\n",
       "   'country': 'GB',\n",
       "   'state': 'XGL',\n",
       "   'display_address': ['40-41 Rathbone Place',\n",
       "    'London W1T 1HX',\n",
       "    'United Kingdom']},\n",
       "  'phone': '',\n",
       "  'display_phone': '',\n",
       "  'distance': 508.1354888154036}]"
      ]
     },
     "execution_count": 20,
     "metadata": {},
     "output_type": "execute_result"
    }
   ],
   "source": [
    "# Run this cell without changes\n",
    "\n",
    "# View the first 2 records\n",
    "full_dataset[:2]"
   ]
  },
  {
   "cell_type": "markdown",
   "metadata": {},
   "source": [
    "Write a function `prepare_data` that takes in a list of dictionaries like `businesses` and returns a copy that has been prepared for analysis:\n",
    "\n",
    "1. The `coordinates` key-value pair has been converted into two separate key-value pairs, `latitude` and `longitude`\n",
    "2. All other key-value pairs except for `name`, `review_count`, `rating`, and `price` have been dropped\n",
    "3. All dictionaries missing one of the relevant keys or containing null values have been dropped\n",
    "\n",
    "In other words, the final keys for each dictionary should be `name`, `review_count`, `rating`, `price`, `latitude`, and `longitude`.\n",
    "\n",
    "Complete the function in the cell below:"
   ]
  },
  {
   "cell_type": "code",
   "execution_count": 21,
   "metadata": {},
   "outputs": [
    {
     "data": {
      "text/plain": [
       "[{'name': 'Padella',\n",
       "  'review_count': 208,\n",
       "  'price': '££',\n",
       "  'rating': 4.5,\n",
       "  'latitude': 51.5051451,\n",
       "  'longitude': -0.0899515},\n",
       " {'name': 'Bocca Di Lupo',\n",
       "  'review_count': 167,\n",
       "  'price': '£££',\n",
       "  'rating': 4.0,\n",
       "  'latitude': 51.5116836912991,\n",
       "  'longitude': -0.133953506589517},\n",
       " {'name': 'Da Mario Restaurant',\n",
       "  'review_count': 141,\n",
       "  'price': '££',\n",
       "  'rating': 4.5,\n",
       "  'latitude': 51.4987228161749,\n",
       "  'longitude': -0.183567237647306},\n",
       " {'name': 'Il Portico',\n",
       "  'review_count': 48,\n",
       "  'price': '£££',\n",
       "  'rating': 5.0,\n",
       "  'latitude': 51.4985799,\n",
       "  'longitude': -0.2000019}]"
      ]
     },
     "execution_count": 21,
     "metadata": {},
     "output_type": "execute_result"
    }
   ],
   "source": [
    "# Replace None with appropriate code\n",
    "\n",
    "def prepare_data(data_list):\n",
    "    \"\"\"\n",
    "    This function takes in a list of dictionaries and prepares it\n",
    "    for analysis\n",
    "    \"\"\"\n",
    "    \n",
    "    # Make a new list to hold results\n",
    "    results = []\n",
    "    \n",
    "    for business_data in data_list:\n",
    "    \n",
    "        # Make a new dictionary to hold prepared data for this business\n",
    "        prepared_data = {}\n",
    "        \n",
    "        # Extract name, review_count, rating, and price key-value pairs\n",
    "        # from business_data and add to prepared_data\n",
    "        # If a key is not present in business_data, add it to prepared_data\n",
    "        # with an associated value of None\n",
    "        for key in (\"name\",\"review_count\",\"price\",\"rating\"):\n",
    "            prepared_data[key] = business_data.get(key)\n",
    "          \n",
    "            \n",
    "        # Parse and add latitude and longitude columns\n",
    "        coordinates=business_data[\"coordinates\"]\n",
    "        prepared_data[\"latitude\"]=coordinates[\"latitude\"]\n",
    "        prepared_data[\"longitude\"]=coordinates[\"longitude\"]\n",
    " \n",
    "       \n",
    "        \n",
    "        # Add to list if all values are present\n",
    "        if all(prepared_data.values()):\n",
    "            results.append(prepared_data)\n",
    "    \n",
    "    return results\n",
    "    \n",
    "# Test out function\n",
    "prepared_businesses = prepare_data(full_dataset[:5])\n",
    "prepared_businesses[:5]"
   ]
  },
  {
   "cell_type": "markdown",
   "metadata": {},
   "source": [
    "Check that your function created the correct keys:"
   ]
  },
  {
   "cell_type": "code",
   "execution_count": 23,
   "metadata": {},
   "outputs": [],
   "source": [
    "# Run this cell without changes  \n",
    "#\n",
    "#\n",
    "assert sorted(list(prepared_businesses[0].keys())) == ['latitude', 'longitude', 'name', 'price', 'rating', 'review_count']"
   ]
  },
  {
   "cell_type": "markdown",
   "metadata": {},
   "source": [
    "The following code will differ depending on your query, but there may be fewer results in the prepared list than in the full dataset (if any of them were missing data):"
   ]
  },
  {
   "cell_type": "code",
   "execution_count": 24,
   "metadata": {},
   "outputs": [
    {
     "name": "stdout",
     "output_type": "stream",
     "text": [
      "Original: 1000\n",
      "Prepared: 4\n"
     ]
    }
   ],
   "source": [
    "# Run this cell without changes\n",
    "print(\"Original:\", len(full_dataset))\n",
    "print(\"Prepared:\", len(prepared_businesses))"
   ]
  },
  {
   "cell_type": "markdown",
   "metadata": {},
   "source": [
    "Great! Now let's create a DataFrame to hold our data - this will make our cleaning and analysis easier."
   ]
  },
  {
   "cell_type": "code",
   "execution_count": 25,
   "metadata": {},
   "outputs": [
    {
     "data": {
      "text/html": [
       "<div>\n",
       "<style scoped>\n",
       "    .dataframe tbody tr th:only-of-type {\n",
       "        vertical-align: middle;\n",
       "    }\n",
       "\n",
       "    .dataframe tbody tr th {\n",
       "        vertical-align: top;\n",
       "    }\n",
       "\n",
       "    .dataframe thead th {\n",
       "        text-align: right;\n",
       "    }\n",
       "</style>\n",
       "<table border=\"1\" class=\"dataframe\">\n",
       "  <thead>\n",
       "    <tr style=\"text-align: right;\">\n",
       "      <th></th>\n",
       "      <th>name</th>\n",
       "      <th>review_count</th>\n",
       "      <th>price</th>\n",
       "      <th>rating</th>\n",
       "      <th>latitude</th>\n",
       "      <th>longitude</th>\n",
       "    </tr>\n",
       "  </thead>\n",
       "  <tbody>\n",
       "    <tr>\n",
       "      <th>0</th>\n",
       "      <td>Padella</td>\n",
       "      <td>208</td>\n",
       "      <td>££</td>\n",
       "      <td>4.5</td>\n",
       "      <td>51.505145</td>\n",
       "      <td>-0.089952</td>\n",
       "    </tr>\n",
       "    <tr>\n",
       "      <th>1</th>\n",
       "      <td>Bocca Di Lupo</td>\n",
       "      <td>167</td>\n",
       "      <td>£££</td>\n",
       "      <td>4.0</td>\n",
       "      <td>51.511684</td>\n",
       "      <td>-0.133954</td>\n",
       "    </tr>\n",
       "    <tr>\n",
       "      <th>2</th>\n",
       "      <td>Da Mario Restaurant</td>\n",
       "      <td>141</td>\n",
       "      <td>££</td>\n",
       "      <td>4.5</td>\n",
       "      <td>51.498723</td>\n",
       "      <td>-0.183567</td>\n",
       "    </tr>\n",
       "    <tr>\n",
       "      <th>3</th>\n",
       "      <td>Il Portico</td>\n",
       "      <td>48</td>\n",
       "      <td>£££</td>\n",
       "      <td>5.0</td>\n",
       "      <td>51.498580</td>\n",
       "      <td>-0.200002</td>\n",
       "    </tr>\n",
       "  </tbody>\n",
       "</table>\n",
       "</div>"
      ],
      "text/plain": [
       "                  name  review_count price  rating   latitude  longitude\n",
       "0              Padella           208    ££     4.5  51.505145  -0.089952\n",
       "1        Bocca Di Lupo           167   £££     4.0  51.511684  -0.133954\n",
       "2  Da Mario Restaurant           141    ££     4.5  51.498723  -0.183567\n",
       "3           Il Portico            48   £££     5.0  51.498580  -0.200002"
      ]
     },
     "metadata": {},
     "output_type": "display_data"
    }
   ],
   "source": [
    "# Replace None with appropriate code\n",
    "\n",
    "# Import pandas\n",
    "import pandas as pd\n",
    "\n",
    "# Create DataFrame from prepared business data\n",
    "business_df = pd.DataFrame(prepared_businesses)\n",
    "# Inspect the DataFrame\n",
    "business_df.head()\n",
    "display(business_df)"
   ]
  },
  {
   "cell_type": "markdown",
   "metadata": {},
   "source": [
    "To make analysis of prices easier, let's convert `price` to a numeric value indicating the number of dollar signs."
   ]
  },
  {
   "cell_type": "code",
   "execution_count": 26,
   "metadata": {},
   "outputs": [
    {
     "data": {
      "text/html": [
       "<div>\n",
       "<style scoped>\n",
       "    .dataframe tbody tr th:only-of-type {\n",
       "        vertical-align: middle;\n",
       "    }\n",
       "\n",
       "    .dataframe tbody tr th {\n",
       "        vertical-align: top;\n",
       "    }\n",
       "\n",
       "    .dataframe thead th {\n",
       "        text-align: right;\n",
       "    }\n",
       "</style>\n",
       "<table border=\"1\" class=\"dataframe\">\n",
       "  <thead>\n",
       "    <tr style=\"text-align: right;\">\n",
       "      <th></th>\n",
       "      <th>name</th>\n",
       "      <th>review_count</th>\n",
       "      <th>price</th>\n",
       "      <th>rating</th>\n",
       "      <th>latitude</th>\n",
       "      <th>longitude</th>\n",
       "    </tr>\n",
       "  </thead>\n",
       "  <tbody>\n",
       "    <tr>\n",
       "      <th>0</th>\n",
       "      <td>Padella</td>\n",
       "      <td>208</td>\n",
       "      <td>2</td>\n",
       "      <td>4.5</td>\n",
       "      <td>51.505145</td>\n",
       "      <td>-0.089952</td>\n",
       "    </tr>\n",
       "    <tr>\n",
       "      <th>1</th>\n",
       "      <td>Bocca Di Lupo</td>\n",
       "      <td>167</td>\n",
       "      <td>3</td>\n",
       "      <td>4.0</td>\n",
       "      <td>51.511684</td>\n",
       "      <td>-0.133954</td>\n",
       "    </tr>\n",
       "    <tr>\n",
       "      <th>2</th>\n",
       "      <td>Da Mario Restaurant</td>\n",
       "      <td>141</td>\n",
       "      <td>2</td>\n",
       "      <td>4.5</td>\n",
       "      <td>51.498723</td>\n",
       "      <td>-0.183567</td>\n",
       "    </tr>\n",
       "    <tr>\n",
       "      <th>3</th>\n",
       "      <td>Il Portico</td>\n",
       "      <td>48</td>\n",
       "      <td>3</td>\n",
       "      <td>5.0</td>\n",
       "      <td>51.498580</td>\n",
       "      <td>-0.200002</td>\n",
       "    </tr>\n",
       "  </tbody>\n",
       "</table>\n",
       "</div>"
      ],
      "text/plain": [
       "                  name  review_count  price  rating   latitude  longitude\n",
       "0              Padella           208      2     4.5  51.505145  -0.089952\n",
       "1        Bocca Di Lupo           167      3     4.0  51.511684  -0.133954\n",
       "2  Da Mario Restaurant           141      2     4.5  51.498723  -0.183567\n",
       "3           Il Portico            48      3     5.0  51.498580  -0.200002"
      ]
     },
     "metadata": {},
     "output_type": "display_data"
    }
   ],
   "source": [
    "# Replace None with appropriate code\n",
    "\n",
    "# Convert price to numeric\n",
    "business_df['price'] = business_df['price'].str.len()\n",
    "   \n",
    "display(business_df)\n",
    "   \n",
    "\n"
   ]
  },
  {
   "cell_type": "markdown",
   "metadata": {},
   "source": [
    "# 4. Perform Descriptive Analysis\n",
    "\n",
    "## Descriptive Statistics\n",
    "\n",
    "Take the businesses from the previous question and do an initial descriptive analysis. Calculate summary statistics for the review counts, average rating, and price."
   ]
  },
  {
   "cell_type": "code",
   "execution_count": 27,
   "metadata": {},
   "outputs": [
    {
     "data": {
      "text/html": [
       "<div>\n",
       "<style scoped>\n",
       "    .dataframe tbody tr th:only-of-type {\n",
       "        vertical-align: middle;\n",
       "    }\n",
       "\n",
       "    .dataframe tbody tr th {\n",
       "        vertical-align: top;\n",
       "    }\n",
       "\n",
       "    .dataframe thead th {\n",
       "        text-align: right;\n",
       "    }\n",
       "</style>\n",
       "<table border=\"1\" class=\"dataframe\">\n",
       "  <thead>\n",
       "    <tr style=\"text-align: right;\">\n",
       "      <th></th>\n",
       "      <th>review_count</th>\n",
       "      <th>rating</th>\n",
       "      <th>price</th>\n",
       "    </tr>\n",
       "  </thead>\n",
       "  <tbody>\n",
       "    <tr>\n",
       "      <th>count</th>\n",
       "      <td>4.000000</td>\n",
       "      <td>4.000000</td>\n",
       "      <td>4.00000</td>\n",
       "    </tr>\n",
       "    <tr>\n",
       "      <th>mean</th>\n",
       "      <td>141.000000</td>\n",
       "      <td>4.500000</td>\n",
       "      <td>2.50000</td>\n",
       "    </tr>\n",
       "    <tr>\n",
       "      <th>std</th>\n",
       "      <td>67.857694</td>\n",
       "      <td>0.408248</td>\n",
       "      <td>0.57735</td>\n",
       "    </tr>\n",
       "    <tr>\n",
       "      <th>min</th>\n",
       "      <td>48.000000</td>\n",
       "      <td>4.000000</td>\n",
       "      <td>2.00000</td>\n",
       "    </tr>\n",
       "    <tr>\n",
       "      <th>25%</th>\n",
       "      <td>117.750000</td>\n",
       "      <td>4.375000</td>\n",
       "      <td>2.00000</td>\n",
       "    </tr>\n",
       "    <tr>\n",
       "      <th>50%</th>\n",
       "      <td>154.000000</td>\n",
       "      <td>4.500000</td>\n",
       "      <td>2.50000</td>\n",
       "    </tr>\n",
       "    <tr>\n",
       "      <th>75%</th>\n",
       "      <td>177.250000</td>\n",
       "      <td>4.625000</td>\n",
       "      <td>3.00000</td>\n",
       "    </tr>\n",
       "    <tr>\n",
       "      <th>max</th>\n",
       "      <td>208.000000</td>\n",
       "      <td>5.000000</td>\n",
       "      <td>3.00000</td>\n",
       "    </tr>\n",
       "  </tbody>\n",
       "</table>\n",
       "</div>"
      ],
      "text/plain": [
       "       review_count    rating    price\n",
       "count      4.000000  4.000000  4.00000\n",
       "mean     141.000000  4.500000  2.50000\n",
       "std       67.857694  0.408248  0.57735\n",
       "min       48.000000  4.000000  2.00000\n",
       "25%      117.750000  4.375000  2.00000\n",
       "50%      154.000000  4.500000  2.50000\n",
       "75%      177.250000  4.625000  3.00000\n",
       "max      208.000000  5.000000  3.00000"
      ]
     },
     "execution_count": 27,
     "metadata": {},
     "output_type": "execute_result"
    }
   ],
   "source": [
    "# Replace None with appropriate code\n",
    "\n",
    "# Calculate summary statistics for the review counts, average rating, and price\n",
    "business_df[['review_count','rating', 'price']].describe()"
   ]
  },
  {
   "cell_type": "markdown",
   "metadata": {},
   "source": [
    "Describe the results displayed above and interpret them in the context of your query. (Your answer may differ from the solution branch depending on your query.)"
   ]
  },
  {
   "cell_type": "code",
   "execution_count": null,
   "metadata": {},
   "outputs": [],
   "source": [
    "# Replace None with appropriate text\n",
    "\"\"\"\n",
    "This project aimed to gather information about Italian Restaurants in London, UK. The first set of 4 data sets were fetched\n",
    "from the Full_Databse in Yelp Database. Name of the Restaurant, Review counts, Review Rating and Price indicator were the\n",
    "5 set of information selected for each dataset. Once this information was available, we calculated the Mean, Standard Deviation,\n",
    "Minimum value, Maximum value, inter quartile range for the selected data.\n",
    "\"\"\""
   ]
  },
  {
   "cell_type": "markdown",
   "metadata": {},
   "source": [
    "## Histograms\n",
    "\n",
    "Create histograms for the review counts, average rating, and price."
   ]
  },
  {
   "cell_type": "code",
   "execution_count": 28,
   "metadata": {},
   "outputs": [
    {
     "data": {
      "text/plain": [
       "Text(0, 0.5, 'Number of business')"
      ]
     },
     "execution_count": 28,
     "metadata": {},
     "output_type": "execute_result"
    },
    {
     "data": {
      "image/png": "[encoded data removed]",
      "text/plain": [
       "<Figure size 1152x360 with 3 Axes>"
      ]
     },
     "metadata": {
      "needs_background": "light"
     },
     "output_type": "display_data"
    }
   ],
   "source": [
    "# Replace None with your code\n",
    "import matplotlib.pyplot as plt\n",
    "%matplotlib inline\n",
    "\n",
    "fig, (ax1, ax2, ax3) = plt.subplots(ncols=3, figsize=(16, 5))\n",
    "\n",
    "# Plot distribution of number of reviews per business\n",
    "all_review_counts = ax1.hist(business_df['review_count'])\n",
    "ax1.set_xlabel('Number of reviews')\n",
    "ax1.set_ylabel('Number of business')\n",
    "\n",
    "\n",
    "# Plot distribution of ratings across businesses\n",
    "all_ratings = ax2.hist(business_df['rating'])\n",
    "ax2.set_xlabel('Number of ratings')\n",
    "ax2.set_ylabel('Number of business')\n",
    "\n",
    "# Plot distribution of prices across businesses\n",
    "all_prices = ax3.hist(business_df['price'])\n",
    "ax3.set_xlabel('prices')\n",
    "ax3.set_ylabel('Number of business')"
   ]
  },
  {
   "cell_type": "markdown",
   "metadata": {},
   "source": [
    "Describe the distributions displayed above and interpret them in the context of your query. (Your answer may differ from the solution branch depending on your query.)"
   ]
  },
  {
   "cell_type": "code",
   "execution_count": null,
   "metadata": {},
   "outputs": [],
   "source": [
    "# Replace None with appropriate text\n",
    "\"\"\"\n",
    "Based on the data available, a histogram was plotted. Majority of the restaurants had reviews in the range of 125 to 200 reviews.\n",
    "50% of the restaurants were rated 4.6 out of 5, 25% restaurants 4.0 and the other 25% around 5.0. The price indicator for 50% \n",
    "of the restaurant was around the 2.0 mark and the other 50% around the 3.0 mark.\n",
    "\"\"\""
   ]
  },
  {
   "cell_type": "markdown",
   "metadata": {},
   "source": [
    "## Ratings vs. Price\n",
    "\n",
    "Create a visualization showing the relationship between rating and price. You can do this a few different ways - one option could be to show the average price at each rating using a bar chart."
   ]
  },
  {
   "cell_type": "code",
   "execution_count": 29,
   "metadata": {},
   "outputs": [
    {
     "data": {
      "text/plain": [
       "Text(0, 0.5, 'Average price')"
      ]
     },
     "execution_count": 29,
     "metadata": {},
     "output_type": "execute_result"
    },
    {
     "data": {
      "image/png": "[encoded data removed]",
      "text/plain": [
       "<Figure size 432x288 with 1 Axes>"
      ]
     },
     "metadata": {
      "needs_background": "light"
     },
     "output_type": "display_data"
    }
   ],
   "source": [
    "# Replace None with your code\n",
    "\n",
    "\n",
    "# Calculate average price for each rating\n",
    "average_price_rating = business_df.groupby('rating').agg({'price': 'mean'})\n",
    "\n",
    "# Plot results\n",
    "fig,ax=plt.subplots()\n",
    "\n",
    "ax.bar(x = list(average_price_rating.index), height = list(average_price_rating['price']), width = 0.3)\n",
    "ax.set_xlabel(\"Average Rating\")\n",
    "ax.set_ylabel(\"Average price\")"
   ]
  },
  {
   "cell_type": "markdown",
   "metadata": {},
   "source": [
    "Is a higher price associated with a higher rating? (No need for any additional math/statistics, just interpret what you see in the plot.)"
   ]
  },
  {
   "cell_type": "code",
   "execution_count": null,
   "metadata": {},
   "outputs": [],
   "source": [
    "# Replace None with appropriate text\n",
    "\"\"\"\n",
    "The correlation between Review rating and price indicator has been very interesting. Restaurant with least review rating (4.0)\n",
    "and highest review rating (5.0) belonged to a higher price range compared to restaurants with a review rating between \n",
    "4.4 and 4.6 that belonged to the lower price bracket.\n",
    "\"\"\""
   ]
  },
  {
   "cell_type": "markdown",
   "metadata": {},
   "source": [
    "## Ratings vs Review Counts\n",
    "\n",
    "Finally, let's look at ratings vs. review counts. You can analyze this relationship similarly to ratings vs. price."
   ]
  },
  {
   "cell_type": "code",
   "execution_count": 30,
   "metadata": {},
   "outputs": [
    {
     "data": {
      "text/plain": [
       "Text(0, 0.5, 'Average Review Count')"
      ]
     },
     "execution_count": 30,
     "metadata": {},
     "output_type": "execute_result"
    },
    {
     "data": {
      "image/png": "[encoded data removed]",
      "text/plain": [
       "<Figure size 432x288 with 1 Axes>"
      ]
     },
     "metadata": {
      "needs_background": "light"
     },
     "output_type": "display_data"
    }
   ],
   "source": [
    "# Replace None with your code\n",
    "\n",
    "# Calculate average review count for each rating\n",
    "rating_review_count = business_df.groupby('rating').agg({'review_count': 'mean'})\n",
    "\n",
    "# Plot results\n",
    "fig, ax = plt.subplots()\n",
    "ax.bar(x = list(rating_review_count.index), height = list(rating_review_count['review_count']), width = 0.3)\n",
    "ax.set_xlabel(\"Average Rating\")\n",
    "ax.set_ylabel(\"Average Review Count\")"
   ]
  },
  {
   "cell_type": "markdown",
   "metadata": {},
   "source": [
    "Is a higher number of reviews associated with a higher rating?"
   ]
  },
  {
   "cell_type": "code",
   "execution_count": null,
   "metadata": {},
   "outputs": [],
   "source": [
    "# Replace None with appropriate text\n",
    "\"\"\"\n",
    "No, most of the reviews provided were in the 4.0 to 4.6 mark. Review rating of over 4.8 were fewer in number. \n",
    "\"\"\""
   ]
  },
  {
   "cell_type": "markdown",
   "metadata": {},
   "source": [
    "## Level Up: Create a Folium Map\n",
    "\n",
    "Make a map using Folium of the businesses you retrieved. Be sure to also add popups to the markers giving some basic information such as name, rating and price.\n",
    "\n",
    "You can center the map around the latitude and longitude of the first item in your dataset."
   ]
  },
  {
   "cell_type": "code",
   "execution_count": 40,
   "metadata": {},
   "outputs": [
    {
     "data": {
      "text/html": [
       "<div style=\"width:100%;\"><div style=\"position:relative;width:100%;height:0;padding-bottom:60%;\"><span style=\"color:#565656\">Make this Notebook Trusted to load map: File -> Trust Notebook</span><iframe src=\"about:blank\" style=\"position:absolute;width:100%;height:100%;left:0;top:0;border:none !important;\" data-html=%3C%21DOCTYPE%20html%3E%0A%3Chead%3E%20%20%20%20%0A%20%20%20%20%3Cmeta%20http-equiv%3D%22content-type%22%20content%3D%22text/html%3B%20charset%3DUTF-8%22%20/%3E%0A%20%20%20%20%0A%20%20%20%20%20%20%20%20%3Cscript%3E%0A%20%20%20%20%20%20%20%20%20%20%20%20L_NO_TOUCH%20%3D%20false%3B%0A%20%20%20%20%20%20%20%20%20%20%20%20L_DISABLE_3D%20%3D%20false%3B%0A%20%20%20%20%20%20%20%20%3C/script%3E%0A%20%20%20%20%0A%20%20%20%20%3Cstyle%3Ehtml%2C%20body%20%7Bwidth%3A%20100%25%3Bheight%3A%20100%25%3Bmargin%3A%200%3Bpadding%3A%200%3B%7D%3C/style%3E%0A%20%20%20%20%3Cstyle%3E%23map%20%7Bposition%3Aabsolute%3Btop%3A0%3Bbottom%3A0%3Bright%3A0%3Bleft%3A0%3B%7D%3C/style%3E%0A%20%20%20%20%3Cscript%20src%3D%22https%3A//cdn.jsdelivr.net/npm/leaflet%401.6.0/dist/leaflet.js%22%3E%3C/script%3E%0A%20%20%20%20%3Cscript%20src%3D%22https%3A//code.jquery.com/jquery-1.12.4.min.js%22%3E%3C/script%3E%0A%20%20%20%20%3Cscript%20src%3D%22https%3A//maxcdn.bootstrapcdn.com/bootstrap/3.2.0/js/bootstrap.min.js%22%3E%3C/script%3E%0A%20%20%20%20%3Cscript%20src%3D%22https%3A//cdnjs.cloudflare.com/ajax/libs/Leaflet.awesome-markers/2.0.2/leaflet.awesome-markers.js%22%3E%3C/script%3E%0A%20%20%20%20%3Clink%20rel%3D%22stylesheet%22%20href%3D%22https%3A//cdn.jsdelivr.net/npm/leaflet%401.6.0/dist/leaflet.css%22/%3E%0A%20%20%20%20%3Clink%20rel%3D%22stylesheet%22%20href%3D%22https%3A//maxcdn.bootstrapcdn.com/bootstrap/3.2.0/css/bootstrap.min.css%22/%3E%0A%20%20%20%20%3Clink%20rel%3D%22stylesheet%22%20href%3D%22https%3A//maxcdn.bootstrapcdn.com/bootstrap/3.2.0/css/bootstrap-theme.min.css%22/%3E%0A%20%20%20%20%3Clink%20rel%3D%22stylesheet%22%20href%3D%22https%3A//maxcdn.bootstrapcdn.com/font-awesome/4.6.3/css/font-awesome.min.css%22/%3E%0A%20%20%20%20%3Clink%20rel%3D%22stylesheet%22%20href%3D%22https%3A//cdnjs.cloudflare.com/ajax/libs/Leaflet.awesome-markers/2.0.2/leaflet.awesome-markers.css%22/%3E%0A%20%20%20%20%3Clink%20rel%3D%22stylesheet%22%20href%3D%22https%3A//cdn.jsdelivr.net/gh/python-visualization/folium/folium/templates/leaflet.awesome.rotate.min.css%22/%3E%0A%20%20%20%20%0A%20%20%20%20%20%20%20%20%20%20%20%20%3Cmeta%20name%3D%22viewport%22%20content%3D%22width%3Ddevice-width%2C%0A%20%20%20%20%20%20%20%20%20%20%20%20%20%20%20%20initial-scale%3D1.0%2C%20maximum-scale%3D1.0%2C%20user-scalable%3Dno%22%20/%3E%0A%20%20%20%20%20%20%20%20%20%20%20%20%3Cstyle%3E%0A%20%20%20%20%20%20%20%20%20%20%20%20%20%20%20%20%23map_2be4973deb41464995569b7a04f0bfae%20%7B%0A%20%20%20%20%20%20%20%20%20%20%20%20%20%20%20%20%20%20%20%20position%3A%20relative%3B%0A%20%20%20%20%20%20%20%20%20%20%20%20%20%20%20%20%20%20%20%20width%3A%20100.0%25%3B%0A%20%20%20%20%20%20%20%20%20%20%20%20%20%20%20%20%20%20%20%20height%3A%20100.0%25%3B%0A%20%20%20%20%20%20%20%20%20%20%20%20%20%20%20%20%20%20%20%20left%3A%200.0%25%3B%0A%20%20%20%20%20%20%20%20%20%20%20%20%20%20%20%20%20%20%20%20top%3A%200.0%25%3B%0A%20%20%20%20%20%20%20%20%20%20%20%20%20%20%20%20%7D%0A%20%20%20%20%20%20%20%20%20%20%20%20%3C/style%3E%0A%20%20%20%20%20%20%20%20%0A%3C/head%3E%0A%3Cbody%3E%20%20%20%20%0A%20%20%20%20%0A%20%20%20%20%20%20%20%20%20%20%20%20%3Cdiv%20class%3D%22folium-map%22%20id%3D%22map_2be4973deb41464995569b7a04f0bfae%22%20%3E%3C/div%3E%0A%20%20%20%20%20%20%20%20%0A%3C/body%3E%0A%3Cscript%3E%20%20%20%20%0A%20%20%20%20%0A%20%20%20%20%20%20%20%20%20%20%20%20var%20map_2be4973deb41464995569b7a04f0bfae%20%3D%20L.map%28%0A%20%20%20%20%20%20%20%20%20%20%20%20%20%20%20%20%22map_2be4973deb41464995569b7a04f0bfae%22%2C%0A%20%20%20%20%20%20%20%20%20%20%20%20%20%20%20%20%7B%0A%20%20%20%20%20%20%20%20%20%20%20%20%20%20%20%20%20%20%20%20center%3A%20%5B51.5051451%2C%20-0.0899515%5D%2C%0A%20%20%20%20%20%20%20%20%20%20%20%20%20%20%20%20%20%20%20%20crs%3A%20L.CRS.EPSG3857%2C%0A%20%20%20%20%20%20%20%20%20%20%20%20%20%20%20%20%20%20%20%20zoom%3A%2010%2C%0A%20%20%20%20%20%20%20%20%20%20%20%20%20%20%20%20%20%20%20%20zoomControl%3A%20true%2C%0A%20%20%20%20%20%20%20%20%20%20%20%20%20%20%20%20%20%20%20%20preferCanvas%3A%20false%2C%0A%20%20%20%20%20%20%20%20%20%20%20%20%20%20%20%20%7D%0A%20%20%20%20%20%20%20%20%20%20%20%20%29%3B%0A%0A%20%20%20%20%20%20%20%20%20%20%20%20%0A%0A%20%20%20%20%20%20%20%20%0A%20%20%20%20%0A%20%20%20%20%20%20%20%20%20%20%20%20var%20tile_layer_600421e65ed349c79caf7e0480f86c65%20%3D%20L.tileLayer%28%0A%20%20%20%20%20%20%20%20%20%20%20%20%20%20%20%20%22https%3A//%7Bs%7D.tile.openstreetmap.org/%7Bz%7D/%7Bx%7D/%7By%7D.png%22%2C%0A%20%20%20%20%20%20%20%20%20%20%20%20%20%20%20%20%7B%22attribution%22%3A%20%22Data%20by%20%5Cu0026copy%3B%20%5Cu003ca%20href%3D%5C%22http%3A//openstreetmap.org%5C%22%5Cu003eOpenStreetMap%5Cu003c/a%5Cu003e%2C%20under%20%5Cu003ca%20href%3D%5C%22http%3A//www.openstreetmap.org/copyright%5C%22%5Cu003eODbL%5Cu003c/a%5Cu003e.%22%2C%20%22detectRetina%22%3A%20false%2C%20%22maxNativeZoom%22%3A%2018%2C%20%22maxZoom%22%3A%2018%2C%20%22minZoom%22%3A%200%2C%20%22noWrap%22%3A%20false%2C%20%22opacity%22%3A%201%2C%20%22subdomains%22%3A%20%22abc%22%2C%20%22tms%22%3A%20false%7D%0A%20%20%20%20%20%20%20%20%20%20%20%20%29.addTo%28map_2be4973deb41464995569b7a04f0bfae%29%3B%0A%20%20%20%20%20%20%20%20%0A%20%20%20%20%0A%20%20%20%20%20%20%20%20%20%20%20%20var%20marker_ba3a8fe420a9421580ed3b53d5b578b5%20%3D%20L.marker%28%0A%20%20%20%20%20%20%20%20%20%20%20%20%20%20%20%20%5B51.5051451%2C%20-0.0899515%5D%2C%0A%20%20%20%20%20%20%20%20%20%20%20%20%20%20%20%20%7B%7D%0A%20%20%20%20%20%20%20%20%20%20%20%20%29.addTo%28map_2be4973deb41464995569b7a04f0bfae%29%3B%0A%20%20%20%20%20%20%20%20%0A%20%20%20%20%0A%20%20%20%20%20%20%20%20var%20popup_2b1dc1e2ab1a48a68d06a3d73e2538ff%20%3D%20L.popup%28%7B%22maxWidth%22%3A%20%22100%25%22%7D%29%3B%0A%0A%20%20%20%20%20%20%20%20%0A%20%20%20%20%20%20%20%20%20%20%20%20var%20html_9631c5cc0d1d407695749314049b9aed%20%3D%20%24%28%60%3Cdiv%20id%3D%22html_9631c5cc0d1d407695749314049b9aed%22%20style%3D%22width%3A%20100.0%25%3B%20height%3A%20100.0%25%3B%22%3E%28%27Padella%20%2C%20%C2%A3%C2%A3%20%2C%20%27%2C%204.5%29%3C/div%3E%60%29%5B0%5D%3B%0A%20%20%20%20%20%20%20%20%20%20%20%20popup_2b1dc1e2ab1a48a68d06a3d73e2538ff.setContent%28html_9631c5cc0d1d407695749314049b9aed%29%3B%0A%20%20%20%20%20%20%20%20%0A%0A%20%20%20%20%20%20%20%20marker_ba3a8fe420a9421580ed3b53d5b578b5.bindPopup%28popup_2b1dc1e2ab1a48a68d06a3d73e2538ff%29%0A%20%20%20%20%20%20%20%20%3B%0A%0A%20%20%20%20%20%20%20%20%0A%20%20%20%20%0A%20%20%20%20%0A%20%20%20%20%20%20%20%20%20%20%20%20var%20marker_363606fdfcf74037901093b75b1c84b5%20%3D%20L.marker%28%0A%20%20%20%20%20%20%20%20%20%20%20%20%20%20%20%20%5B51.5173110961914%2C%20-0.133615002036095%5D%2C%0A%20%20%20%20%20%20%20%20%20%20%20%20%20%20%20%20%7B%7D%0A%20%20%20%20%20%20%20%20%20%20%20%20%29.addTo%28map_2be4973deb41464995569b7a04f0bfae%29%3B%0A%20%20%20%20%20%20%20%20%0A%20%20%20%20%0A%20%20%20%20%20%20%20%20var%20popup_7966aa8b22c04b8dae6bb666eba1186c%20%3D%20L.popup%28%7B%22maxWidth%22%3A%20%22100%25%22%7D%29%3B%0A%0A%20%20%20%20%20%20%20%20%0A%20%20%20%20%20%20%20%20%20%20%20%20var%20html_6663648e2df44b66bb0ba27e4c9636eb%20%3D%20%24%28%60%3Cdiv%20id%3D%22html_6663648e2df44b66bb0ba27e4c9636eb%22%20style%3D%22width%3A%20100.0%25%3B%20height%3A%20100.0%25%3B%22%3E%28%27Circolo%20Popolare%20%2C%20Missing%20%2C%20%27%2C%204.5%29%3C/div%3E%60%29%5B0%5D%3B%0A%20%20%20%20%20%20%20%20%20%20%20%20popup_7966aa8b22c04b8dae6bb666eba1186c.setContent%28html_6663648e2df44b66bb0ba27e4c9636eb%29%3B%0A%20%20%20%20%20%20%20%20%0A%0A%20%20%20%20%20%20%20%20marker_363606fdfcf74037901093b75b1c84b5.bindPopup%28popup_7966aa8b22c04b8dae6bb666eba1186c%29%0A%20%20%20%20%20%20%20%20%3B%0A%0A%20%20%20%20%20%20%20%20%0A%20%20%20%20%0A%20%20%20%20%0A%20%20%20%20%20%20%20%20%20%20%20%20var%20marker_2bf192153ffc4b528f5573c85345ee0c%20%3D%20L.marker%28%0A%20%20%20%20%20%20%20%20%20%20%20%20%20%20%20%20%5B51.5116836912991%2C%20-0.133953506589517%5D%2C%0A%20%20%20%20%20%20%20%20%20%20%20%20%20%20%20%20%7B%7D%0A%20%20%20%20%20%20%20%20%20%20%20%20%29.addTo%28map_2be4973deb41464995569b7a04f0bfae%29%3B%0A%20%20%20%20%20%20%20%20%0A%20%20%20%20%0A%20%20%20%20%20%20%20%20var%20popup_81abc4ba4d8142258bfc1af419edb049%20%3D%20L.popup%28%7B%22maxWidth%22%3A%20%22100%25%22%7D%29%3B%0A%0A%20%20%20%20%20%20%20%20%0A%20%20%20%20%20%20%20%20%20%20%20%20var%20html_c4b676cac04944b9bdd69216a8a22976%20%3D%20%24%28%60%3Cdiv%20id%3D%22html_c4b676cac04944b9bdd69216a8a22976%22%20style%3D%22width%3A%20100.0%25%3B%20height%3A%20100.0%25%3B%22%3E%28%27Bocca%20Di%20Lupo%20%2C%20%C2%A3%C2%A3%C2%A3%20%2C%20%27%2C%204.0%29%3C/div%3E%60%29%5B0%5D%3B%0A%20%20%20%20%20%20%20%20%20%20%20%20popup_81abc4ba4d8142258bfc1af419edb049.setContent%28html_c4b676cac04944b9bdd69216a8a22976%29%3B%0A%20%20%20%20%20%20%20%20%0A%0A%20%20%20%20%20%20%20%20marker_2bf192153ffc4b528f5573c85345ee0c.bindPopup%28popup_81abc4ba4d8142258bfc1af419edb049%29%0A%20%20%20%20%20%20%20%20%3B%0A%0A%20%20%20%20%20%20%20%20%0A%20%20%20%20%0A%20%20%20%20%0A%20%20%20%20%20%20%20%20%20%20%20%20var%20marker_33a6bb5b08674b709cb110e900d21e1f%20%3D%20L.marker%28%0A%20%20%20%20%20%20%20%20%20%20%20%20%20%20%20%20%5B51.4987228161749%2C%20-0.183567237647306%5D%2C%0A%20%20%20%20%20%20%20%20%20%20%20%20%20%20%20%20%7B%7D%0A%20%20%20%20%20%20%20%20%20%20%20%20%29.addTo%28map_2be4973deb41464995569b7a04f0bfae%29%3B%0A%20%20%20%20%20%20%20%20%0A%20%20%20%20%0A%20%20%20%20%20%20%20%20var%20popup_98a3015bdcde44659c373a8aa963d383%20%3D%20L.popup%28%7B%22maxWidth%22%3A%20%22100%25%22%7D%29%3B%0A%0A%20%20%20%20%20%20%20%20%0A%20%20%20%20%20%20%20%20%20%20%20%20var%20html_55d6dd1b89e84b36978fa2550b5e5474%20%3D%20%24%28%60%3Cdiv%20id%3D%22html_55d6dd1b89e84b36978fa2550b5e5474%22%20style%3D%22width%3A%20100.0%25%3B%20height%3A%20100.0%25%3B%22%3E%28%27Da%20Mario%20Restaurant%20%2C%20%C2%A3%C2%A3%20%2C%20%27%2C%204.5%29%3C/div%3E%60%29%5B0%5D%3B%0A%20%20%20%20%20%20%20%20%20%20%20%20popup_98a3015bdcde44659c373a8aa963d383.setContent%28html_55d6dd1b89e84b36978fa2550b5e5474%29%3B%0A%20%20%20%20%20%20%20%20%0A%0A%20%20%20%20%20%20%20%20marker_33a6bb5b08674b709cb110e900d21e1f.bindPopup%28popup_98a3015bdcde44659c373a8aa963d383%29%0A%20%20%20%20%20%20%20%20%3B%0A%0A%20%20%20%20%20%20%20%20%0A%20%20%20%20%0A%20%20%20%20%0A%20%20%20%20%20%20%20%20%20%20%20%20var%20marker_0fb43e3c33824b75a17a4ba3e4da6e56%20%3D%20L.marker%28%0A%20%20%20%20%20%20%20%20%20%20%20%20%20%20%20%20%5B51.4985799%2C%20-0.2000019%5D%2C%0A%20%20%20%20%20%20%20%20%20%20%20%20%20%20%20%20%7B%7D%0A%20%20%20%20%20%20%20%20%20%20%20%20%29.addTo%28map_2be4973deb41464995569b7a04f0bfae%29%3B%0A%20%20%20%20%20%20%20%20%0A%20%20%20%20%0A%20%20%20%20%20%20%20%20var%20popup_a84dd646f81f4f708f193e6b7f769d93%20%3D%20L.popup%28%7B%22maxWidth%22%3A%20%22100%25%22%7D%29%3B%0A%0A%20%20%20%20%20%20%20%20%0A%20%20%20%20%20%20%20%20%20%20%20%20var%20html_1a07f433af704e038103afd6adb60bf5%20%3D%20%24%28%60%3Cdiv%20id%3D%22html_1a07f433af704e038103afd6adb60bf5%22%20style%3D%22width%3A%20100.0%25%3B%20height%3A%20100.0%25%3B%22%3E%28%27Il%20Portico%20%2C%20%C2%A3%C2%A3%C2%A3%20%2C%20%27%2C%205.0%29%3C/div%3E%60%29%5B0%5D%3B%0A%20%20%20%20%20%20%20%20%20%20%20%20popup_a84dd646f81f4f708f193e6b7f769d93.setContent%28html_1a07f433af704e038103afd6adb60bf5%29%3B%0A%20%20%20%20%20%20%20%20%0A%0A%20%20%20%20%20%20%20%20marker_0fb43e3c33824b75a17a4ba3e4da6e56.bindPopup%28popup_a84dd646f81f4f708f193e6b7f769d93%29%0A%20%20%20%20%20%20%20%20%3B%0A%0A%20%20%20%20%20%20%20%20%0A%20%20%20%20%0A%20%20%20%20%0A%20%20%20%20%20%20%20%20%20%20%20%20var%20marker_6403454e2dcd410ab696090a4643f950%20%3D%20L.marker%28%0A%20%20%20%20%20%20%20%20%20%20%20%20%20%20%20%20%5B51.5095021385658%2C%20-0.135087305946757%5D%2C%0A%20%20%20%20%20%20%20%20%20%20%20%20%20%20%20%20%7B%7D%0A%20%20%20%20%20%20%20%20%20%20%20%20%29.addTo%28map_2be4973deb41464995569b7a04f0bfae%29%3B%0A%20%20%20%20%20%20%20%20%0A%20%20%20%20%0A%20%20%20%20%20%20%20%20var%20popup_154ce58648f6470c880607bbc9d13af9%20%3D%20L.popup%28%7B%22maxWidth%22%3A%20%22100%25%22%7D%29%3B%0A%0A%20%20%20%20%20%20%20%20%0A%20%20%20%20%20%20%20%20%20%20%20%20var%20html_e654cb28f4814de6bf500fa5757339f8%20%3D%20%24%28%60%3Cdiv%20id%3D%22html_e654cb28f4814de6bf500fa5757339f8%22%20style%3D%22width%3A%20100.0%25%3B%20height%3A%20100.0%25%3B%22%3E%28%27San%20Carlo%20Cicchetti%20%2C%20%C2%A3%C2%A3%C2%A3%20%2C%20%27%2C%204.0%29%3C/div%3E%60%29%5B0%5D%3B%0A%20%20%20%20%20%20%20%20%20%20%20%20popup_154ce58648f6470c880607bbc9d13af9.setContent%28html_e654cb28f4814de6bf500fa5757339f8%29%3B%0A%20%20%20%20%20%20%20%20%0A%0A%20%20%20%20%20%20%20%20marker_6403454e2dcd410ab696090a4643f950.bindPopup%28popup_154ce58648f6470c880607bbc9d13af9%29%0A%20%20%20%20%20%20%20%20%3B%0A%0A%20%20%20%20%20%20%20%20%0A%20%20%20%20%0A%20%20%20%20%0A%20%20%20%20%20%20%20%20%20%20%20%20var%20marker_3464c1050dea4aec90c74d5bfd6f9bf7%20%3D%20L.marker%28%0A%20%20%20%20%20%20%20%20%20%20%20%20%20%20%20%20%5B51.5290298461914%2C%20-0.129214003682137%5D%2C%0A%20%20%20%20%20%20%20%20%20%20%20%20%20%20%20%20%7B%7D%0A%20%20%20%20%20%20%20%20%20%20%20%20%29.addTo%28map_2be4973deb41464995569b7a04f0bfae%29%3B%0A%20%20%20%20%20%20%20%20%0A%20%20%20%20%0A%20%20%20%20%20%20%20%20var%20popup_55b8be41ed914129bf2ecc3d80ecf64e%20%3D%20L.popup%28%7B%22maxWidth%22%3A%20%22100%25%22%7D%29%3B%0A%0A%20%20%20%20%20%20%20%20%0A%20%20%20%20%20%20%20%20%20%20%20%20var%20html_b4f571e504034893a5c11567f6e27c1f%20%3D%20%24%28%60%3Cdiv%20id%3D%22html_b4f571e504034893a5c11567f6e27c1f%22%20style%3D%22width%3A%20100.0%25%3B%20height%3A%20100.0%25%3B%22%3E%28%27Albertini%20Restaurant%20%2C%20%C2%A3%20%2C%20%27%2C%204.5%29%3C/div%3E%60%29%5B0%5D%3B%0A%20%20%20%20%20%20%20%20%20%20%20%20popup_55b8be41ed914129bf2ecc3d80ecf64e.setContent%28html_b4f571e504034893a5c11567f6e27c1f%29%3B%0A%20%20%20%20%20%20%20%20%0A%0A%20%20%20%20%20%20%20%20marker_3464c1050dea4aec90c74d5bfd6f9bf7.bindPopup%28popup_55b8be41ed914129bf2ecc3d80ecf64e%29%0A%20%20%20%20%20%20%20%20%3B%0A%0A%20%20%20%20%20%20%20%20%0A%20%20%20%20%0A%20%20%20%20%0A%20%20%20%20%20%20%20%20%20%20%20%20var%20marker_5a8d00a2ea3a4cd4b2dce468090e93ed%20%3D%20L.marker%28%0A%20%20%20%20%20%20%20%20%20%20%20%20%20%20%20%20%5B51.510953%2C%20-0.139739%5D%2C%0A%20%20%20%20%20%20%20%20%20%20%20%20%20%20%20%20%7B%7D%0A%20%20%20%20%20%20%20%20%20%20%20%20%29.addTo%28map_2be4973deb41464995569b7a04f0bfae%29%3B%0A%20%20%20%20%20%20%20%20%0A%20%20%20%20%0A%20%20%20%20%20%20%20%20var%20popup_cdec036a9f5c43fb91a56822dceec7b2%20%3D%20L.popup%28%7B%22maxWidth%22%3A%20%22100%25%22%7D%29%3B%0A%0A%20%20%20%20%20%20%20%20%0A%20%20%20%20%20%20%20%20%20%20%20%20var%20html_8fec6803768f417e80597ef333112867%20%3D%20%24%28%60%3Cdiv%20id%3D%22html_8fec6803768f417e80597ef333112867%22%20style%3D%22width%3A%20100.0%25%3B%20height%3A%20100.0%25%3B%22%3E%28%27Piccolino%20%2C%20%C2%A3%C2%A3%20%2C%20%27%2C%204.0%29%3C/div%3E%60%29%5B0%5D%3B%0A%20%20%20%20%20%20%20%20%20%20%20%20popup_cdec036a9f5c43fb91a56822dceec7b2.setContent%28html_8fec6803768f417e80597ef333112867%29%3B%0A%20%20%20%20%20%20%20%20%0A%0A%20%20%20%20%20%20%20%20marker_5a8d00a2ea3a4cd4b2dce468090e93ed.bindPopup%28popup_cdec036a9f5c43fb91a56822dceec7b2%29%0A%20%20%20%20%20%20%20%20%3B%0A%0A%20%20%20%20%20%20%20%20%0A%20%20%20%20%0A%20%20%20%20%0A%20%20%20%20%20%20%20%20%20%20%20%20var%20marker_deec398abc9640ab99220be7e0b32203%20%3D%20L.marker%28%0A%20%20%20%20%20%20%20%20%20%20%20%20%20%20%20%20%5B51.51004817%2C%20-0.14055809%5D%2C%0A%20%20%20%20%20%20%20%20%20%20%20%20%20%20%20%20%7B%7D%0A%20%20%20%20%20%20%20%20%20%20%20%20%29.addTo%28map_2be4973deb41464995569b7a04f0bfae%29%3B%0A%20%20%20%20%20%20%20%20%0A%20%20%20%20%0A%20%20%20%20%20%20%20%20var%20popup_1d67b25bdac5455ca093f02e9d5179dc%20%3D%20L.popup%28%7B%22maxWidth%22%3A%20%22100%25%22%7D%29%3B%0A%0A%20%20%20%20%20%20%20%20%0A%20%20%20%20%20%20%20%20%20%20%20%20var%20html_1d1acd8d771649018c08f5b3fc685a8e%20%3D%20%24%28%60%3Cdiv%20id%3D%22html_1d1acd8d771649018c08f5b3fc685a8e%22%20style%3D%22width%3A%20100.0%25%3B%20height%3A%20100.0%25%3B%22%3E%28%22Cecconi%27s%20Mayfair%20%2C%20%C2%A3%C2%A3%C2%A3%20%2C%20%22%2C%204.0%29%3C/div%3E%60%29%5B0%5D%3B%0A%20%20%20%20%20%20%20%20%20%20%20%20popup_1d67b25bdac5455ca093f02e9d5179dc.setContent%28html_1d1acd8d771649018c08f5b3fc685a8e%29%3B%0A%20%20%20%20%20%20%20%20%0A%0A%20%20%20%20%20%20%20%20marker_deec398abc9640ab99220be7e0b32203.bindPopup%28popup_1d67b25bdac5455ca093f02e9d5179dc%29%0A%20%20%20%20%20%20%20%20%3B%0A%0A%20%20%20%20%20%20%20%20%0A%20%20%20%20%0A%20%20%20%20%0A%20%20%20%20%20%20%20%20%20%20%20%20var%20marker_a42c1594e3ab415fbab6d0385534ec90%20%3D%20L.marker%28%0A%20%20%20%20%20%20%20%20%20%20%20%20%20%20%20%20%5B51.5229682922363%2C%20-0.105994999408722%5D%2C%0A%20%20%20%20%20%20%20%20%20%20%20%20%20%20%20%20%7B%7D%0A%20%20%20%20%20%20%20%20%20%20%20%20%29.addTo%28map_2be4973deb41464995569b7a04f0bfae%29%3B%0A%20%20%20%20%20%20%20%20%0A%20%20%20%20%0A%20%20%20%20%20%20%20%20var%20popup_bedd29264d9845309f2cd1e7bdfe91f1%20%3D%20L.popup%28%7B%22maxWidth%22%3A%20%22100%25%22%7D%29%3B%0A%0A%20%20%20%20%20%20%20%20%0A%20%20%20%20%20%20%20%20%20%20%20%20var%20html_296117a30f454e6ebdcd485b4b76b17e%20%3D%20%24%28%60%3Cdiv%20id%3D%22html_296117a30f454e6ebdcd485b4b76b17e%22%20style%3D%22width%3A%20100.0%25%3B%20height%3A%20100.0%25%3B%22%3E%28%27La%20Rocchetta%20%2C%20%C2%A3%20%2C%20%27%2C%205.0%29%3C/div%3E%60%29%5B0%5D%3B%0A%20%20%20%20%20%20%20%20%20%20%20%20popup_bedd29264d9845309f2cd1e7bdfe91f1.setContent%28html_296117a30f454e6ebdcd485b4b76b17e%29%3B%0A%20%20%20%20%20%20%20%20%0A%0A%20%20%20%20%20%20%20%20marker_a42c1594e3ab415fbab6d0385534ec90.bindPopup%28popup_bedd29264d9845309f2cd1e7bdfe91f1%29%0A%20%20%20%20%20%20%20%20%3B%0A%0A%20%20%20%20%20%20%20%20%0A%20%20%20%20%0A%20%20%20%20%0A%20%20%20%20%20%20%20%20%20%20%20%20var%20marker_2b07f2c5dcbe4f99bea505ff63f40e64%20%3D%20L.marker%28%0A%20%20%20%20%20%20%20%20%20%20%20%20%20%20%20%20%5B51.5184731521465%2C%20-0.0783929228782654%5D%2C%0A%20%20%20%20%20%20%20%20%20%20%20%20%20%20%20%20%7B%7D%0A%20%20%20%20%20%20%20%20%20%20%20%20%29.addTo%28map_2be4973deb41464995569b7a04f0bfae%29%3B%0A%20%20%20%20%20%20%20%20%0A%20%20%20%20%0A%20%20%20%20%20%20%20%20var%20popup_3422cc62b59e4b9ca4b2e6c81f9da5d9%20%3D%20L.popup%28%7B%22maxWidth%22%3A%20%22100%25%22%7D%29%3B%0A%0A%20%20%20%20%20%20%20%20%0A%20%20%20%20%20%20%20%20%20%20%20%20var%20html_964466eb3e704532b9a6df484ca4e972%20%3D%20%24%28%60%3Cdiv%20id%3D%22html_964466eb3e704532b9a6df484ca4e972%22%20style%3D%22width%3A%20100.0%25%3B%20height%3A%20100.0%25%3B%22%3E%28%27Canto%20Corvino%20%2C%20Missing%20%2C%20%27%2C%204.5%29%3C/div%3E%60%29%5B0%5D%3B%0A%20%20%20%20%20%20%20%20%20%20%20%20popup_3422cc62b59e4b9ca4b2e6c81f9da5d9.setContent%28html_964466eb3e704532b9a6df484ca4e972%29%3B%0A%20%20%20%20%20%20%20%20%0A%0A%20%20%20%20%20%20%20%20marker_2b07f2c5dcbe4f99bea505ff63f40e64.bindPopup%28popup_3422cc62b59e4b9ca4b2e6c81f9da5d9%29%0A%20%20%20%20%20%20%20%20%3B%0A%0A%20%20%20%20%20%20%20%20%0A%20%20%20%20%0A%20%20%20%20%0A%20%20%20%20%20%20%20%20%20%20%20%20var%20marker_2a8769215ef5409ca4ba07755cd5eede%20%3D%20L.marker%28%0A%20%20%20%20%20%20%20%20%20%20%20%20%20%20%20%20%5B51.4617348041813%2C%20-0.11336088180542%5D%2C%0A%20%20%20%20%20%20%20%20%20%20%20%20%20%20%20%20%7B%7D%0A%20%20%20%20%20%20%20%20%20%20%20%20%29.addTo%28map_2be4973deb41464995569b7a04f0bfae%29%3B%0A%20%20%20%20%20%20%20%20%0A%20%20%20%20%0A%20%20%20%20%20%20%20%20var%20popup_fd35a84f37144b66858b06cfa0360d6f%20%3D%20L.popup%28%7B%22maxWidth%22%3A%20%22100%25%22%7D%29%3B%0A%0A%20%20%20%20%20%20%20%20%0A%20%20%20%20%20%20%20%20%20%20%20%20var%20html_6c4e1f053e8b41bb9fee4524b49cf6ed%20%3D%20%24%28%60%3Cdiv%20id%3D%22html_6c4e1f053e8b41bb9fee4524b49cf6ed%22%20style%3D%22width%3A%20100.0%25%3B%20height%3A%20100.0%25%3B%22%3E%28%27Franco%20Manca%20%2C%20%C2%A3%20%2C%20%27%2C%204.5%29%3C/div%3E%60%29%5B0%5D%3B%0A%20%20%20%20%20%20%20%20%20%20%20%20popup_fd35a84f37144b66858b06cfa0360d6f.setContent%28html_6c4e1f053e8b41bb9fee4524b49cf6ed%29%3B%0A%20%20%20%20%20%20%20%20%0A%0A%20%20%20%20%20%20%20%20marker_2a8769215ef5409ca4ba07755cd5eede.bindPopup%28popup_fd35a84f37144b66858b06cfa0360d6f%29%0A%20%20%20%20%20%20%20%20%3B%0A%0A%20%20%20%20%20%20%20%20%0A%20%20%20%20%0A%20%20%20%20%0A%20%20%20%20%20%20%20%20%20%20%20%20var%20marker_318f8c7f0ed54b6eb0e4688cca76241b%20%3D%20L.marker%28%0A%20%20%20%20%20%20%20%20%20%20%20%20%20%20%20%20%5B51.511549%2C%20-0.13251%5D%2C%0A%20%20%20%20%20%20%20%20%20%20%20%20%20%20%20%20%7B%7D%0A%20%20%20%20%20%20%20%20%20%20%20%20%29.addTo%28map_2be4973deb41464995569b7a04f0bfae%29%3B%0A%20%20%20%20%20%20%20%20%0A%20%20%20%20%0A%20%20%20%20%20%20%20%20var%20popup_42f250d3b13d4b9ea5014c8ca4bd5808%20%3D%20L.popup%28%7B%22maxWidth%22%3A%20%22100%25%22%7D%29%3B%0A%0A%20%20%20%20%20%20%20%20%0A%20%20%20%20%20%20%20%20%20%20%20%20var%20html_3b06587d3c254c1298632e1e724bd324%20%3D%20%24%28%60%3Cdiv%20id%3D%22html_3b06587d3c254c1298632e1e724bd324%22%20style%3D%22width%3A%20100.0%25%3B%20height%3A%20100.0%25%3B%22%3E%28%27Astoria%20%2C%20Missing%20%2C%20%27%2C%204.5%29%3C/div%3E%60%29%5B0%5D%3B%0A%20%20%20%20%20%20%20%20%20%20%20%20popup_42f250d3b13d4b9ea5014c8ca4bd5808.setContent%28html_3b06587d3c254c1298632e1e724bd324%29%3B%0A%20%20%20%20%20%20%20%20%0A%0A%20%20%20%20%20%20%20%20marker_318f8c7f0ed54b6eb0e4688cca76241b.bindPopup%28popup_42f250d3b13d4b9ea5014c8ca4bd5808%29%0A%20%20%20%20%20%20%20%20%3B%0A%0A%20%20%20%20%20%20%20%20%0A%20%20%20%20%0A%20%20%20%20%0A%20%20%20%20%20%20%20%20%20%20%20%20var%20marker_ac5c4e93ab724ba1a726003331fe1911%20%3D%20L.marker%28%0A%20%20%20%20%20%20%20%20%20%20%20%20%20%20%20%20%5B51.5370894%2C%20-0.1858321%5D%2C%0A%20%20%20%20%20%20%20%20%20%20%20%20%20%20%20%20%7B%7D%0A%20%20%20%20%20%20%20%20%20%20%20%20%29.addTo%28map_2be4973deb41464995569b7a04f0bfae%29%3B%0A%20%20%20%20%20%20%20%20%0A%20%20%20%20%0A%20%20%20%20%20%20%20%20var%20popup_6efa51a5b37d42c2b04709684d8eb3b2%20%3D%20L.popup%28%7B%22maxWidth%22%3A%20%22100%25%22%7D%29%3B%0A%0A%20%20%20%20%20%20%20%20%0A%20%20%20%20%20%20%20%20%20%20%20%20var%20html_6ab4e0fe9a0444249df0e5a302196cae%20%3D%20%24%28%60%3Cdiv%20id%3D%22html_6ab4e0fe9a0444249df0e5a302196cae%22%20style%3D%22width%3A%20100.0%25%3B%20height%3A%20100.0%25%3B%22%3E%28%27Morso%20Restaurant%20%2C%20Missing%20%2C%20%27%2C%205.0%29%3C/div%3E%60%29%5B0%5D%3B%0A%20%20%20%20%20%20%20%20%20%20%20%20popup_6efa51a5b37d42c2b04709684d8eb3b2.setContent%28html_6ab4e0fe9a0444249df0e5a302196cae%29%3B%0A%20%20%20%20%20%20%20%20%0A%0A%20%20%20%20%20%20%20%20marker_ac5c4e93ab724ba1a726003331fe1911.bindPopup%28popup_6efa51a5b37d42c2b04709684d8eb3b2%29%0A%20%20%20%20%20%20%20%20%3B%0A%0A%20%20%20%20%20%20%20%20%0A%20%20%20%20%0A%20%20%20%20%0A%20%20%20%20%20%20%20%20%20%20%20%20var%20marker_c9a389057b9e434caf1e22a7761b949c%20%3D%20L.marker%28%0A%20%20%20%20%20%20%20%20%20%20%20%20%20%20%20%20%5B51.514853%2C%20-0.1772311%5D%2C%0A%20%20%20%20%20%20%20%20%20%20%20%20%20%20%20%20%7B%7D%0A%20%20%20%20%20%20%20%20%20%20%20%20%29.addTo%28map_2be4973deb41464995569b7a04f0bfae%29%3B%0A%20%20%20%20%20%20%20%20%0A%20%20%20%20%0A%20%20%20%20%20%20%20%20var%20popup_66c44132cddb4cdf9b4e93988a8b6525%20%3D%20L.popup%28%7B%22maxWidth%22%3A%20%22100%25%22%7D%29%3B%0A%0A%20%20%20%20%20%20%20%20%0A%20%20%20%20%20%20%20%20%20%20%20%20var%20html_a990244e945545ef90b0c14356a51451%20%3D%20%24%28%60%3Cdiv%20id%3D%22html_a990244e945545ef90b0c14356a51451%22%20style%3D%22width%3A%20100.0%25%3B%20height%3A%20100.0%25%3B%22%3E%28%27Bizzarro%20%2C%20%C2%A3%C2%A3%20%2C%20%27%2C%204.0%29%3C/div%3E%60%29%5B0%5D%3B%0A%20%20%20%20%20%20%20%20%20%20%20%20popup_66c44132cddb4cdf9b4e93988a8b6525.setContent%28html_a990244e945545ef90b0c14356a51451%29%3B%0A%20%20%20%20%20%20%20%20%0A%0A%20%20%20%20%20%20%20%20marker_c9a389057b9e434caf1e22a7761b949c.bindPopup%28popup_66c44132cddb4cdf9b4e93988a8b6525%29%0A%20%20%20%20%20%20%20%20%3B%0A%0A%20%20%20%20%20%20%20%20%0A%20%20%20%20%0A%20%20%20%20%0A%20%20%20%20%20%20%20%20%20%20%20%20var%20marker_c05a372f6b8344fb8f9a5501cec6fcdb%20%3D%20L.marker%28%0A%20%20%20%20%20%20%20%20%20%20%20%20%20%20%20%20%5B51.5115510342144%2C%20-0.187024012207985%5D%2C%0A%20%20%20%20%20%20%20%20%20%20%20%20%20%20%20%20%7B%7D%0A%20%20%20%20%20%20%20%20%20%20%20%20%29.addTo%28map_2be4973deb41464995569b7a04f0bfae%29%3B%0A%20%20%20%20%20%20%20%20%0A%20%20%20%20%0A%20%20%20%20%20%20%20%20var%20popup_c75b037e4d8e49f7a25cf221574a96b1%20%3D%20L.popup%28%7B%22maxWidth%22%3A%20%22100%25%22%7D%29%3B%0A%0A%20%20%20%20%20%20%20%20%0A%20%20%20%20%20%20%20%20%20%20%20%20var%20html_5540fec4ffb64000a99297e8c80fc1f3%20%3D%20%24%28%60%3Cdiv%20id%3D%22html_5540fec4ffb64000a99297e8c80fc1f3%22%20style%3D%22width%3A%20100.0%25%3B%20height%3A%20100.0%25%3B%22%3E%28%27Mamma%20Mia%20%20%2C%20%C2%A3%C2%A3%20%2C%20%27%2C%204.5%29%3C/div%3E%60%29%5B0%5D%3B%0A%20%20%20%20%20%20%20%20%20%20%20%20popup_c75b037e4d8e49f7a25cf221574a96b1.setContent%28html_5540fec4ffb64000a99297e8c80fc1f3%29%3B%0A%20%20%20%20%20%20%20%20%0A%0A%20%20%20%20%20%20%20%20marker_c05a372f6b8344fb8f9a5501cec6fcdb.bindPopup%28popup_c75b037e4d8e49f7a25cf221574a96b1%29%0A%20%20%20%20%20%20%20%20%3B%0A%0A%20%20%20%20%20%20%20%20%0A%20%20%20%20%0A%20%20%20%20%0A%20%20%20%20%20%20%20%20%20%20%20%20var%20marker_781f6a653e3a44cfb096a44b26289ba7%20%3D%20L.marker%28%0A%20%20%20%20%20%20%20%20%20%20%20%20%20%20%20%20%5B51.5136346213443%2C%20-0.130298037090699%5D%2C%0A%20%20%20%20%20%20%20%20%20%20%20%20%20%20%20%20%7B%7D%0A%20%20%20%20%20%20%20%20%20%20%20%20%29.addTo%28map_2be4973deb41464995569b7a04f0bfae%29%3B%0A%20%20%20%20%20%20%20%20%0A%20%20%20%20%0A%20%20%20%20%20%20%20%20var%20popup_71472ccd1556460fbb86d3de4ca9be0a%20%3D%20L.popup%28%7B%22maxWidth%22%3A%20%22100%25%22%7D%29%3B%0A%0A%20%20%20%20%20%20%20%20%0A%20%20%20%20%20%20%20%20%20%20%20%20var%20html_fa4a1997b25f481eb7f37cfc8b28d90e%20%3D%20%24%28%60%3Cdiv%20id%3D%22html_fa4a1997b25f481eb7f37cfc8b28d90e%22%20style%3D%22width%3A%20100.0%25%3B%20height%3A%20100.0%25%3B%22%3E%28%27La%20Porchetta%20Pollo%20Bar%20%2C%20%C2%A3%20%2C%20%27%2C%204.0%29%3C/div%3E%60%29%5B0%5D%3B%0A%20%20%20%20%20%20%20%20%20%20%20%20popup_71472ccd1556460fbb86d3de4ca9be0a.setContent%28html_fa4a1997b25f481eb7f37cfc8b28d90e%29%3B%0A%20%20%20%20%20%20%20%20%0A%0A%20%20%20%20%20%20%20%20marker_781f6a653e3a44cfb096a44b26289ba7.bindPopup%28popup_71472ccd1556460fbb86d3de4ca9be0a%29%0A%20%20%20%20%20%20%20%20%3B%0A%0A%20%20%20%20%20%20%20%20%0A%20%20%20%20%0A%20%20%20%20%0A%20%20%20%20%20%20%20%20%20%20%20%20var%20marker_b3f739dc59d64838a2b1bbe335563ae5%20%3D%20L.marker%28%0A%20%20%20%20%20%20%20%20%20%20%20%20%20%20%20%20%5B51.5412931%2C%20-0.1385957%5D%2C%0A%20%20%20%20%20%20%20%20%20%20%20%20%20%20%20%20%7B%7D%0A%20%20%20%20%20%20%20%20%20%20%20%20%29.addTo%28map_2be4973deb41464995569b7a04f0bfae%29%3B%0A%20%20%20%20%20%20%20%20%0A%20%20%20%20%0A%20%20%20%20%20%20%20%20var%20popup_ceb1085a723d47ed9ae9ac157d68c33b%20%3D%20L.popup%28%7B%22maxWidth%22%3A%20%22100%25%22%7D%29%3B%0A%0A%20%20%20%20%20%20%20%20%0A%20%20%20%20%20%20%20%20%20%20%20%20var%20html_ad62bb5087d04c4bb7a34bbdc65710ae%20%3D%20%24%28%60%3Cdiv%20id%3D%22html_ad62bb5087d04c4bb7a34bbdc65710ae%22%20style%3D%22width%3A%20100.0%25%3B%20height%3A%20100.0%25%3B%22%3E%28%27Domo%2094%20%2C%20%C2%A3%C2%A3%20%2C%20%27%2C%204.5%29%3C/div%3E%60%29%5B0%5D%3B%0A%20%20%20%20%20%20%20%20%20%20%20%20popup_ceb1085a723d47ed9ae9ac157d68c33b.setContent%28html_ad62bb5087d04c4bb7a34bbdc65710ae%29%3B%0A%20%20%20%20%20%20%20%20%0A%0A%20%20%20%20%20%20%20%20marker_b3f739dc59d64838a2b1bbe335563ae5.bindPopup%28popup_ceb1085a723d47ed9ae9ac157d68c33b%29%0A%20%20%20%20%20%20%20%20%3B%0A%0A%20%20%20%20%20%20%20%20%0A%20%20%20%20%0A%20%20%20%20%0A%20%20%20%20%20%20%20%20%20%20%20%20var%20marker_1ab701678eab4b008b2e661d7bf0d9a9%20%3D%20L.marker%28%0A%20%20%20%20%20%20%20%20%20%20%20%20%20%20%20%20%5B51.5109872%2C%20-0.1261001%5D%2C%0A%20%20%20%20%20%20%20%20%20%20%20%20%20%20%20%20%7B%7D%0A%20%20%20%20%20%20%20%20%20%20%20%20%29.addTo%28map_2be4973deb41464995569b7a04f0bfae%29%3B%0A%20%20%20%20%20%20%20%20%0A%20%20%20%20%0A%20%20%20%20%20%20%20%20var%20popup_27e2f09274f84326aedc53c07865dd43%20%3D%20L.popup%28%7B%22maxWidth%22%3A%20%22100%25%22%7D%29%3B%0A%0A%20%20%20%20%20%20%20%20%0A%20%20%20%20%20%20%20%20%20%20%20%20var%20html_2b07c1d52d6c40979ac0b1ca4e77587b%20%3D%20%24%28%60%3Cdiv%20id%3D%22html_2b07c1d52d6c40979ac0b1ca4e77587b%22%20style%3D%22width%3A%20100.0%25%3B%20height%3A%20100.0%25%3B%22%3E%28%22Giovanni%27s%20of%20Covent%20Garden%20%2C%20%C2%A3%C2%A3%C2%A3%20%2C%20%22%2C%204.5%29%3C/div%3E%60%29%5B0%5D%3B%0A%20%20%20%20%20%20%20%20%20%20%20%20popup_27e2f09274f84326aedc53c07865dd43.setContent%28html_2b07c1d52d6c40979ac0b1ca4e77587b%29%3B%0A%20%20%20%20%20%20%20%20%0A%0A%20%20%20%20%20%20%20%20marker_1ab701678eab4b008b2e661d7bf0d9a9.bindPopup%28popup_27e2f09274f84326aedc53c07865dd43%29%0A%20%20%20%20%20%20%20%20%3B%0A%0A%20%20%20%20%20%20%20%20%0A%20%20%20%20%0A%20%20%20%20%0A%20%20%20%20%20%20%20%20%20%20%20%20var%20marker_2cb34421f6394ff4ad0d133d6e31967f%20%3D%20L.marker%28%0A%20%20%20%20%20%20%20%20%20%20%20%20%20%20%20%20%5B51.519641656007%2C%20-0.1558836672686%5D%2C%0A%20%20%20%20%20%20%20%20%20%20%20%20%20%20%20%20%7B%7D%0A%20%20%20%20%20%20%20%20%20%20%20%20%29.addTo%28map_2be4973deb41464995569b7a04f0bfae%29%3B%0A%20%20%20%20%20%20%20%20%0A%20%20%20%20%0A%20%20%20%20%20%20%20%20var%20popup_a467253a1e6544faa885da8dee18392f%20%3D%20L.popup%28%7B%22maxWidth%22%3A%20%22100%25%22%7D%29%3B%0A%0A%20%20%20%20%20%20%20%20%0A%20%20%20%20%20%20%20%20%20%20%20%20var%20html_2e61523560564ede815eccc634a4b0ad%20%3D%20%24%28%60%3Cdiv%20id%3D%22html_2e61523560564ede815eccc634a4b0ad%22%20style%3D%22width%3A%20100.0%25%3B%20height%3A%20100.0%25%3B%22%3E%28%27Anacapri%20Restaurant%20%2C%20%C2%A3%C2%A3%C2%A3%20%2C%20%27%2C%204.5%29%3C/div%3E%60%29%5B0%5D%3B%0A%20%20%20%20%20%20%20%20%20%20%20%20popup_a467253a1e6544faa885da8dee18392f.setContent%28html_2e61523560564ede815eccc634a4b0ad%29%3B%0A%20%20%20%20%20%20%20%20%0A%0A%20%20%20%20%20%20%20%20marker_2cb34421f6394ff4ad0d133d6e31967f.bindPopup%28popup_a467253a1e6544faa885da8dee18392f%29%0A%20%20%20%20%20%20%20%20%3B%0A%0A%20%20%20%20%20%20%20%20%0A%20%20%20%20%0A%20%20%20%20%0A%20%20%20%20%20%20%20%20%20%20%20%20var%20marker_ab2413a8f515464c838543a8d1830367%20%3D%20L.marker%28%0A%20%20%20%20%20%20%20%20%20%20%20%20%20%20%20%20%5B51.4958648681641%2C%20-0.164902999997139%5D%2C%0A%20%20%20%20%20%20%20%20%20%20%20%20%20%20%20%20%7B%7D%0A%20%20%20%20%20%20%20%20%20%20%20%20%29.addTo%28map_2be4973deb41464995569b7a04f0bfae%29%3B%0A%20%20%20%20%20%20%20%20%0A%20%20%20%20%0A%20%20%20%20%20%20%20%20var%20popup_4a83dd44a456426d90da45a99f611e92%20%3D%20L.popup%28%7B%22maxWidth%22%3A%20%22100%25%22%7D%29%3B%0A%0A%20%20%20%20%20%20%20%20%0A%20%20%20%20%20%20%20%20%20%20%20%20var%20html_0a044f4f33ee4802b9b90149773902c2%20%3D%20%24%28%60%3Cdiv%20id%3D%22html_0a044f4f33ee4802b9b90149773902c2%22%20style%3D%22width%3A%20100.0%25%3B%20height%3A%20100.0%25%3B%22%3E%28%27Scalini%20Restaurant%20%2C%20%C2%A3%C2%A3%C2%A3%20%2C%20%27%2C%204.5%29%3C/div%3E%60%29%5B0%5D%3B%0A%20%20%20%20%20%20%20%20%20%20%20%20popup_4a83dd44a456426d90da45a99f611e92.setContent%28html_0a044f4f33ee4802b9b90149773902c2%29%3B%0A%20%20%20%20%20%20%20%20%0A%0A%20%20%20%20%20%20%20%20marker_ab2413a8f515464c838543a8d1830367.bindPopup%28popup_4a83dd44a456426d90da45a99f611e92%29%0A%20%20%20%20%20%20%20%20%3B%0A%0A%20%20%20%20%20%20%20%20%0A%20%20%20%20%0A%20%20%20%20%0A%20%20%20%20%20%20%20%20%20%20%20%20var%20marker_155eb93fa53c43e7ad10fbd33b8707b3%20%3D%20L.marker%28%0A%20%20%20%20%20%20%20%20%20%20%20%20%20%20%20%20%5B51.5182114%2C%20-0.15081%5D%2C%0A%20%20%20%20%20%20%20%20%20%20%20%20%20%20%20%20%7B%7D%0A%20%20%20%20%20%20%20%20%20%20%20%20%29.addTo%28map_2be4973deb41464995569b7a04f0bfae%29%3B%0A%20%20%20%20%20%20%20%20%0A%20%20%20%20%0A%20%20%20%20%20%20%20%20var%20popup_6de3c2557ac14091bcc31eb57fe21070%20%3D%20L.popup%28%7B%22maxWidth%22%3A%20%22100%25%22%7D%29%3B%0A%0A%20%20%20%20%20%20%20%20%0A%20%20%20%20%20%20%20%20%20%20%20%20var%20html_0b9c684088cb4944beffefec77b63324%20%3D%20%24%28%60%3Cdiv%20id%3D%22html_0b9c684088cb4944beffefec77b63324%22%20style%3D%22width%3A%20100.0%25%3B%20height%3A%20100.0%25%3B%22%3E%28%27Caldesi%20%2C%20Missing%20%2C%20%27%2C%204.0%29%3C/div%3E%60%29%5B0%5D%3B%0A%20%20%20%20%20%20%20%20%20%20%20%20popup_6de3c2557ac14091bcc31eb57fe21070.setContent%28html_0b9c684088cb4944beffefec77b63324%29%3B%0A%20%20%20%20%20%20%20%20%0A%0A%20%20%20%20%20%20%20%20marker_155eb93fa53c43e7ad10fbd33b8707b3.bindPopup%28popup_6de3c2557ac14091bcc31eb57fe21070%29%0A%20%20%20%20%20%20%20%20%3B%0A%0A%20%20%20%20%20%20%20%20%0A%20%20%20%20%0A%20%20%20%20%0A%20%20%20%20%20%20%20%20%20%20%20%20var%20marker_05c377843bd64117a2b7225ec91ddd99%20%3D%20L.marker%28%0A%20%20%20%20%20%20%20%20%20%20%20%20%20%20%20%20%5B51.5050824%2C%20-0.0900808%5D%2C%0A%20%20%20%20%20%20%20%20%20%20%20%20%20%20%20%20%7B%7D%0A%20%20%20%20%20%20%20%20%20%20%20%20%29.addTo%28map_2be4973deb41464995569b7a04f0bfae%29%3B%0A%20%20%20%20%20%20%20%20%0A%20%20%20%20%0A%20%20%20%20%20%20%20%20var%20popup_68f805c7705948c59a4a388781424204%20%3D%20L.popup%28%7B%22maxWidth%22%3A%20%22100%25%22%7D%29%3B%0A%0A%20%20%20%20%20%20%20%20%0A%20%20%20%20%20%20%20%20%20%20%20%20var%20html_1b3d880d42d24373b870cf9ba496c28c%20%3D%20%24%28%60%3Cdiv%20id%3D%22html_1b3d880d42d24373b870cf9ba496c28c%22%20style%3D%22width%3A%20100.0%25%3B%20height%3A%20100.0%25%3B%22%3E%28%27La%20Tua%20Pasta%20%2C%20Missing%20%2C%20%27%2C%205.0%29%3C/div%3E%60%29%5B0%5D%3B%0A%20%20%20%20%20%20%20%20%20%20%20%20popup_68f805c7705948c59a4a388781424204.setContent%28html_1b3d880d42d24373b870cf9ba496c28c%29%3B%0A%20%20%20%20%20%20%20%20%0A%0A%20%20%20%20%20%20%20%20marker_05c377843bd64117a2b7225ec91ddd99.bindPopup%28popup_68f805c7705948c59a4a388781424204%29%0A%20%20%20%20%20%20%20%20%3B%0A%0A%20%20%20%20%20%20%20%20%0A%20%20%20%20%0A%20%20%20%20%0A%20%20%20%20%20%20%20%20%20%20%20%20var%20marker_782e3a9c8e584d6f8901bc2249560631%20%3D%20L.marker%28%0A%20%20%20%20%20%20%20%20%20%20%20%20%20%20%20%20%5B51.5250382%2C%20-0.0812426%5D%2C%0A%20%20%20%20%20%20%20%20%20%20%20%20%20%20%20%20%7B%7D%0A%20%20%20%20%20%20%20%20%20%20%20%20%29.addTo%28map_2be4973deb41464995569b7a04f0bfae%29%3B%0A%20%20%20%20%20%20%20%20%0A%20%20%20%20%0A%20%20%20%20%20%20%20%20var%20popup_6beceae97ebc4ddab359ed106eb90535%20%3D%20L.popup%28%7B%22maxWidth%22%3A%20%22100%25%22%7D%29%3B%0A%0A%20%20%20%20%20%20%20%20%0A%20%20%20%20%20%20%20%20%20%20%20%20var%20html_bcdbe3ce1d514d70a29c71e8707fc979%20%3D%20%24%28%60%3Cdiv%20id%3D%22html_bcdbe3ce1d514d70a29c71e8707fc979%22%20style%3D%22width%3A%20100.0%25%3B%20height%3A%20100.0%25%3B%22%3E%28%27Gloria%20%2C%20Missing%20%2C%20%27%2C%204.0%29%3C/div%3E%60%29%5B0%5D%3B%0A%20%20%20%20%20%20%20%20%20%20%20%20popup_6beceae97ebc4ddab359ed106eb90535.setContent%28html_bcdbe3ce1d514d70a29c71e8707fc979%29%3B%0A%20%20%20%20%20%20%20%20%0A%0A%20%20%20%20%20%20%20%20marker_782e3a9c8e584d6f8901bc2249560631.bindPopup%28popup_6beceae97ebc4ddab359ed106eb90535%29%0A%20%20%20%20%20%20%20%20%3B%0A%0A%20%20%20%20%20%20%20%20%0A%20%20%20%20%0A%20%20%20%20%0A%20%20%20%20%20%20%20%20%20%20%20%20var%20marker_1a100a29441140f6b1ad0f40f4fea8a1%20%3D%20L.marker%28%0A%20%20%20%20%20%20%20%20%20%20%20%20%20%20%20%20%5B51.5138629586873%2C%20-0.134387051472991%5D%2C%0A%20%20%20%20%20%20%20%20%20%20%20%20%20%20%20%20%7B%7D%0A%20%20%20%20%20%20%20%20%20%20%20%20%29.addTo%28map_2be4973deb41464995569b7a04f0bfae%29%3B%0A%20%20%20%20%20%20%20%20%0A%20%20%20%20%0A%20%20%20%20%20%20%20%20var%20popup_454346c58d20498dbe77eb73033e56f0%20%3D%20L.popup%28%7B%22maxWidth%22%3A%20%22100%25%22%7D%29%3B%0A%0A%20%20%20%20%20%20%20%20%0A%20%20%20%20%20%20%20%20%20%20%20%20var%20html_28168418b5b949c8b502f72030994652%20%3D%20%24%28%60%3Cdiv%20id%3D%22html_28168418b5b949c8b502f72030994652%22%20style%3D%22width%3A%20100.0%25%3B%20height%3A%20100.0%25%3B%22%3E%28%27Princi%20%2C%20%C2%A3%C2%A3%20%2C%20%27%2C%204.0%29%3C/div%3E%60%29%5B0%5D%3B%0A%20%20%20%20%20%20%20%20%20%20%20%20popup_454346c58d20498dbe77eb73033e56f0.setContent%28html_28168418b5b949c8b502f72030994652%29%3B%0A%20%20%20%20%20%20%20%20%0A%0A%20%20%20%20%20%20%20%20marker_1a100a29441140f6b1ad0f40f4fea8a1.bindPopup%28popup_454346c58d20498dbe77eb73033e56f0%29%0A%20%20%20%20%20%20%20%20%3B%0A%0A%20%20%20%20%20%20%20%20%0A%20%20%20%20%0A%20%20%20%20%0A%20%20%20%20%20%20%20%20%20%20%20%20var%20marker_11a68140f45e46b3bb3e03f5b8235a81%20%3D%20L.marker%28%0A%20%20%20%20%20%20%20%20%20%20%20%20%20%20%20%20%5B51.5132706%2C%20-0.1339006%5D%2C%0A%20%20%20%20%20%20%20%20%20%20%20%20%20%20%20%20%7B%7D%0A%20%20%20%20%20%20%20%20%20%20%20%20%29.addTo%28map_2be4973deb41464995569b7a04f0bfae%29%3B%0A%20%20%20%20%20%20%20%20%0A%20%20%20%20%0A%20%20%20%20%20%20%20%20var%20popup_c0e6c043ca9a4476845fad1e9708f70d%20%3D%20L.popup%28%7B%22maxWidth%22%3A%20%22100%25%22%7D%29%3B%0A%0A%20%20%20%20%20%20%20%20%0A%20%20%20%20%20%20%20%20%20%20%20%20var%20html_15ad281d37a24aaa8feeb489fbc8501b%20%3D%20%24%28%60%3Cdiv%20id%3D%22html_15ad281d37a24aaa8feeb489fbc8501b%22%20style%3D%22width%3A%20100.0%25%3B%20height%3A%20100.0%25%3B%22%3E%28%27Vapiano%20%2C%20%C2%A3%C2%A3%20%2C%20%27%2C%204.0%29%3C/div%3E%60%29%5B0%5D%3B%0A%20%20%20%20%20%20%20%20%20%20%20%20popup_c0e6c043ca9a4476845fad1e9708f70d.setContent%28html_15ad281d37a24aaa8feeb489fbc8501b%29%3B%0A%20%20%20%20%20%20%20%20%0A%0A%20%20%20%20%20%20%20%20marker_11a68140f45e46b3bb3e03f5b8235a81.bindPopup%28popup_c0e6c043ca9a4476845fad1e9708f70d%29%0A%20%20%20%20%20%20%20%20%3B%0A%0A%20%20%20%20%20%20%20%20%0A%20%20%20%20%0A%20%20%20%20%0A%20%20%20%20%20%20%20%20%20%20%20%20var%20marker_a1f7a0ff153547ee8612f3bf9993aab5%20%3D%20L.marker%28%0A%20%20%20%20%20%20%20%20%20%20%20%20%20%20%20%20%5B51.520315%2C%20-0.155747%5D%2C%0A%20%20%20%20%20%20%20%20%20%20%20%20%20%20%20%20%7B%7D%0A%20%20%20%20%20%20%20%20%20%20%20%20%29.addTo%28map_2be4973deb41464995569b7a04f0bfae%29%3B%0A%20%20%20%20%20%20%20%20%0A%20%20%20%20%0A%20%20%20%20%20%20%20%20var%20popup_cec25f43461a47a2b192772cd032723d%20%3D%20L.popup%28%7B%22maxWidth%22%3A%20%22100%25%22%7D%29%3B%0A%0A%20%20%20%20%20%20%20%20%0A%20%20%20%20%20%20%20%20%20%20%20%20var%20html_be8b89475f534af0948dd242a3d8b64d%20%3D%20%24%28%60%3Cdiv%20id%3D%22html_be8b89475f534af0948dd242a3d8b64d%22%20style%3D%22width%3A%20100.0%25%3B%20height%3A%20100.0%25%3B%22%3E%28%22Il%20Blandford%27s%20%2C%20%C2%A3%C2%A3%20%2C%20%22%2C%204.5%29%3C/div%3E%60%29%5B0%5D%3B%0A%20%20%20%20%20%20%20%20%20%20%20%20popup_cec25f43461a47a2b192772cd032723d.setContent%28html_be8b89475f534af0948dd242a3d8b64d%29%3B%0A%20%20%20%20%20%20%20%20%0A%0A%20%20%20%20%20%20%20%20marker_a1f7a0ff153547ee8612f3bf9993aab5.bindPopup%28popup_cec25f43461a47a2b192772cd032723d%29%0A%20%20%20%20%20%20%20%20%3B%0A%0A%20%20%20%20%20%20%20%20%0A%20%20%20%20%0A%20%20%20%20%0A%20%20%20%20%20%20%20%20%20%20%20%20var%20marker_fd6f3bee677f4453bfeb70198dee20ad%20%3D%20L.marker%28%0A%20%20%20%20%20%20%20%20%20%20%20%20%20%20%20%20%5B51.5262783740002%2C%20-0.108517492582082%5D%2C%0A%20%20%20%20%20%20%20%20%20%20%20%20%20%20%20%20%7B%7D%0A%20%20%20%20%20%20%20%20%20%20%20%20%29.addTo%28map_2be4973deb41464995569b7a04f0bfae%29%3B%0A%20%20%20%20%20%20%20%20%0A%20%20%20%20%0A%20%20%20%20%20%20%20%20var%20popup_051853568ca746cca197bacd7e5c4e7e%20%3D%20L.popup%28%7B%22maxWidth%22%3A%20%22100%25%22%7D%29%3B%0A%0A%20%20%20%20%20%20%20%20%0A%20%20%20%20%20%20%20%20%20%20%20%20var%20html_6b820c34077f47eea1055cafd8d45cc7%20%3D%20%24%28%60%3Cdiv%20id%3D%22html_6b820c34077f47eea1055cafd8d45cc7%22%20style%3D%22width%3A%20100.0%25%3B%20height%3A%20100.0%25%3B%22%3E%28%27Santore%20%2C%20%C2%A3%C2%A3%20%2C%20%27%2C%204.5%29%3C/div%3E%60%29%5B0%5D%3B%0A%20%20%20%20%20%20%20%20%20%20%20%20popup_051853568ca746cca197bacd7e5c4e7e.setContent%28html_6b820c34077f47eea1055cafd8d45cc7%29%3B%0A%20%20%20%20%20%20%20%20%0A%0A%20%20%20%20%20%20%20%20marker_fd6f3bee677f4453bfeb70198dee20ad.bindPopup%28popup_051853568ca746cca197bacd7e5c4e7e%29%0A%20%20%20%20%20%20%20%20%3B%0A%0A%20%20%20%20%20%20%20%20%0A%20%20%20%20%0A%20%20%20%20%0A%20%20%20%20%20%20%20%20%20%20%20%20var%20marker_0837526217664079904b12ff3c2f9692%20%3D%20L.marker%28%0A%20%20%20%20%20%20%20%20%20%20%20%20%20%20%20%20%5B51.5556017%2C%20-0.1774188%5D%2C%0A%20%20%20%20%20%20%20%20%20%20%20%20%20%20%20%20%7B%7D%0A%20%20%20%20%20%20%20%20%20%20%20%20%29.addTo%28map_2be4973deb41464995569b7a04f0bfae%29%3B%0A%20%20%20%20%20%20%20%20%0A%20%20%20%20%0A%20%20%20%20%20%20%20%20var%20popup_2e1e81d239454e41a66e22f8b891cf48%20%3D%20L.popup%28%7B%22maxWidth%22%3A%20%22100%25%22%7D%29%3B%0A%0A%20%20%20%20%20%20%20%20%0A%20%20%20%20%20%20%20%20%20%20%20%20var%20html_30811d7c05104b8ba014397aec0f8037%20%3D%20%24%28%60%3Cdiv%20id%3D%22html_30811d7c05104b8ba014397aec0f8037%22%20style%3D%22width%3A%20100.0%25%3B%20height%3A%20100.0%25%3B%22%3E%28%27Villa%20Bianca%20%2C%20%C2%A3%C2%A3%C2%A3%20%2C%20%27%2C%204.5%29%3C/div%3E%60%29%5B0%5D%3B%0A%20%20%20%20%20%20%20%20%20%20%20%20popup_2e1e81d239454e41a66e22f8b891cf48.setContent%28html_30811d7c05104b8ba014397aec0f8037%29%3B%0A%20%20%20%20%20%20%20%20%0A%0A%20%20%20%20%20%20%20%20marker_0837526217664079904b12ff3c2f9692.bindPopup%28popup_2e1e81d239454e41a66e22f8b891cf48%29%0A%20%20%20%20%20%20%20%20%3B%0A%0A%20%20%20%20%20%20%20%20%0A%20%20%20%20%0A%20%20%20%20%0A%20%20%20%20%20%20%20%20%20%20%20%20var%20marker_359a25d5cb6645fc901edd77cb33f0cd%20%3D%20L.marker%28%0A%20%20%20%20%20%20%20%20%20%20%20%20%20%20%20%20%5B51.5207595%2C%20-0.1417802%5D%2C%0A%20%20%20%20%20%20%20%20%20%20%20%20%20%20%20%20%7B%7D%0A%20%20%20%20%20%20%20%20%20%20%20%20%29.addTo%28map_2be4973deb41464995569b7a04f0bfae%29%3B%0A%20%20%20%20%20%20%20%20%0A%20%20%20%20%0A%20%20%20%20%20%20%20%20var%20popup_bb4b6dd9e87b48de845ab8ada144f789%20%3D%20L.popup%28%7B%22maxWidth%22%3A%20%22100%25%22%7D%29%3B%0A%0A%20%20%20%20%20%20%20%20%0A%20%20%20%20%20%20%20%20%20%20%20%20var%20html_330d26271a9f471984debe46aa65fa87%20%3D%20%24%28%60%3Cdiv%20id%3D%22html_330d26271a9f471984debe46aa65fa87%22%20style%3D%22width%3A%20100.0%25%3B%20height%3A%20100.0%25%3B%22%3E%28%27Conchiglia%20%2C%20%C2%A3%C2%A3%20%2C%20%27%2C%204.5%29%3C/div%3E%60%29%5B0%5D%3B%0A%20%20%20%20%20%20%20%20%20%20%20%20popup_bb4b6dd9e87b48de845ab8ada144f789.setContent%28html_330d26271a9f471984debe46aa65fa87%29%3B%0A%20%20%20%20%20%20%20%20%0A%0A%20%20%20%20%20%20%20%20marker_359a25d5cb6645fc901edd77cb33f0cd.bindPopup%28popup_bb4b6dd9e87b48de845ab8ada144f789%29%0A%20%20%20%20%20%20%20%20%3B%0A%0A%20%20%20%20%20%20%20%20%0A%20%20%20%20%0A%20%20%20%20%0A%20%20%20%20%20%20%20%20%20%20%20%20var%20marker_5d82498d34c846c6b457e150f532b8ef%20%3D%20L.marker%28%0A%20%20%20%20%20%20%20%20%20%20%20%20%20%20%20%20%5B51.5056058011705%2C%20-0.0975875964032075%5D%2C%0A%20%20%20%20%20%20%20%20%20%20%20%20%20%20%20%20%7B%7D%0A%20%20%20%20%20%20%20%20%20%20%20%20%29.addTo%28map_2be4973deb41464995569b7a04f0bfae%29%3B%0A%20%20%20%20%20%20%20%20%0A%20%20%20%20%0A%20%20%20%20%20%20%20%20var%20popup_66c4e89e226e49e08c47d52e89772f02%20%3D%20L.popup%28%7B%22maxWidth%22%3A%20%22100%25%22%7D%29%3B%0A%0A%20%20%20%20%20%20%20%20%0A%20%20%20%20%20%20%20%20%20%20%20%20var%20html_fbd307a5c386428aa78454da679bc42f%20%3D%20%24%28%60%3Cdiv%20id%3D%22html_fbd307a5c386428aa78454da679bc42f%22%20style%3D%22width%3A%20100.0%25%3B%20height%3A%20100.0%25%3B%22%3E%28%27Vapiano%20%2C%20%C2%A3%C2%A3%20%2C%20%27%2C%204.0%29%3C/div%3E%60%29%5B0%5D%3B%0A%20%20%20%20%20%20%20%20%20%20%20%20popup_66c4e89e226e49e08c47d52e89772f02.setContent%28html_fbd307a5c386428aa78454da679bc42f%29%3B%0A%20%20%20%20%20%20%20%20%0A%0A%20%20%20%20%20%20%20%20marker_5d82498d34c846c6b457e150f532b8ef.bindPopup%28popup_66c4e89e226e49e08c47d52e89772f02%29%0A%20%20%20%20%20%20%20%20%3B%0A%0A%20%20%20%20%20%20%20%20%0A%20%20%20%20%0A%20%20%20%20%0A%20%20%20%20%20%20%20%20%20%20%20%20var%20marker_aad36e093b0b4a5aa00b74f72a9c4fdd%20%3D%20L.marker%28%0A%20%20%20%20%20%20%20%20%20%20%20%20%20%20%20%20%5B51.4532861794787%2C%20-0.00787020519954051%5D%2C%0A%20%20%20%20%20%20%20%20%20%20%20%20%20%20%20%20%7B%7D%0A%20%20%20%20%20%20%20%20%20%20%20%20%29.addTo%28map_2be4973deb41464995569b7a04f0bfae%29%3B%0A%20%20%20%20%20%20%20%20%0A%20%20%20%20%0A%20%20%20%20%20%20%20%20var%20popup_6f8892bc5ad14eeca0ea15cc929be01b%20%3D%20L.popup%28%7B%22maxWidth%22%3A%20%22100%25%22%7D%29%3B%0A%0A%20%20%20%20%20%20%20%20%0A%20%20%20%20%20%20%20%20%20%20%20%20var%20html_c74516acc05d4c2ba14b382c89e13da8%20%3D%20%24%28%60%3Cdiv%20id%3D%22html_c74516acc05d4c2ba14b382c89e13da8%22%20style%3D%22width%3A%20100.0%25%3B%20height%3A%20100.0%25%3B%22%3E%28%27The%20Gold%20of%20Naples%20%2C%20Missing%20%2C%20%27%2C%205.0%29%3C/div%3E%60%29%5B0%5D%3B%0A%20%20%20%20%20%20%20%20%20%20%20%20popup_6f8892bc5ad14eeca0ea15cc929be01b.setContent%28html_c74516acc05d4c2ba14b382c89e13da8%29%3B%0A%20%20%20%20%20%20%20%20%0A%0A%20%20%20%20%20%20%20%20marker_aad36e093b0b4a5aa00b74f72a9c4fdd.bindPopup%28popup_6f8892bc5ad14eeca0ea15cc929be01b%29%0A%20%20%20%20%20%20%20%20%3B%0A%0A%20%20%20%20%20%20%20%20%0A%20%20%20%20%0A%20%20%20%20%0A%20%20%20%20%20%20%20%20%20%20%20%20var%20marker_b424bd01f4314383a06700ae4d8832a5%20%3D%20L.marker%28%0A%20%20%20%20%20%20%20%20%20%20%20%20%20%20%20%20%5B51.5109736667965%2C%20-0.0879026067459563%5D%2C%0A%20%20%20%20%20%20%20%20%20%20%20%20%20%20%20%20%7B%7D%0A%20%20%20%20%20%20%20%20%20%20%20%20%29.addTo%28map_2be4973deb41464995569b7a04f0bfae%29%3B%0A%20%20%20%20%20%20%20%20%0A%20%20%20%20%0A%20%20%20%20%20%20%20%20var%20popup_6549ddbce0854f5ebf61652079121396%20%3D%20L.popup%28%7B%22maxWidth%22%3A%20%22100%25%22%7D%29%3B%0A%0A%20%20%20%20%20%20%20%20%0A%20%20%20%20%20%20%20%20%20%20%20%20var%20html_0a6edc7d8ae848198f31633471f5ff07%20%3D%20%24%28%60%3Cdiv%20id%3D%22html_0a6edc7d8ae848198f31633471f5ff07%22%20style%3D%22width%3A%20100.0%25%3B%20height%3A%20100.0%25%3B%22%3E%28%27Scarpetta%20%2C%20Missing%20%2C%20%27%2C%205.0%29%3C/div%3E%60%29%5B0%5D%3B%0A%20%20%20%20%20%20%20%20%20%20%20%20popup_6549ddbce0854f5ebf61652079121396.setContent%28html_0a6edc7d8ae848198f31633471f5ff07%29%3B%0A%20%20%20%20%20%20%20%20%0A%0A%20%20%20%20%20%20%20%20marker_b424bd01f4314383a06700ae4d8832a5.bindPopup%28popup_6549ddbce0854f5ebf61652079121396%29%0A%20%20%20%20%20%20%20%20%3B%0A%0A%20%20%20%20%20%20%20%20%0A%20%20%20%20%0A%20%20%20%20%0A%20%20%20%20%20%20%20%20%20%20%20%20var%20marker_96730f1a217a4c50b383daac4fbd3091%20%3D%20L.marker%28%0A%20%20%20%20%20%20%20%20%20%20%20%20%20%20%20%20%5B51.4992042%2C%20-0.1378462%5D%2C%0A%20%20%20%20%20%20%20%20%20%20%20%20%20%20%20%20%7B%7D%0A%20%20%20%20%20%20%20%20%20%20%20%20%29.addTo%28map_2be4973deb41464995569b7a04f0bfae%29%3B%0A%20%20%20%20%20%20%20%20%0A%20%20%20%20%0A%20%20%20%20%20%20%20%20var%20popup_a4126f8e0fd54a14b1c63fa2cc41a82e%20%3D%20L.popup%28%7B%22maxWidth%22%3A%20%22100%25%22%7D%29%3B%0A%0A%20%20%20%20%20%20%20%20%0A%20%20%20%20%20%20%20%20%20%20%20%20var%20html_8d18b60eef4d415b9800b5065dfbc318%20%3D%20%24%28%60%3Cdiv%20id%3D%22html_8d18b60eef4d415b9800b5065dfbc318%22%20style%3D%22width%3A%20100.0%25%3B%20height%3A%20100.0%25%3B%22%3E%28%27Bon%20Gusto%20%2C%20%C2%A3%C2%A3%20%2C%20%27%2C%204.5%29%3C/div%3E%60%29%5B0%5D%3B%0A%20%20%20%20%20%20%20%20%20%20%20%20popup_a4126f8e0fd54a14b1c63fa2cc41a82e.setContent%28html_8d18b60eef4d415b9800b5065dfbc318%29%3B%0A%20%20%20%20%20%20%20%20%0A%0A%20%20%20%20%20%20%20%20marker_96730f1a217a4c50b383daac4fbd3091.bindPopup%28popup_a4126f8e0fd54a14b1c63fa2cc41a82e%29%0A%20%20%20%20%20%20%20%20%3B%0A%0A%20%20%20%20%20%20%20%20%0A%20%20%20%20%0A%20%20%20%20%0A%20%20%20%20%20%20%20%20%20%20%20%20var%20marker_f5e58cb7a62a4e3cbabef2d4f8bd1586%20%3D%20L.marker%28%0A%20%20%20%20%20%20%20%20%20%20%20%20%20%20%20%20%5B51.514775%2C%20-0.136932%5D%2C%0A%20%20%20%20%20%20%20%20%20%20%20%20%20%20%20%20%7B%7D%0A%20%20%20%20%20%20%20%20%20%20%20%20%29.addTo%28map_2be4973deb41464995569b7a04f0bfae%29%3B%0A%20%20%20%20%20%20%20%20%0A%20%20%20%20%0A%20%20%20%20%20%20%20%20var%20popup_a6b43d2f7cfb40af993110c467a86c72%20%3D%20L.popup%28%7B%22maxWidth%22%3A%20%22100%25%22%7D%29%3B%0A%0A%20%20%20%20%20%20%20%20%0A%20%20%20%20%20%20%20%20%20%20%20%20var%20html_b396c8c2dbc74144bcd5efffd47a4c79%20%3D%20%24%28%60%3Cdiv%20id%3D%22html_b396c8c2dbc74144bcd5efffd47a4c79%22%20style%3D%22width%3A%20100.0%25%3B%20height%3A%20100.0%25%3B%22%3E%28%22Vasco%20%26%20Piero%27s%20Pavilion%20Restaurant%20%2C%20%C2%A3%C2%A3%C2%A3%20%2C%20%22%2C%204.5%29%3C/div%3E%60%29%5B0%5D%3B%0A%20%20%20%20%20%20%20%20%20%20%20%20popup_a6b43d2f7cfb40af993110c467a86c72.setContent%28html_b396c8c2dbc74144bcd5efffd47a4c79%29%3B%0A%20%20%20%20%20%20%20%20%0A%0A%20%20%20%20%20%20%20%20marker_f5e58cb7a62a4e3cbabef2d4f8bd1586.bindPopup%28popup_a6b43d2f7cfb40af993110c467a86c72%29%0A%20%20%20%20%20%20%20%20%3B%0A%0A%20%20%20%20%20%20%20%20%0A%20%20%20%20%0A%20%20%20%20%0A%20%20%20%20%20%20%20%20%20%20%20%20var%20marker_87029fbeae02442bb17ea67ccb0b44af%20%3D%20L.marker%28%0A%20%20%20%20%20%20%20%20%20%20%20%20%20%20%20%20%5B51.50723%2C%20-0.138595%5D%2C%0A%20%20%20%20%20%20%20%20%20%20%20%20%20%20%20%20%7B%7D%0A%20%20%20%20%20%20%20%20%20%20%20%20%29.addTo%28map_2be4973deb41464995569b7a04f0bfae%29%3B%0A%20%20%20%20%20%20%20%20%0A%20%20%20%20%0A%20%20%20%20%20%20%20%20var%20popup_16cd5a48aff74228a7245ed2cc7c0064%20%3D%20L.popup%28%7B%22maxWidth%22%3A%20%22100%25%22%7D%29%3B%0A%0A%20%20%20%20%20%20%20%20%0A%20%20%20%20%20%20%20%20%20%20%20%20var%20html_9a9eb784d68543c59914c9f3c6d7bf9f%20%3D%20%24%28%60%3Cdiv%20id%3D%22html_9a9eb784d68543c59914c9f3c6d7bf9f%22%20style%3D%22width%3A%20100.0%25%3B%20height%3A%20100.0%25%3B%22%3E%28%27La%20Bottega%20%2C%20Missing%20%2C%20%27%2C%204.5%29%3C/div%3E%60%29%5B0%5D%3B%0A%20%20%20%20%20%20%20%20%20%20%20%20popup_16cd5a48aff74228a7245ed2cc7c0064.setContent%28html_9a9eb784d68543c59914c9f3c6d7bf9f%29%3B%0A%20%20%20%20%20%20%20%20%0A%0A%20%20%20%20%20%20%20%20marker_87029fbeae02442bb17ea67ccb0b44af.bindPopup%28popup_16cd5a48aff74228a7245ed2cc7c0064%29%0A%20%20%20%20%20%20%20%20%3B%0A%0A%20%20%20%20%20%20%20%20%0A%20%20%20%20%0A%20%20%20%20%0A%20%20%20%20%20%20%20%20%20%20%20%20var%20marker_7b8bf3611231434e977a161080bcc00a%20%3D%20L.marker%28%0A%20%20%20%20%20%20%20%20%20%20%20%20%20%20%20%20%5B51.493495%2C%20-0.150923%5D%2C%0A%20%20%20%20%20%20%20%20%20%20%20%20%20%20%20%20%7B%7D%0A%20%20%20%20%20%20%20%20%20%20%20%20%29.addTo%28map_2be4973deb41464995569b7a04f0bfae%29%3B%0A%20%20%20%20%20%20%20%20%0A%20%20%20%20%0A%20%20%20%20%20%20%20%20var%20popup_0d4106d2b67f4712b28cce763ec74ca7%20%3D%20L.popup%28%7B%22maxWidth%22%3A%20%22100%25%22%7D%29%3B%0A%0A%20%20%20%20%20%20%20%20%0A%20%20%20%20%20%20%20%20%20%20%20%20var%20html_2f73d153515f478ca0c32ff77b34deee%20%3D%20%24%28%60%3Cdiv%20id%3D%22html_2f73d153515f478ca0c32ff77b34deee%22%20style%3D%22width%3A%20100.0%25%3B%20height%3A%20100.0%25%3B%22%3E%28%27Oliveto%20%2C%20%C2%A3%C2%A3%20%2C%20%27%2C%204.0%29%3C/div%3E%60%29%5B0%5D%3B%0A%20%20%20%20%20%20%20%20%20%20%20%20popup_0d4106d2b67f4712b28cce763ec74ca7.setContent%28html_2f73d153515f478ca0c32ff77b34deee%29%3B%0A%20%20%20%20%20%20%20%20%0A%0A%20%20%20%20%20%20%20%20marker_7b8bf3611231434e977a161080bcc00a.bindPopup%28popup_0d4106d2b67f4712b28cce763ec74ca7%29%0A%20%20%20%20%20%20%20%20%3B%0A%0A%20%20%20%20%20%20%20%20%0A%20%20%20%20%0A%20%20%20%20%0A%20%20%20%20%20%20%20%20%20%20%20%20var%20marker_469e791144a147378b853dda23c716c2%20%3D%20L.marker%28%0A%20%20%20%20%20%20%20%20%20%20%20%20%20%20%20%20%5B51.5265159984371%2C%20-0.0635611602914123%5D%2C%0A%20%20%20%20%20%20%20%20%20%20%20%20%20%20%20%20%7B%7D%0A%20%20%20%20%20%20%20%20%20%20%20%20%29.addTo%28map_2be4973deb41464995569b7a04f0bfae%29%3B%0A%20%20%20%20%20%20%20%20%0A%20%20%20%20%0A%20%20%20%20%20%20%20%20var%20popup_96228c5eedd3488ca489b23b1d7f11b6%20%3D%20L.popup%28%7B%22maxWidth%22%3A%20%22100%25%22%7D%29%3B%0A%0A%20%20%20%20%20%20%20%20%0A%20%20%20%20%20%20%20%20%20%20%20%20var%20html_4d34310640644cfd81f06a027f4b30bb%20%3D%20%24%28%60%3Cdiv%20id%3D%22html_4d34310640644cfd81f06a027f4b30bb%22%20style%3D%22width%3A%20100.0%25%3B%20height%3A%20100.0%25%3B%22%3E%28%27E%20Pellicci%20%2C%20%C2%A3%20%2C%20%27%2C%204.5%29%3C/div%3E%60%29%5B0%5D%3B%0A%20%20%20%20%20%20%20%20%20%20%20%20popup_96228c5eedd3488ca489b23b1d7f11b6.setContent%28html_4d34310640644cfd81f06a027f4b30bb%29%3B%0A%20%20%20%20%20%20%20%20%0A%0A%20%20%20%20%20%20%20%20marker_469e791144a147378b853dda23c716c2.bindPopup%28popup_96228c5eedd3488ca489b23b1d7f11b6%29%0A%20%20%20%20%20%20%20%20%3B%0A%0A%20%20%20%20%20%20%20%20%0A%20%20%20%20%0A%20%20%20%20%0A%20%20%20%20%20%20%20%20%20%20%20%20var%20marker_c5e7cf8390004e86a7d2e6d462a316b8%20%3D%20L.marker%28%0A%20%20%20%20%20%20%20%20%20%20%20%20%20%20%20%20%5B51.496176%2C%20-0.169932%5D%2C%0A%20%20%20%20%20%20%20%20%20%20%20%20%20%20%20%20%7B%7D%0A%20%20%20%20%20%20%20%20%20%20%20%20%29.addTo%28map_2be4973deb41464995569b7a04f0bfae%29%3B%0A%20%20%20%20%20%20%20%20%0A%20%20%20%20%0A%20%20%20%20%20%20%20%20var%20popup_7d205cc2577d44719e9ccd7be90828a9%20%3D%20L.popup%28%7B%22maxWidth%22%3A%20%22100%25%22%7D%29%3B%0A%0A%20%20%20%20%20%20%20%20%0A%20%20%20%20%20%20%20%20%20%20%20%20var%20html_211f6f2229284cd2bacbe4ba7f38923d%20%3D%20%24%28%60%3Cdiv%20id%3D%22html_211f6f2229284cd2bacbe4ba7f38923d%22%20style%3D%22width%3A%20100.0%25%3B%20height%3A%20100.0%25%3B%22%3E%28%27Orsini%20%2C%20%C2%A3%C2%A3%20%2C%20%27%2C%204.0%29%3C/div%3E%60%29%5B0%5D%3B%0A%20%20%20%20%20%20%20%20%20%20%20%20popup_7d205cc2577d44719e9ccd7be90828a9.setContent%28html_211f6f2229284cd2bacbe4ba7f38923d%29%3B%0A%20%20%20%20%20%20%20%20%0A%0A%20%20%20%20%20%20%20%20marker_c5e7cf8390004e86a7d2e6d462a316b8.bindPopup%28popup_7d205cc2577d44719e9ccd7be90828a9%29%0A%20%20%20%20%20%20%20%20%3B%0A%0A%20%20%20%20%20%20%20%20%0A%20%20%20%20%0A%20%20%20%20%0A%20%20%20%20%20%20%20%20%20%20%20%20var%20marker_70b3c2939b214519b2810aefab0bc75c%20%3D%20L.marker%28%0A%20%20%20%20%20%20%20%20%20%20%20%20%20%20%20%20%5B51.5065452882856%2C%20-0.0527607017206719%5D%2C%0A%20%20%20%20%20%20%20%20%20%20%20%20%20%20%20%20%7B%7D%0A%20%20%20%20%20%20%20%20%20%20%20%20%29.addTo%28map_2be4973deb41464995569b7a04f0bfae%29%3B%0A%20%20%20%20%20%20%20%20%0A%20%20%20%20%0A%20%20%20%20%20%20%20%20var%20popup_8c58029a1d124a4699dead183740cf4d%20%3D%20L.popup%28%7B%22maxWidth%22%3A%20%22100%25%22%7D%29%3B%0A%0A%20%20%20%20%20%20%20%20%0A%20%20%20%20%20%20%20%20%20%20%20%20var%20html_2b438e5df45445e49ca915c8f4b7be0d%20%3D%20%24%28%60%3Cdiv%20id%3D%22html_2b438e5df45445e49ca915c8f4b7be0d%22%20style%3D%22width%3A%20100.0%25%3B%20height%3A%20100.0%25%3B%22%3E%28%27Il%20Bordello%20%2C%20%C2%A3%C2%A3%20%2C%20%27%2C%204.5%29%3C/div%3E%60%29%5B0%5D%3B%0A%20%20%20%20%20%20%20%20%20%20%20%20popup_8c58029a1d124a4699dead183740cf4d.setContent%28html_2b438e5df45445e49ca915c8f4b7be0d%29%3B%0A%20%20%20%20%20%20%20%20%0A%0A%20%20%20%20%20%20%20%20marker_70b3c2939b214519b2810aefab0bc75c.bindPopup%28popup_8c58029a1d124a4699dead183740cf4d%29%0A%20%20%20%20%20%20%20%20%3B%0A%0A%20%20%20%20%20%20%20%20%0A%20%20%20%20%0A%20%20%20%20%0A%20%20%20%20%20%20%20%20%20%20%20%20var%20marker_091684be971f40b58256abb46750fac9%20%3D%20L.marker%28%0A%20%20%20%20%20%20%20%20%20%20%20%20%20%20%20%20%5B51.514406%2C%20-0.161159%5D%2C%0A%20%20%20%20%20%20%20%20%20%20%20%20%20%20%20%20%7B%7D%0A%20%20%20%20%20%20%20%20%20%20%20%20%29.addTo%28map_2be4973deb41464995569b7a04f0bfae%29%3B%0A%20%20%20%20%20%20%20%20%0A%20%20%20%20%0A%20%20%20%20%20%20%20%20var%20popup_8bdb39e14db94474a14e9da9fedbec28%20%3D%20L.popup%28%7B%22maxWidth%22%3A%20%22100%25%22%7D%29%3B%0A%0A%20%20%20%20%20%20%20%20%0A%20%20%20%20%20%20%20%20%20%20%20%20var%20html_d5007485c1624d17b78a9055544b4ab8%20%3D%20%24%28%60%3Cdiv%20id%3D%22html_d5007485c1624d17b78a9055544b4ab8%22%20style%3D%22width%3A%20100.0%25%3B%20height%3A%20100.0%25%3B%22%3E%28%22Bernardi%27s%20Restaurant%20and%20Bar%20%2C%20%C2%A3%C2%A3%C2%A3%20%2C%20%22%2C%204.5%29%3C/div%3E%60%29%5B0%5D%3B%0A%20%20%20%20%20%20%20%20%20%20%20%20popup_8bdb39e14db94474a14e9da9fedbec28.setContent%28html_d5007485c1624d17b78a9055544b4ab8%29%3B%0A%20%20%20%20%20%20%20%20%0A%0A%20%20%20%20%20%20%20%20marker_091684be971f40b58256abb46750fac9.bindPopup%28popup_8bdb39e14db94474a14e9da9fedbec28%29%0A%20%20%20%20%20%20%20%20%3B%0A%0A%20%20%20%20%20%20%20%20%0A%20%20%20%20%0A%20%20%20%20%0A%20%20%20%20%20%20%20%20%20%20%20%20var%20marker_916436553c464b32bfb6afb3eb2c4d19%20%3D%20L.marker%28%0A%20%20%20%20%20%20%20%20%20%20%20%20%20%20%20%20%5B51.5125084%2C%20-0.1041498%5D%2C%0A%20%20%20%20%20%20%20%20%20%20%20%20%20%20%20%20%7B%7D%0A%20%20%20%20%20%20%20%20%20%20%20%20%29.addTo%28map_2be4973deb41464995569b7a04f0bfae%29%3B%0A%20%20%20%20%20%20%20%20%0A%20%20%20%20%0A%20%20%20%20%20%20%20%20var%20popup_c16e6f9faf704e6599c46df910a4aed6%20%3D%20L.popup%28%7B%22maxWidth%22%3A%20%22100%25%22%7D%29%3B%0A%0A%20%20%20%20%20%20%20%20%0A%20%20%20%20%20%20%20%20%20%20%20%20var%20html_da97c6ef4f9e4b6ab9028a405c0844fa%20%3D%20%24%28%60%3Cdiv%20id%3D%22html_da97c6ef4f9e4b6ab9028a405c0844fa%22%20style%3D%22width%3A%20100.0%25%3B%20height%3A%20100.0%25%3B%22%3E%28%27Diciannove%20%2C%20%C2%A3%C2%A3%C2%A3%C2%A3%20%2C%20%27%2C%204.5%29%3C/div%3E%60%29%5B0%5D%3B%0A%20%20%20%20%20%20%20%20%20%20%20%20popup_c16e6f9faf704e6599c46df910a4aed6.setContent%28html_da97c6ef4f9e4b6ab9028a405c0844fa%29%3B%0A%20%20%20%20%20%20%20%20%0A%0A%20%20%20%20%20%20%20%20marker_916436553c464b32bfb6afb3eb2c4d19.bindPopup%28popup_c16e6f9faf704e6599c46df910a4aed6%29%0A%20%20%20%20%20%20%20%20%3B%0A%0A%20%20%20%20%20%20%20%20%0A%20%20%20%20%0A%20%20%20%20%0A%20%20%20%20%20%20%20%20%20%20%20%20var%20marker_7bb0cc27bf94424884961e46a565960d%20%3D%20L.marker%28%0A%20%20%20%20%20%20%20%20%20%20%20%20%20%20%20%20%5B51.4912538%2C%20-0.1392584%5D%2C%0A%20%20%20%20%20%20%20%20%20%20%20%20%20%20%20%20%7B%7D%0A%20%20%20%20%20%20%20%20%20%20%20%20%29.addTo%28map_2be4973deb41464995569b7a04f0bfae%29%3B%0A%20%20%20%20%20%20%20%20%0A%20%20%20%20%0A%20%20%20%20%20%20%20%20var%20popup_926d24615387404d8887a028d33dbdd8%20%3D%20L.popup%28%7B%22maxWidth%22%3A%20%22100%25%22%7D%29%3B%0A%0A%20%20%20%20%20%20%20%20%0A%20%20%20%20%20%20%20%20%20%20%20%20var%20html_055605d44e4d45d8ac64413f0d274fc3%20%3D%20%24%28%60%3Cdiv%20id%3D%22html_055605d44e4d45d8ac64413f0d274fc3%22%20style%3D%22width%3A%20100.0%25%3B%20height%3A%20100.0%25%3B%22%3E%28%27Cacio%20%26%20Pepe%20%2C%20%C2%A3%C2%A3%C2%A3%20%2C%20%27%2C%205.0%29%3C/div%3E%60%29%5B0%5D%3B%0A%20%20%20%20%20%20%20%20%20%20%20%20popup_926d24615387404d8887a028d33dbdd8.setContent%28html_055605d44e4d45d8ac64413f0d274fc3%29%3B%0A%20%20%20%20%20%20%20%20%0A%0A%20%20%20%20%20%20%20%20marker_7bb0cc27bf94424884961e46a565960d.bindPopup%28popup_926d24615387404d8887a028d33dbdd8%29%0A%20%20%20%20%20%20%20%20%3B%0A%0A%20%20%20%20%20%20%20%20%0A%20%20%20%20%0A%20%20%20%20%0A%20%20%20%20%20%20%20%20%20%20%20%20var%20marker_9d0f8ebb6a614ea9bbe18f4952ff7ced%20%3D%20L.marker%28%0A%20%20%20%20%20%20%20%20%20%20%20%20%20%20%20%20%5B51.511382579241%2C%20-0.122399630007294%5D%2C%0A%20%20%20%20%20%20%20%20%20%20%20%20%20%20%20%20%7B%7D%0A%20%20%20%20%20%20%20%20%20%20%20%20%29.addTo%28map_2be4973deb41464995569b7a04f0bfae%29%3B%0A%20%20%20%20%20%20%20%20%0A%20%20%20%20%0A%20%20%20%20%20%20%20%20var%20popup_5fd1fcab4b7640898d2f32aeb59baedc%20%3D%20L.popup%28%7B%22maxWidth%22%3A%20%22100%25%22%7D%29%3B%0A%0A%20%20%20%20%20%20%20%20%0A%20%20%20%20%20%20%20%20%20%20%20%20var%20html_e3be112ae44743ef9880b6b499ad0c57%20%3D%20%24%28%60%3Cdiv%20id%3D%22html_e3be112ae44743ef9880b6b499ad0c57%22%20style%3D%22width%3A%20100.0%25%3B%20height%3A%20100.0%25%3B%22%3E%28%27Prima%20Sapori%20Italia%20%2C%20%C2%A3%C2%A3%20%2C%20%27%2C%204.5%29%3C/div%3E%60%29%5B0%5D%3B%0A%20%20%20%20%20%20%20%20%20%20%20%20popup_5fd1fcab4b7640898d2f32aeb59baedc.setContent%28html_e3be112ae44743ef9880b6b499ad0c57%29%3B%0A%20%20%20%20%20%20%20%20%0A%0A%20%20%20%20%20%20%20%20marker_9d0f8ebb6a614ea9bbe18f4952ff7ced.bindPopup%28popup_5fd1fcab4b7640898d2f32aeb59baedc%29%0A%20%20%20%20%20%20%20%20%3B%0A%0A%20%20%20%20%20%20%20%20%0A%20%20%20%20%0A%20%20%20%20%0A%20%20%20%20%20%20%20%20%20%20%20%20var%20marker_fd67ba57ce37427f94aebb0b8e153efe%20%3D%20L.marker%28%0A%20%20%20%20%20%20%20%20%20%20%20%20%20%20%20%20%5B51.5205076849027%2C%20-0.156044418217071%5D%2C%0A%20%20%20%20%20%20%20%20%20%20%20%20%20%20%20%20%7B%7D%0A%20%20%20%20%20%20%20%20%20%20%20%20%29.addTo%28map_2be4973deb41464995569b7a04f0bfae%29%3B%0A%20%20%20%20%20%20%20%20%0A%20%20%20%20%0A%20%20%20%20%20%20%20%20var%20popup_78be76c45ab246d289ad88a20fff1aac%20%3D%20L.popup%28%7B%22maxWidth%22%3A%20%22100%25%22%7D%29%3B%0A%0A%20%20%20%20%20%20%20%20%0A%20%20%20%20%20%20%20%20%20%20%20%20var%20html_bdcdcd7792ba472c971ec39a0de36a9c%20%3D%20%24%28%60%3Cdiv%20id%3D%22html_bdcdcd7792ba472c971ec39a0de36a9c%22%20style%3D%22width%3A%20100.0%25%3B%20height%3A%20100.0%25%3B%22%3E%28%27Casa%20Becci%20Restaurant%20%2C%20%C2%A3%C2%A3%20%2C%20%27%2C%204.5%29%3C/div%3E%60%29%5B0%5D%3B%0A%20%20%20%20%20%20%20%20%20%20%20%20popup_78be76c45ab246d289ad88a20fff1aac.setContent%28html_bdcdcd7792ba472c971ec39a0de36a9c%29%3B%0A%20%20%20%20%20%20%20%20%0A%0A%20%20%20%20%20%20%20%20marker_fd67ba57ce37427f94aebb0b8e153efe.bindPopup%28popup_78be76c45ab246d289ad88a20fff1aac%29%0A%20%20%20%20%20%20%20%20%3B%0A%0A%20%20%20%20%20%20%20%20%0A%20%20%20%20%0A%20%20%20%20%0A%20%20%20%20%20%20%20%20%20%20%20%20var%20marker_693ae91b96b14af3bb3bdf76ed2fc355%20%3D%20L.marker%28%0A%20%20%20%20%20%20%20%20%20%20%20%20%20%20%20%20%5B51.549781%2C%20-0.108798%5D%2C%0A%20%20%20%20%20%20%20%20%20%20%20%20%20%20%20%20%7B%7D%0A%20%20%20%20%20%20%20%20%20%20%20%20%29.addTo%28map_2be4973deb41464995569b7a04f0bfae%29%3B%0A%20%20%20%20%20%20%20%20%0A%20%20%20%20%0A%20%20%20%20%20%20%20%20var%20popup_48a649a0d0d646c29c0a58c6768a9057%20%3D%20L.popup%28%7B%22maxWidth%22%3A%20%22100%25%22%7D%29%3B%0A%0A%20%20%20%20%20%20%20%20%0A%20%20%20%20%20%20%20%20%20%20%20%20var%20html_88e4c6368cff4485ac962de98e75f58c%20%3D%20%24%28%60%3Cdiv%20id%3D%22html_88e4c6368cff4485ac962de98e75f58c%22%20style%3D%22width%3A%20100.0%25%3B%20height%3A%20100.0%25%3B%22%3E%28%27Lamezia%20%2C%20%C2%A3%C2%A3%20%2C%20%27%2C%204.5%29%3C/div%3E%60%29%5B0%5D%3B%0A%20%20%20%20%20%20%20%20%20%20%20%20popup_48a649a0d0d646c29c0a58c6768a9057.setContent%28html_88e4c6368cff4485ac962de98e75f58c%29%3B%0A%20%20%20%20%20%20%20%20%0A%0A%20%20%20%20%20%20%20%20marker_693ae91b96b14af3bb3bdf76ed2fc355.bindPopup%28popup_48a649a0d0d646c29c0a58c6768a9057%29%0A%20%20%20%20%20%20%20%20%3B%0A%0A%20%20%20%20%20%20%20%20%0A%20%20%20%20%0A%20%20%20%20%0A%20%20%20%20%20%20%20%20%20%20%20%20var%20marker_68ae29bab6f1443f91ac053bfb6f4135%20%3D%20L.marker%28%0A%20%20%20%20%20%20%20%20%20%20%20%20%20%20%20%20%5B51.4988819%2C%20-0.1127175%5D%2C%0A%20%20%20%20%20%20%20%20%20%20%20%20%20%20%20%20%7B%7D%0A%20%20%20%20%20%20%20%20%20%20%20%20%29.addTo%28map_2be4973deb41464995569b7a04f0bfae%29%3B%0A%20%20%20%20%20%20%20%20%0A%20%20%20%20%0A%20%20%20%20%20%20%20%20var%20popup_fd9029c1762d4cec8c9c2126a28c2a75%20%3D%20L.popup%28%7B%22maxWidth%22%3A%20%22100%25%22%7D%29%3B%0A%0A%20%20%20%20%20%20%20%20%0A%20%20%20%20%20%20%20%20%20%20%20%20var%20html_49eab952c1964d0da89edcffbf1d287a%20%3D%20%24%28%60%3Cdiv%20id%3D%22html_49eab952c1964d0da89edcffbf1d287a%22%20style%3D%22width%3A%20100.0%25%3B%20height%3A%20100.0%25%3B%22%3E%28%27Cotto%20%2C%20%C2%A3%C2%A3%20%2C%20%27%2C%204.0%29%3C/div%3E%60%29%5B0%5D%3B%0A%20%20%20%20%20%20%20%20%20%20%20%20popup_fd9029c1762d4cec8c9c2126a28c2a75.setContent%28html_49eab952c1964d0da89edcffbf1d287a%29%3B%0A%20%20%20%20%20%20%20%20%0A%0A%20%20%20%20%20%20%20%20marker_68ae29bab6f1443f91ac053bfb6f4135.bindPopup%28popup_fd9029c1762d4cec8c9c2126a28c2a75%29%0A%20%20%20%20%20%20%20%20%3B%0A%0A%20%20%20%20%20%20%20%20%0A%20%20%20%20%0A%20%20%20%20%0A%20%20%20%20%20%20%20%20%20%20%20%20var%20marker_868c3c81973f4de69df4a9df9662cf75%20%3D%20L.marker%28%0A%20%20%20%20%20%20%20%20%20%20%20%20%20%20%20%20%5B51.51986%2C%20-0.1311722%5D%2C%0A%20%20%20%20%20%20%20%20%20%20%20%20%20%20%20%20%7B%7D%0A%20%20%20%20%20%20%20%20%20%20%20%20%29.addTo%28map_2be4973deb41464995569b7a04f0bfae%29%3B%0A%20%20%20%20%20%20%20%20%0A%20%20%20%20%0A%20%20%20%20%20%20%20%20var%20popup_f57f97b0669d4b3ab513f5ceb7eba7b5%20%3D%20L.popup%28%7B%22maxWidth%22%3A%20%22100%25%22%7D%29%3B%0A%0A%20%20%20%20%20%20%20%20%0A%20%20%20%20%20%20%20%20%20%20%20%20var%20html_537da3b585f34cddb779af1e9f11e971%20%3D%20%24%28%60%3Cdiv%20id%3D%22html_537da3b585f34cddb779af1e9f11e971%22%20style%3D%22width%3A%20100.0%25%3B%20height%3A%20100.0%25%3B%22%3E%28%27Olivelli%20%2C%20%C2%A3%C2%A3%20%2C%20%27%2C%204.0%29%3C/div%3E%60%29%5B0%5D%3B%0A%20%20%20%20%20%20%20%20%20%20%20%20popup_f57f97b0669d4b3ab513f5ceb7eba7b5.setContent%28html_537da3b585f34cddb779af1e9f11e971%29%3B%0A%20%20%20%20%20%20%20%20%0A%0A%20%20%20%20%20%20%20%20marker_868c3c81973f4de69df4a9df9662cf75.bindPopup%28popup_f57f97b0669d4b3ab513f5ceb7eba7b5%29%0A%20%20%20%20%20%20%20%20%3B%0A%0A%20%20%20%20%20%20%20%20%0A%20%20%20%20%0A%20%20%20%20%0A%20%20%20%20%20%20%20%20%20%20%20%20var%20marker_25973267fddb42a18cc3782dc5c004fb%20%3D%20L.marker%28%0A%20%20%20%20%20%20%20%20%20%20%20%20%20%20%20%20%5B51.5072531%2C%20-0.0716082%5D%2C%0A%20%20%20%20%20%20%20%20%20%20%20%20%20%20%20%20%7B%7D%0A%20%20%20%20%20%20%20%20%20%20%20%20%29.addTo%28map_2be4973deb41464995569b7a04f0bfae%29%3B%0A%20%20%20%20%20%20%20%20%0A%20%20%20%20%0A%20%20%20%20%20%20%20%20var%20popup_32de846120b0438cb7d7f849160defb0%20%3D%20L.popup%28%7B%22maxWidth%22%3A%20%22100%25%22%7D%29%3B%0A%0A%20%20%20%20%20%20%20%20%0A%20%20%20%20%20%20%20%20%20%20%20%20var%20html_67d6a5666a154b53b9a377af9f5847c4%20%3D%20%24%28%60%3Cdiv%20id%3D%22html_67d6a5666a154b53b9a377af9f5847c4%22%20style%3D%22width%3A%20100.0%25%3B%20height%3A%20100.0%25%3B%22%3E%28%22Emilia%27s%20Crafted%20Pasta%20%2C%20Missing%20%2C%20%22%2C%204.5%29%3C/div%3E%60%29%5B0%5D%3B%0A%20%20%20%20%20%20%20%20%20%20%20%20popup_32de846120b0438cb7d7f849160defb0.setContent%28html_67d6a5666a154b53b9a377af9f5847c4%29%3B%0A%20%20%20%20%20%20%20%20%0A%0A%20%20%20%20%20%20%20%20marker_25973267fddb42a18cc3782dc5c004fb.bindPopup%28popup_32de846120b0438cb7d7f849160defb0%29%0A%20%20%20%20%20%20%20%20%3B%0A%0A%20%20%20%20%20%20%20%20%0A%20%20%20%20%0A%20%20%20%20%0A%20%20%20%20%20%20%20%20%20%20%20%20var%20marker_8cb7b36142224a3694157ab1eb513ef9%20%3D%20L.marker%28%0A%20%20%20%20%20%20%20%20%20%20%20%20%20%20%20%20%5B51.5148623%2C%20-0.1766336%5D%2C%0A%20%20%20%20%20%20%20%20%20%20%20%20%20%20%20%20%7B%7D%0A%20%20%20%20%20%20%20%20%20%20%20%20%29.addTo%28map_2be4973deb41464995569b7a04f0bfae%29%3B%0A%20%20%20%20%20%20%20%20%0A%20%20%20%20%0A%20%20%20%20%20%20%20%20var%20popup_5694f8f5dc174a7bb991ab9bc7b2cfd4%20%3D%20L.popup%28%7B%22maxWidth%22%3A%20%22100%25%22%7D%29%3B%0A%0A%20%20%20%20%20%20%20%20%0A%20%20%20%20%20%20%20%20%20%20%20%20var%20html_ccbef2bf92aa43528f3ff4ffd88dc312%20%3D%20%24%28%60%3Cdiv%20id%3D%22html_ccbef2bf92aa43528f3ff4ffd88dc312%22%20style%3D%22width%3A%20100.0%25%3B%20height%3A%20100.0%25%3B%22%3E%28%27Villa%20Rosa%20Restaurant%20%2C%20%C2%A3%C2%A3%20%2C%20%27%2C%204.0%29%3C/div%3E%60%29%5B0%5D%3B%0A%20%20%20%20%20%20%20%20%20%20%20%20popup_5694f8f5dc174a7bb991ab9bc7b2cfd4.setContent%28html_ccbef2bf92aa43528f3ff4ffd88dc312%29%3B%0A%20%20%20%20%20%20%20%20%0A%0A%20%20%20%20%20%20%20%20marker_8cb7b36142224a3694157ab1eb513ef9.bindPopup%28popup_5694f8f5dc174a7bb991ab9bc7b2cfd4%29%0A%20%20%20%20%20%20%20%20%3B%0A%0A%20%20%20%20%20%20%20%20%0A%20%20%20%20%0A%20%20%20%20%0A%20%20%20%20%20%20%20%20%20%20%20%20var%20marker_df1fb76554c54a8b8d3df44700d92600%20%3D%20L.marker%28%0A%20%20%20%20%20%20%20%20%20%20%20%20%20%20%20%20%5B51.488548%2C%20-0.169777%5D%2C%0A%20%20%20%20%20%20%20%20%20%20%20%20%20%20%20%20%7B%7D%0A%20%20%20%20%20%20%20%20%20%20%20%20%29.addTo%28map_2be4973deb41464995569b7a04f0bfae%29%3B%0A%20%20%20%20%20%20%20%20%0A%20%20%20%20%0A%20%20%20%20%20%20%20%20var%20popup_cc72cd9d199f470390e68aac52461770%20%3D%20L.popup%28%7B%22maxWidth%22%3A%20%22100%25%22%7D%29%3B%0A%0A%20%20%20%20%20%20%20%20%0A%20%20%20%20%20%20%20%20%20%20%20%20var%20html_910f5cb8e16e4c4fbdf0a2d3f052deb3%20%3D%20%24%28%60%3Cdiv%20id%3D%22html_910f5cb8e16e4c4fbdf0a2d3f052deb3%22%20style%3D%22width%3A%20100.0%25%3B%20height%3A%20100.0%25%3B%22%3E%28%27Il%20Giardino%20Restaurant%20%2C%20Missing%20%2C%20%27%2C%205.0%29%3C/div%3E%60%29%5B0%5D%3B%0A%20%20%20%20%20%20%20%20%20%20%20%20popup_cc72cd9d199f470390e68aac52461770.setContent%28html_910f5cb8e16e4c4fbdf0a2d3f052deb3%29%3B%0A%20%20%20%20%20%20%20%20%0A%0A%20%20%20%20%20%20%20%20marker_df1fb76554c54a8b8d3df44700d92600.bindPopup%28popup_cc72cd9d199f470390e68aac52461770%29%0A%20%20%20%20%20%20%20%20%3B%0A%0A%20%20%20%20%20%20%20%20%0A%20%20%20%20%0A%20%20%20%20%0A%20%20%20%20%20%20%20%20%20%20%20%20var%20marker_5d203edc07ad4d8cb3396c9d7d5373c6%20%3D%20L.marker%28%0A%20%20%20%20%20%20%20%20%20%20%20%20%20%20%20%20%5B51.4903601471077%2C%20-0.156774507743243%5D%2C%0A%20%20%20%20%20%20%20%20%20%20%20%20%20%20%20%20%7B%7D%0A%20%20%20%20%20%20%20%20%20%20%20%20%29.addTo%28map_2be4973deb41464995569b7a04f0bfae%29%3B%0A%20%20%20%20%20%20%20%20%0A%20%20%20%20%0A%20%20%20%20%20%20%20%20var%20popup_62d10fea36ba46edaafb860ac140be35%20%3D%20L.popup%28%7B%22maxWidth%22%3A%20%22100%25%22%7D%29%3B%0A%0A%20%20%20%20%20%20%20%20%0A%20%20%20%20%20%20%20%20%20%20%20%20var%20html_854bbf84bd284cca9f97b6ec9c8f87fc%20%3D%20%24%28%60%3Cdiv%20id%3D%22html_854bbf84bd284cca9f97b6ec9c8f87fc%22%20style%3D%22width%3A%20100.0%25%3B%20height%3A%20100.0%25%3B%22%3E%28%27Caraffini%20Restaurant%20%2C%20%C2%A3%C2%A3%20%2C%20%27%2C%204.5%29%3C/div%3E%60%29%5B0%5D%3B%0A%20%20%20%20%20%20%20%20%20%20%20%20popup_62d10fea36ba46edaafb860ac140be35.setContent%28html_854bbf84bd284cca9f97b6ec9c8f87fc%29%3B%0A%20%20%20%20%20%20%20%20%0A%0A%20%20%20%20%20%20%20%20marker_5d203edc07ad4d8cb3396c9d7d5373c6.bindPopup%28popup_62d10fea36ba46edaafb860ac140be35%29%0A%20%20%20%20%20%20%20%20%3B%0A%0A%20%20%20%20%20%20%20%20%0A%20%20%20%20%0A%20%20%20%20%0A%20%20%20%20%20%20%20%20%20%20%20%20var%20marker_fac92f8d1d5a470b984777ea12b0b5bb%20%3D%20L.marker%28%0A%20%20%20%20%20%20%20%20%20%20%20%20%20%20%20%20%5B51.5150156%2C%20-0.1576491%5D%2C%0A%20%20%20%20%20%20%20%20%20%20%20%20%20%20%20%20%7B%7D%0A%20%20%20%20%20%20%20%20%20%20%20%20%29.addTo%28map_2be4973deb41464995569b7a04f0bfae%29%3B%0A%20%20%20%20%20%20%20%20%0A%20%20%20%20%0A%20%20%20%20%20%20%20%20var%20popup_e757ba88a3044ba3a4036e5a80a55cb3%20%3D%20L.popup%28%7B%22maxWidth%22%3A%20%22100%25%22%7D%29%3B%0A%0A%20%20%20%20%20%20%20%20%0A%20%20%20%20%20%20%20%20%20%20%20%20var%20html_3477d41f1dfd4ae39e7eb4e3cb631ee6%20%3D%20%24%28%60%3Cdiv%20id%3D%22html_3477d41f1dfd4ae39e7eb4e3cb631ee6%22%20style%3D%22width%3A%20100.0%25%3B%20height%3A%20100.0%25%3B%22%3E%28%27Locanda%20Locatelli%20%2C%20%C2%A3%C2%A3%C2%A3%C2%A3%20%2C%20%27%2C%204.0%29%3C/div%3E%60%29%5B0%5D%3B%0A%20%20%20%20%20%20%20%20%20%20%20%20popup_e757ba88a3044ba3a4036e5a80a55cb3.setContent%28html_3477d41f1dfd4ae39e7eb4e3cb631ee6%29%3B%0A%20%20%20%20%20%20%20%20%0A%0A%20%20%20%20%20%20%20%20marker_fac92f8d1d5a470b984777ea12b0b5bb.bindPopup%28popup_e757ba88a3044ba3a4036e5a80a55cb3%29%0A%20%20%20%20%20%20%20%20%3B%0A%0A%20%20%20%20%20%20%20%20%0A%20%20%20%20%0A%20%20%20%20%0A%20%20%20%20%20%20%20%20%20%20%20%20var%20marker_e94bc7f7ce634e1d8a0d482f83d64933%20%3D%20L.marker%28%0A%20%20%20%20%20%20%20%20%20%20%20%20%20%20%20%20%5B51.4350586%2C%20-0.1575961%5D%2C%0A%20%20%20%20%20%20%20%20%20%20%20%20%20%20%20%20%7B%7D%0A%20%20%20%20%20%20%20%20%20%20%20%20%29.addTo%28map_2be4973deb41464995569b7a04f0bfae%29%3B%0A%20%20%20%20%20%20%20%20%0A%20%20%20%20%0A%20%20%20%20%20%20%20%20var%20popup_ff159c6e31e54e799debc6468ad412d1%20%3D%20L.popup%28%7B%22maxWidth%22%3A%20%22100%25%22%7D%29%3B%0A%0A%20%20%20%20%20%20%20%20%0A%20%20%20%20%20%20%20%20%20%20%20%20var%20html_cf64c47710cf4426963783d851b0447e%20%3D%20%24%28%60%3Cdiv%20id%3D%22html_cf64c47710cf4426963783d851b0447e%22%20style%3D%22width%3A%20100.0%25%3B%20height%3A%20100.0%25%3B%22%3E%28%27Cassio%20Restaurant%20and%20Pizzeria%20%2C%20Missing%20%2C%20%27%2C%205.0%29%3C/div%3E%60%29%5B0%5D%3B%0A%20%20%20%20%20%20%20%20%20%20%20%20popup_ff159c6e31e54e799debc6468ad412d1.setContent%28html_cf64c47710cf4426963783d851b0447e%29%3B%0A%20%20%20%20%20%20%20%20%0A%0A%20%20%20%20%20%20%20%20marker_e94bc7f7ce634e1d8a0d482f83d64933.bindPopup%28popup_ff159c6e31e54e799debc6468ad412d1%29%0A%20%20%20%20%20%20%20%20%3B%0A%0A%20%20%20%20%20%20%20%20%0A%20%20%20%20%0A%20%20%20%20%0A%20%20%20%20%20%20%20%20%20%20%20%20var%20marker_98682472c3d74489b97d6ec85df6702f%20%3D%20L.marker%28%0A%20%20%20%20%20%20%20%20%20%20%20%20%20%20%20%20%5B51.5146428%2C%20-0.1665175%5D%2C%0A%20%20%20%20%20%20%20%20%20%20%20%20%20%20%20%20%7B%7D%0A%20%20%20%20%20%20%20%20%20%20%20%20%29.addTo%28map_2be4973deb41464995569b7a04f0bfae%29%3B%0A%20%20%20%20%20%20%20%20%0A%20%20%20%20%0A%20%20%20%20%20%20%20%20var%20popup_e2d860a0149d42ff8202252e6675d7f5%20%3D%20L.popup%28%7B%22maxWidth%22%3A%20%22100%25%22%7D%29%3B%0A%0A%20%20%20%20%20%20%20%20%0A%20%20%20%20%20%20%20%20%20%20%20%20var%20html_52737d7901254d299ba6f4a4177732ce%20%3D%20%24%28%60%3Cdiv%20id%3D%22html_52737d7901254d299ba6f4a4177732ce%22%20style%3D%22width%3A%20100.0%25%3B%20height%3A%20100.0%25%3B%22%3E%28%27Stuzzico%20%2C%20%C2%A3%C2%A3%C2%A3%C2%A3%20%2C%20%27%2C%204.0%29%3C/div%3E%60%29%5B0%5D%3B%0A%20%20%20%20%20%20%20%20%20%20%20%20popup_e2d860a0149d42ff8202252e6675d7f5.setContent%28html_52737d7901254d299ba6f4a4177732ce%29%3B%0A%20%20%20%20%20%20%20%20%0A%0A%20%20%20%20%20%20%20%20marker_98682472c3d74489b97d6ec85df6702f.bindPopup%28popup_e2d860a0149d42ff8202252e6675d7f5%29%0A%20%20%20%20%20%20%20%20%3B%0A%0A%20%20%20%20%20%20%20%20%0A%20%20%20%20%0A%20%20%20%20%0A%20%20%20%20%20%20%20%20%20%20%20%20var%20marker_01faf24237fa473e8509d5dcf4126402%20%3D%20L.marker%28%0A%20%20%20%20%20%20%20%20%20%20%20%20%20%20%20%20%5B51.511791229248%2C%20-0.128003999590874%5D%2C%0A%20%20%20%20%20%20%20%20%20%20%20%20%20%20%20%20%7B%7D%0A%20%20%20%20%20%20%20%20%20%20%20%20%29.addTo%28map_2be4973deb41464995569b7a04f0bfae%29%3B%0A%20%20%20%20%20%20%20%20%0A%20%20%20%20%0A%20%20%20%20%20%20%20%20var%20popup_9c548d39fee540aea81264def9f6ede5%20%3D%20L.popup%28%7B%22maxWidth%22%3A%20%22100%25%22%7D%29%3B%0A%0A%20%20%20%20%20%20%20%20%0A%20%20%20%20%20%20%20%20%20%20%20%20var%20html_7234dffa7dfe4b57a5ab374e35934a54%20%3D%20%24%28%60%3Cdiv%20id%3D%22html_7234dffa7dfe4b57a5ab374e35934a54%22%20style%3D%22width%3A%20100.0%25%3B%20height%3A%20100.0%25%3B%22%3E%28%27Sartori%20Restaurant%20%2C%20%C2%A3%C2%A3%20%2C%20%27%2C%204.0%29%3C/div%3E%60%29%5B0%5D%3B%0A%20%20%20%20%20%20%20%20%20%20%20%20popup_9c548d39fee540aea81264def9f6ede5.setContent%28html_7234dffa7dfe4b57a5ab374e35934a54%29%3B%0A%20%20%20%20%20%20%20%20%0A%0A%20%20%20%20%20%20%20%20marker_01faf24237fa473e8509d5dcf4126402.bindPopup%28popup_9c548d39fee540aea81264def9f6ede5%29%0A%20%20%20%20%20%20%20%20%3B%0A%0A%20%20%20%20%20%20%20%20%0A%20%20%20%20%0A%20%20%20%20%0A%20%20%20%20%20%20%20%20%20%20%20%20var%20marker_d366ea77b9cc48c8ab42e42e053417c9%20%3D%20L.marker%28%0A%20%20%20%20%20%20%20%20%20%20%20%20%20%20%20%20%5B51.5408413853259%2C%20-0.157658620866755%5D%2C%0A%20%20%20%20%20%20%20%20%20%20%20%20%20%20%20%20%7B%7D%0A%20%20%20%20%20%20%20%20%20%20%20%20%29.addTo%28map_2be4973deb41464995569b7a04f0bfae%29%3B%0A%20%20%20%20%20%20%20%20%0A%20%20%20%20%0A%20%20%20%20%20%20%20%20var%20popup_d4ca8e4b1c2c46a3984fbceac7289940%20%3D%20L.popup%28%7B%22maxWidth%22%3A%20%22100%25%22%7D%29%3B%0A%0A%20%20%20%20%20%20%20%20%0A%20%20%20%20%20%20%20%20%20%20%20%20var%20html_4bc919ebed76432781a031cb4dfd5ee4%20%3D%20%24%28%60%3Cdiv%20id%3D%22html_4bc919ebed76432781a031cb4dfd5ee4%22%20style%3D%22width%3A%20100.0%25%3B%20height%3A%20100.0%25%3B%22%3E%28%27Pesantissimo%20%2C%20%C2%A3%C2%A3%20%2C%20%27%2C%204.0%29%3C/div%3E%60%29%5B0%5D%3B%0A%20%20%20%20%20%20%20%20%20%20%20%20popup_d4ca8e4b1c2c46a3984fbceac7289940.setContent%28html_4bc919ebed76432781a031cb4dfd5ee4%29%3B%0A%20%20%20%20%20%20%20%20%0A%0A%20%20%20%20%20%20%20%20marker_d366ea77b9cc48c8ab42e42e053417c9.bindPopup%28popup_d4ca8e4b1c2c46a3984fbceac7289940%29%0A%20%20%20%20%20%20%20%20%3B%0A%0A%20%20%20%20%20%20%20%20%0A%20%20%20%20%0A%20%20%20%20%0A%20%20%20%20%20%20%20%20%20%20%20%20var%20marker_e1afc9af1aeb4bb39c7baa85af2b399d%20%3D%20L.marker%28%0A%20%20%20%20%20%20%20%20%20%20%20%20%20%20%20%20%5B51.5185707907351%2C%20-0.140762329101562%5D%2C%0A%20%20%20%20%20%20%20%20%20%20%20%20%20%20%20%20%7B%7D%0A%20%20%20%20%20%20%20%20%20%20%20%20%29.addTo%28map_2be4973deb41464995569b7a04f0bfae%29%3B%0A%20%20%20%20%20%20%20%20%0A%20%20%20%20%0A%20%20%20%20%20%20%20%20var%20popup_5abf91ce4f874580ba3052e83dd23476%20%3D%20L.popup%28%7B%22maxWidth%22%3A%20%22100%25%22%7D%29%3B%0A%0A%20%20%20%20%20%20%20%20%0A%20%20%20%20%20%20%20%20%20%20%20%20var%20html_dc50445083454d4ebae5ee61cd238f44%20%3D%20%24%28%60%3Cdiv%20id%3D%22html_dc50445083454d4ebae5ee61cd238f44%22%20style%3D%22width%3A%20100.0%25%3B%20height%3A%20100.0%25%3B%22%3E%28%27Bellaria%20Restaurant%20%2C%20%C2%A3%C2%A3%20%2C%20%27%2C%204.0%29%3C/div%3E%60%29%5B0%5D%3B%0A%20%20%20%20%20%20%20%20%20%20%20%20popup_5abf91ce4f874580ba3052e83dd23476.setContent%28html_dc50445083454d4ebae5ee61cd238f44%29%3B%0A%20%20%20%20%20%20%20%20%0A%0A%20%20%20%20%20%20%20%20marker_e1afc9af1aeb4bb39c7baa85af2b399d.bindPopup%28popup_5abf91ce4f874580ba3052e83dd23476%29%0A%20%20%20%20%20%20%20%20%3B%0A%0A%20%20%20%20%20%20%20%20%0A%20%20%20%20%0A%20%20%20%20%0A%20%20%20%20%20%20%20%20%20%20%20%20var%20marker_f203fd27db2b418ba762ffbea73fd1bc%20%3D%20L.marker%28%0A%20%20%20%20%20%20%20%20%20%20%20%20%20%20%20%20%5B51.50527%2C%20-0.080495%5D%2C%0A%20%20%20%20%20%20%20%20%20%20%20%20%20%20%20%20%7B%7D%0A%20%20%20%20%20%20%20%20%20%20%20%20%29.addTo%28map_2be4973deb41464995569b7a04f0bfae%29%3B%0A%20%20%20%20%20%20%20%20%0A%20%20%20%20%0A%20%20%20%20%20%20%20%20var%20popup_54c850947aa84463b6385235114c15f1%20%3D%20L.popup%28%7B%22maxWidth%22%3A%20%22100%25%22%7D%29%3B%0A%0A%20%20%20%20%20%20%20%20%0A%20%20%20%20%20%20%20%20%20%20%20%20var%20html_1159aaf456e24ab7a2b408b6318efe52%20%3D%20%24%28%60%3Cdiv%20id%3D%22html_1159aaf456e24ab7a2b408b6318efe52%22%20style%3D%22width%3A%20100.0%25%3B%20height%3A%20100.0%25%3B%22%3E%28%27Tavolino%20%2C%20Missing%20%2C%20%27%2C%203.5%29%3C/div%3E%60%29%5B0%5D%3B%0A%20%20%20%20%20%20%20%20%20%20%20%20popup_54c850947aa84463b6385235114c15f1.setContent%28html_1159aaf456e24ab7a2b408b6318efe52%29%3B%0A%20%20%20%20%20%20%20%20%0A%0A%20%20%20%20%20%20%20%20marker_f203fd27db2b418ba762ffbea73fd1bc.bindPopup%28popup_54c850947aa84463b6385235114c15f1%29%0A%20%20%20%20%20%20%20%20%3B%0A%0A%20%20%20%20%20%20%20%20%0A%20%20%20%20%0A%20%20%20%20%0A%20%20%20%20%20%20%20%20%20%20%20%20var%20marker_d20e104b29614b16b44a6a37058bcb3d%20%3D%20L.marker%28%0A%20%20%20%20%20%20%20%20%20%20%20%20%20%20%20%20%5B51.489143%2C%20-0.190697%5D%2C%0A%20%20%20%20%20%20%20%20%20%20%20%20%20%20%20%20%7B%7D%0A%20%20%20%20%20%20%20%20%20%20%20%20%29.addTo%28map_2be4973deb41464995569b7a04f0bfae%29%3B%0A%20%20%20%20%20%20%20%20%0A%20%20%20%20%0A%20%20%20%20%20%20%20%20var%20popup_76a35f50760a4dda882a7bfe04a53e53%20%3D%20L.popup%28%7B%22maxWidth%22%3A%20%22100%25%22%7D%29%3B%0A%0A%20%20%20%20%20%20%20%20%0A%20%20%20%20%20%20%20%20%20%20%20%20var%20html_a739a9bca76e496c9ae731f88691d802%20%3D%20%24%28%60%3Cdiv%20id%3D%22html_a739a9bca76e496c9ae731f88691d802%22%20style%3D%22width%3A%20100.0%25%3B%20height%3A%20100.0%25%3B%22%3E%28%27La%20Pappardella%20%2C%20%C2%A3%C2%A3%20%2C%20%27%2C%204.0%29%3C/div%3E%60%29%5B0%5D%3B%0A%20%20%20%20%20%20%20%20%20%20%20%20popup_76a35f50760a4dda882a7bfe04a53e53.setContent%28html_a739a9bca76e496c9ae731f88691d802%29%3B%0A%20%20%20%20%20%20%20%20%0A%0A%20%20%20%20%20%20%20%20marker_d20e104b29614b16b44a6a37058bcb3d.bindPopup%28popup_76a35f50760a4dda882a7bfe04a53e53%29%0A%20%20%20%20%20%20%20%20%3B%0A%0A%20%20%20%20%20%20%20%20%0A%20%20%20%20%0A%20%20%20%20%0A%20%20%20%20%20%20%20%20%20%20%20%20var%20marker_f70953ec5d774ed5adb9c40f565fcc51%20%3D%20L.marker%28%0A%20%20%20%20%20%20%20%20%20%20%20%20%20%20%20%20%5B51.5375644%2C%20-0.103468%5D%2C%0A%20%20%20%20%20%20%20%20%20%20%20%20%20%20%20%20%7B%7D%0A%20%20%20%20%20%20%20%20%20%20%20%20%29.addTo%28map_2be4973deb41464995569b7a04f0bfae%29%3B%0A%20%20%20%20%20%20%20%20%0A%20%20%20%20%0A%20%20%20%20%20%20%20%20var%20popup_1086c6b235614be2b1e926c6a9239438%20%3D%20L.popup%28%7B%22maxWidth%22%3A%20%22100%25%22%7D%29%3B%0A%0A%20%20%20%20%20%20%20%20%0A%20%20%20%20%20%20%20%20%20%20%20%20var%20html_5226081a75794dd49fce838ef645d7cc%20%3D%20%24%28%60%3Cdiv%20id%3D%22html_5226081a75794dd49fce838ef645d7cc%22%20style%3D%22width%3A%20100.0%25%3B%20height%3A%20100.0%25%3B%22%3E%28%27La%20Vita%20E%20Bella%20%2C%20%C2%A3%C2%A3%20%2C%20%27%2C%204.5%29%3C/div%3E%60%29%5B0%5D%3B%0A%20%20%20%20%20%20%20%20%20%20%20%20popup_1086c6b235614be2b1e926c6a9239438.setContent%28html_5226081a75794dd49fce838ef645d7cc%29%3B%0A%20%20%20%20%20%20%20%20%0A%0A%20%20%20%20%20%20%20%20marker_f70953ec5d774ed5adb9c40f565fcc51.bindPopup%28popup_1086c6b235614be2b1e926c6a9239438%29%0A%20%20%20%20%20%20%20%20%3B%0A%0A%20%20%20%20%20%20%20%20%0A%20%20%20%20%0A%20%20%20%20%0A%20%20%20%20%20%20%20%20%20%20%20%20var%20marker_5d978246d242425ab4a245af53d99bd0%20%3D%20L.marker%28%0A%20%20%20%20%20%20%20%20%20%20%20%20%20%20%20%20%5B51.5247811767756%2C%20-0.0776826217040707%5D%2C%0A%20%20%20%20%20%20%20%20%20%20%20%20%20%20%20%20%7B%7D%0A%20%20%20%20%20%20%20%20%20%20%20%20%29.addTo%28map_2be4973deb41464995569b7a04f0bfae%29%3B%0A%20%20%20%20%20%20%20%20%0A%20%20%20%20%0A%20%20%20%20%20%20%20%20var%20popup_8912ce28aadc455db78888b1d26d6564%20%3D%20L.popup%28%7B%22maxWidth%22%3A%20%22100%25%22%7D%29%3B%0A%0A%20%20%20%20%20%20%20%20%0A%20%20%20%20%20%20%20%20%20%20%20%20var%20html_d68f41e9cff84315832815f6ed4a711e%20%3D%20%24%28%60%3Cdiv%20id%3D%22html_d68f41e9cff84315832815f6ed4a711e%22%20style%3D%22width%3A%20100.0%25%3B%20height%3A%20100.0%25%3B%22%3E%28%27Sburoni%20%2C%20%C2%A3%20%2C%20%27%2C%205.0%29%3C/div%3E%60%29%5B0%5D%3B%0A%20%20%20%20%20%20%20%20%20%20%20%20popup_8912ce28aadc455db78888b1d26d6564.setContent%28html_d68f41e9cff84315832815f6ed4a711e%29%3B%0A%20%20%20%20%20%20%20%20%0A%0A%20%20%20%20%20%20%20%20marker_5d978246d242425ab4a245af53d99bd0.bindPopup%28popup_8912ce28aadc455db78888b1d26d6564%29%0A%20%20%20%20%20%20%20%20%3B%0A%0A%20%20%20%20%20%20%20%20%0A%20%20%20%20%0A%20%20%20%20%0A%20%20%20%20%20%20%20%20%20%20%20%20var%20marker_08327e966dff40609245754a76878758%20%3D%20L.marker%28%0A%20%20%20%20%20%20%20%20%20%20%20%20%20%20%20%20%5B51.4928759536943%2C%20-0.176558382809162%5D%2C%0A%20%20%20%20%20%20%20%20%20%20%20%20%20%20%20%20%7B%7D%0A%20%20%20%20%20%20%20%20%20%20%20%20%29.addTo%28map_2be4973deb41464995569b7a04f0bfae%29%3B%0A%20%20%20%20%20%20%20%20%0A%20%20%20%20%0A%20%20%20%20%20%20%20%20var%20popup_2dfb095cb6134b4fa042ab25288ba4cc%20%3D%20L.popup%28%7B%22maxWidth%22%3A%20%22100%25%22%7D%29%3B%0A%0A%20%20%20%20%20%20%20%20%0A%20%20%20%20%20%20%20%20%20%20%20%20var%20html_e0238348dd384367ab4ea12de9da73f9%20%3D%20%24%28%60%3Cdiv%20id%3D%22html_e0238348dd384367ab4ea12de9da73f9%22%20style%3D%22width%3A%20100.0%25%3B%20height%3A%20100.0%25%3B%22%3E%28%27Rocca%20%2C%20%C2%A3%C2%A3%20%2C%20%27%2C%204.0%29%3C/div%3E%60%29%5B0%5D%3B%0A%20%20%20%20%20%20%20%20%20%20%20%20popup_2dfb095cb6134b4fa042ab25288ba4cc.setContent%28html_e0238348dd384367ab4ea12de9da73f9%29%3B%0A%20%20%20%20%20%20%20%20%0A%0A%20%20%20%20%20%20%20%20marker_08327e966dff40609245754a76878758.bindPopup%28popup_2dfb095cb6134b4fa042ab25288ba4cc%29%0A%20%20%20%20%20%20%20%20%3B%0A%0A%20%20%20%20%20%20%20%20%0A%20%20%20%20%0A%20%20%20%20%0A%20%20%20%20%20%20%20%20%20%20%20%20var%20marker_2300363801d24aec8bcbf336528931c6%20%3D%20L.marker%28%0A%20%20%20%20%20%20%20%20%20%20%20%20%20%20%20%20%5B51.4729053641485%2C%20-0.0215501981475654%5D%2C%0A%20%20%20%20%20%20%20%20%20%20%20%20%20%20%20%20%7B%7D%0A%20%20%20%20%20%20%20%20%20%20%20%20%29.addTo%28map_2be4973deb41464995569b7a04f0bfae%29%3B%0A%20%20%20%20%20%20%20%20%0A%20%20%20%20%0A%20%20%20%20%20%20%20%20var%20popup_af386c28946a42789e7ead8731a77a1e%20%3D%20L.popup%28%7B%22maxWidth%22%3A%20%22100%25%22%7D%29%3B%0A%0A%20%20%20%20%20%20%20%20%0A%20%20%20%20%20%20%20%20%20%20%20%20var%20html_52ecc476f2604b6293a717f9d3aaa7c3%20%3D%20%24%28%60%3Cdiv%20id%3D%22html_52ecc476f2604b6293a717f9d3aaa7c3%22%20style%3D%22width%3A%20100.0%25%3B%20height%3A%20100.0%25%3B%22%3E%28%27Alla%20Salute%21%20Trattoria%20Pizzeria%20Social%20%2C%20Missing%20%2C%20%27%2C%205.0%29%3C/div%3E%60%29%5B0%5D%3B%0A%20%20%20%20%20%20%20%20%20%20%20%20popup_af386c28946a42789e7ead8731a77a1e.setContent%28html_52ecc476f2604b6293a717f9d3aaa7c3%29%3B%0A%20%20%20%20%20%20%20%20%0A%0A%20%20%20%20%20%20%20%20marker_2300363801d24aec8bcbf336528931c6.bindPopup%28popup_af386c28946a42789e7ead8731a77a1e%29%0A%20%20%20%20%20%20%20%20%3B%0A%0A%20%20%20%20%20%20%20%20%0A%20%20%20%20%0A%20%20%20%20%0A%20%20%20%20%20%20%20%20%20%20%20%20var%20marker_e3ddea126a834729bb0d6c30d845a2d2%20%3D%20L.marker%28%0A%20%20%20%20%20%20%20%20%20%20%20%20%20%20%20%20%5B51.5149474%2C%20-0.13324%5D%2C%0A%20%20%20%20%20%20%20%20%20%20%20%20%20%20%20%20%7B%7D%0A%20%20%20%20%20%20%20%20%20%20%20%20%29.addTo%28map_2be4973deb41464995569b7a04f0bfae%29%3B%0A%20%20%20%20%20%20%20%20%0A%20%20%20%20%0A%20%20%20%20%20%20%20%20var%20popup_5b9bb97b3b054bd79e0821123a8f6d74%20%3D%20L.popup%28%7B%22maxWidth%22%3A%20%22100%25%22%7D%29%3B%0A%0A%20%20%20%20%20%20%20%20%0A%20%20%20%20%20%20%20%20%20%20%20%20var%20html_6964a837f12f426b8cdf797ee4472a64%20%3D%20%24%28%60%3Cdiv%20id%3D%22html_6964a837f12f426b8cdf797ee4472a64%22%20style%3D%22width%3A%20100.0%25%3B%20height%3A%20100.0%25%3B%22%3E%28%27Pizza%20Pilgrims%20%2C%20%C2%A3%C2%A3%20%2C%20%27%2C%204.0%29%3C/div%3E%60%29%5B0%5D%3B%0A%20%20%20%20%20%20%20%20%20%20%20%20popup_5b9bb97b3b054bd79e0821123a8f6d74.setContent%28html_6964a837f12f426b8cdf797ee4472a64%29%3B%0A%20%20%20%20%20%20%20%20%0A%0A%20%20%20%20%20%20%20%20marker_e3ddea126a834729bb0d6c30d845a2d2.bindPopup%28popup_5b9bb97b3b054bd79e0821123a8f6d74%29%0A%20%20%20%20%20%20%20%20%3B%0A%0A%20%20%20%20%20%20%20%20%0A%20%20%20%20%0A%20%20%20%20%0A%20%20%20%20%20%20%20%20%20%20%20%20var%20marker_f9b25e26a79f44b19facd849b1f2610e%20%3D%20L.marker%28%0A%20%20%20%20%20%20%20%20%20%20%20%20%20%20%20%20%5B51.5063972%2C%20-0.1465176%5D%2C%0A%20%20%20%20%20%20%20%20%20%20%20%20%20%20%20%20%7B%7D%0A%20%20%20%20%20%20%20%20%20%20%20%20%29.addTo%28map_2be4973deb41464995569b7a04f0bfae%29%3B%0A%20%20%20%20%20%20%20%20%0A%20%20%20%20%0A%20%20%20%20%20%20%20%20var%20popup_f8c3e372645545efab03000b31c7d2bc%20%3D%20L.popup%28%7B%22maxWidth%22%3A%20%22100%25%22%7D%29%3B%0A%0A%20%20%20%20%20%20%20%20%0A%20%20%20%20%20%20%20%20%20%20%20%20var%20html_884d7c6d52354c0d817a3662a4ffedb5%20%3D%20%24%28%60%3Cdiv%20id%3D%22html_884d7c6d52354c0d817a3662a4ffedb5%22%20style%3D%22width%3A%20100.0%25%3B%20height%3A%20100.0%25%3B%22%3E%28%27Misto%20%2C%20%C2%A3%C2%A3%20%2C%20%27%2C%204.0%29%3C/div%3E%60%29%5B0%5D%3B%0A%20%20%20%20%20%20%20%20%20%20%20%20popup_f8c3e372645545efab03000b31c7d2bc.setContent%28html_884d7c6d52354c0d817a3662a4ffedb5%29%3B%0A%20%20%20%20%20%20%20%20%0A%0A%20%20%20%20%20%20%20%20marker_f9b25e26a79f44b19facd849b1f2610e.bindPopup%28popup_f8c3e372645545efab03000b31c7d2bc%29%0A%20%20%20%20%20%20%20%20%3B%0A%0A%20%20%20%20%20%20%20%20%0A%20%20%20%20%0A%20%20%20%20%0A%20%20%20%20%20%20%20%20%20%20%20%20var%20marker_39c4ea25adc340b98fa32a2eb1e43dd1%20%3D%20L.marker%28%0A%20%20%20%20%20%20%20%20%20%20%20%20%20%20%20%20%5B51.512989%2C%20-0.13147%5D%2C%0A%20%20%20%20%20%20%20%20%20%20%20%20%20%20%20%20%7B%7D%0A%20%20%20%20%20%20%20%20%20%20%20%20%29.addTo%28map_2be4973deb41464995569b7a04f0bfae%29%3B%0A%20%20%20%20%20%20%20%20%0A%20%20%20%20%0A%20%20%20%20%20%20%20%20var%20popup_2bb3364297094b1592efb97019ba1b8d%20%3D%20L.popup%28%7B%22maxWidth%22%3A%20%22100%25%22%7D%29%3B%0A%0A%20%20%20%20%20%20%20%20%0A%20%20%20%20%20%20%20%20%20%20%20%20var%20html_1ed8c6e9a64b417d90f806210cb5eb3c%20%3D%20%24%28%60%3Cdiv%20id%3D%22html_1ed8c6e9a64b417d90f806210cb5eb3c%22%20style%3D%22width%3A%20100.0%25%3B%20height%3A%20100.0%25%3B%22%3E%28%27Amalfi%20%2C%20%C2%A3%C2%A3%20%2C%20%27%2C%204.0%29%3C/div%3E%60%29%5B0%5D%3B%0A%20%20%20%20%20%20%20%20%20%20%20%20popup_2bb3364297094b1592efb97019ba1b8d.setContent%28html_1ed8c6e9a64b417d90f806210cb5eb3c%29%3B%0A%20%20%20%20%20%20%20%20%0A%0A%20%20%20%20%20%20%20%20marker_39c4ea25adc340b98fa32a2eb1e43dd1.bindPopup%28popup_2bb3364297094b1592efb97019ba1b8d%29%0A%20%20%20%20%20%20%20%20%3B%0A%0A%20%20%20%20%20%20%20%20%0A%20%20%20%20%0A%20%20%20%20%0A%20%20%20%20%20%20%20%20%20%20%20%20var%20marker_11ffdd4a2077463ebbee80db1872a052%20%3D%20L.marker%28%0A%20%20%20%20%20%20%20%20%20%20%20%20%20%20%20%20%5B51.511999%2C%20-0.133687%5D%2C%0A%20%20%20%20%20%20%20%20%20%20%20%20%20%20%20%20%7B%7D%0A%20%20%20%20%20%20%20%20%20%20%20%20%29.addTo%28map_2be4973deb41464995569b7a04f0bfae%29%3B%0A%20%20%20%20%20%20%20%20%0A%20%20%20%20%0A%20%20%20%20%20%20%20%20var%20popup_1586748fc8724a28bbf261a409efee3b%20%3D%20L.popup%28%7B%22maxWidth%22%3A%20%22100%25%22%7D%29%3B%0A%0A%20%20%20%20%20%20%20%20%0A%20%20%20%20%20%20%20%20%20%20%20%20var%20html_11758e2744ff43d98685a559f7168686%20%3D%20%24%28%60%3Cdiv%20id%3D%22html_11758e2744ff43d98685a559f7168686%22%20style%3D%22width%3A%20100.0%25%3B%20height%3A%20100.0%25%3B%22%3E%28%27Mister%20Lasagna%20%2C%20%C2%A3%20%2C%20%27%2C%204.5%29%3C/div%3E%60%29%5B0%5D%3B%0A%20%20%20%20%20%20%20%20%20%20%20%20popup_1586748fc8724a28bbf261a409efee3b.setContent%28html_11758e2744ff43d98685a559f7168686%29%3B%0A%20%20%20%20%20%20%20%20%0A%0A%20%20%20%20%20%20%20%20marker_11ffdd4a2077463ebbee80db1872a052.bindPopup%28popup_1586748fc8724a28bbf261a409efee3b%29%0A%20%20%20%20%20%20%20%20%3B%0A%0A%20%20%20%20%20%20%20%20%0A%20%20%20%20%0A%20%20%20%20%0A%20%20%20%20%20%20%20%20%20%20%20%20var%20marker_6972a00fa5684c9992ca92edca0a1924%20%3D%20L.marker%28%0A%20%20%20%20%20%20%20%20%20%20%20%20%20%20%20%20%5B51.513682%2C%20-0.089911%5D%2C%0A%20%20%20%20%20%20%20%20%20%20%20%20%20%20%20%20%7B%7D%0A%20%20%20%20%20%20%20%20%20%20%20%20%29.addTo%28map_2be4973deb41464995569b7a04f0bfae%29%3B%0A%20%20%20%20%20%20%20%20%0A%20%20%20%20%0A%20%20%20%20%20%20%20%20var%20popup_4385857ca6574a2491ac5419d5dd1f4b%20%3D%20L.popup%28%7B%22maxWidth%22%3A%20%22100%25%22%7D%29%3B%0A%0A%20%20%20%20%20%20%20%20%0A%20%20%20%20%20%20%20%20%20%20%20%20var%20html_01fc6c3fd11a43288f5df5a0365e2f92%20%3D%20%24%28%60%3Cdiv%20id%3D%22html_01fc6c3fd11a43288f5df5a0365e2f92%22%20style%3D%22width%3A%20100.0%25%3B%20height%3A%20100.0%25%3B%22%3E%28%22Cecconi%27s%20%2C%20%C2%A3%C2%A3%C2%A3%20%2C%20%22%2C%204.0%29%3C/div%3E%60%29%5B0%5D%3B%0A%20%20%20%20%20%20%20%20%20%20%20%20popup_4385857ca6574a2491ac5419d5dd1f4b.setContent%28html_01fc6c3fd11a43288f5df5a0365e2f92%29%3B%0A%20%20%20%20%20%20%20%20%0A%0A%20%20%20%20%20%20%20%20marker_6972a00fa5684c9992ca92edca0a1924.bindPopup%28popup_4385857ca6574a2491ac5419d5dd1f4b%29%0A%20%20%20%20%20%20%20%20%3B%0A%0A%20%20%20%20%20%20%20%20%0A%20%20%20%20%0A%20%20%20%20%0A%20%20%20%20%20%20%20%20%20%20%20%20var%20marker_099836db31384977b23e1c4a056174fd%20%3D%20L.marker%28%0A%20%20%20%20%20%20%20%20%20%20%20%20%20%20%20%20%5B51.5107491%2C%20-0.1226443%5D%2C%0A%20%20%20%20%20%20%20%20%20%20%20%20%20%20%20%20%7B%7D%0A%20%20%20%20%20%20%20%20%20%20%20%20%29.addTo%28map_2be4973deb41464995569b7a04f0bfae%29%3B%0A%20%20%20%20%20%20%20%20%0A%20%20%20%20%0A%20%20%20%20%20%20%20%20var%20popup_688465bb1bb046adb7eb0d2cdb6cbbef%20%3D%20L.popup%28%7B%22maxWidth%22%3A%20%22100%25%22%7D%29%3B%0A%0A%20%20%20%20%20%20%20%20%0A%20%20%20%20%20%20%20%20%20%20%20%20var%20html_61cdebcc5f5141a190226465f38100ee%20%3D%20%24%28%60%3Cdiv%20id%3D%22html_61cdebcc5f5141a190226465f38100ee%22%20style%3D%22width%3A%20100.0%25%3B%20height%3A%20100.0%25%3B%22%3E%28%27POLPO%20%2C%20%C2%A3%C2%A3%20%2C%20%27%2C%204.0%29%3C/div%3E%60%29%5B0%5D%3B%0A%20%20%20%20%20%20%20%20%20%20%20%20popup_688465bb1bb046adb7eb0d2cdb6cbbef.setContent%28html_61cdebcc5f5141a190226465f38100ee%29%3B%0A%20%20%20%20%20%20%20%20%0A%0A%20%20%20%20%20%20%20%20marker_099836db31384977b23e1c4a056174fd.bindPopup%28popup_688465bb1bb046adb7eb0d2cdb6cbbef%29%0A%20%20%20%20%20%20%20%20%3B%0A%0A%20%20%20%20%20%20%20%20%0A%20%20%20%20%0A%20%20%20%20%0A%20%20%20%20%20%20%20%20%20%20%20%20var%20marker_313d2f34c4674c24b1d3ef04fae90010%20%3D%20L.marker%28%0A%20%20%20%20%20%20%20%20%20%20%20%20%20%20%20%20%5B51.5232425139546%2C%20-0.119118084823987%5D%2C%0A%20%20%20%20%20%20%20%20%20%20%20%20%20%20%20%20%7B%7D%0A%20%20%20%20%20%20%20%20%20%20%20%20%29.addTo%28map_2be4973deb41464995569b7a04f0bfae%29%3B%0A%20%20%20%20%20%20%20%20%0A%20%20%20%20%0A%20%20%20%20%20%20%20%20var%20popup_7d1924ebb6534fe6855416b40ff739a5%20%3D%20L.popup%28%7B%22maxWidth%22%3A%20%22100%25%22%7D%29%3B%0A%0A%20%20%20%20%20%20%20%20%0A%20%20%20%20%20%20%20%20%20%20%20%20var%20html_b158d592cfa0457fad1cbeebba8eafba%20%3D%20%24%28%60%3Cdiv%20id%3D%22html_b158d592cfa0457fad1cbeebba8eafba%22%20style%3D%22width%3A%20100.0%25%3B%20height%3A%20100.0%25%3B%22%3E%28%27Ciao%20Bella%20%2C%20%C2%A3%C2%A3%20%2C%20%27%2C%204.0%29%3C/div%3E%60%29%5B0%5D%3B%0A%20%20%20%20%20%20%20%20%20%20%20%20popup_7d1924ebb6534fe6855416b40ff739a5.setContent%28html_b158d592cfa0457fad1cbeebba8eafba%29%3B%0A%20%20%20%20%20%20%20%20%0A%0A%20%20%20%20%20%20%20%20marker_313d2f34c4674c24b1d3ef04fae90010.bindPopup%28popup_7d1924ebb6534fe6855416b40ff739a5%29%0A%20%20%20%20%20%20%20%20%3B%0A%0A%20%20%20%20%20%20%20%20%0A%20%20%20%20%0A%20%20%20%20%0A%20%20%20%20%20%20%20%20%20%20%20%20var%20marker_eec5f36d864c40699be116c9acf1b37d%20%3D%20L.marker%28%0A%20%20%20%20%20%20%20%20%20%20%20%20%20%20%20%20%5B51.5097908%2C%20-0.1933323%5D%2C%0A%20%20%20%20%20%20%20%20%20%20%20%20%20%20%20%20%7B%7D%0A%20%20%20%20%20%20%20%20%20%20%20%20%29.addTo%28map_2be4973deb41464995569b7a04f0bfae%29%3B%0A%20%20%20%20%20%20%20%20%0A%20%20%20%20%0A%20%20%20%20%20%20%20%20var%20popup_e9374811fdc5494c9b38be90f4adb343%20%3D%20L.popup%28%7B%22maxWidth%22%3A%20%22100%25%22%7D%29%3B%0A%0A%20%20%20%20%20%20%20%20%0A%20%20%20%20%20%20%20%20%20%20%20%20var%20html_c3bd5cfc7e4b41f6a585e25202e9ef6c%20%3D%20%24%28%60%3Cdiv%20id%3D%22html_c3bd5cfc7e4b41f6a585e25202e9ef6c%22%20style%3D%22width%3A%20100.0%25%3B%20height%3A%20100.0%25%3B%22%3E%28%27De%20Amicis%20%2C%20%C2%A3%C2%A3%20%2C%20%27%2C%204.0%29%3C/div%3E%60%29%5B0%5D%3B%0A%20%20%20%20%20%20%20%20%20%20%20%20popup_e9374811fdc5494c9b38be90f4adb343.setContent%28html_c3bd5cfc7e4b41f6a585e25202e9ef6c%29%3B%0A%20%20%20%20%20%20%20%20%0A%0A%20%20%20%20%20%20%20%20marker_eec5f36d864c40699be116c9acf1b37d.bindPopup%28popup_e9374811fdc5494c9b38be90f4adb343%29%0A%20%20%20%20%20%20%20%20%3B%0A%0A%20%20%20%20%20%20%20%20%0A%20%20%20%20%0A%20%20%20%20%0A%20%20%20%20%20%20%20%20%20%20%20%20var%20marker_f4dab207076b477d9aadaabb364c4cbd%20%3D%20L.marker%28%0A%20%20%20%20%20%20%20%20%20%20%20%20%20%20%20%20%5B51.5118607745811%2C%20-0.106365156250035%5D%2C%0A%20%20%20%20%20%20%20%20%20%20%20%20%20%20%20%20%7B%7D%0A%20%20%20%20%20%20%20%20%20%20%20%20%29.addTo%28map_2be4973deb41464995569b7a04f0bfae%29%3B%0A%20%20%20%20%20%20%20%20%0A%20%20%20%20%0A%20%20%20%20%20%20%20%20var%20popup_e7fd284ada704e0097708f5c73c0b3a1%20%3D%20L.popup%28%7B%22maxWidth%22%3A%20%22100%25%22%7D%29%3B%0A%0A%20%20%20%20%20%20%20%20%0A%20%20%20%20%20%20%20%20%20%20%20%20var%20html_9b2d52b3639b4843bd4ef18cddd76887%20%3D%20%24%28%60%3Cdiv%20id%3D%22html_9b2d52b3639b4843bd4ef18cddd76887%22%20style%3D%22width%3A%20100.0%25%3B%20height%3A%20100.0%25%3B%22%3E%28%22L%27Antipasto%20City%20%2C%20Missing%20%2C%20%22%2C%205.0%29%3C/div%3E%60%29%5B0%5D%3B%0A%20%20%20%20%20%20%20%20%20%20%20%20popup_e7fd284ada704e0097708f5c73c0b3a1.setContent%28html_9b2d52b3639b4843bd4ef18cddd76887%29%3B%0A%20%20%20%20%20%20%20%20%0A%0A%20%20%20%20%20%20%20%20marker_f4dab207076b477d9aadaabb364c4cbd.bindPopup%28popup_e7fd284ada704e0097708f5c73c0b3a1%29%0A%20%20%20%20%20%20%20%20%3B%0A%0A%20%20%20%20%20%20%20%20%0A%20%20%20%20%0A%20%20%20%20%0A%20%20%20%20%20%20%20%20%20%20%20%20var%20marker_9692e45bb13e44288c381cd06c4a9e6f%20%3D%20L.marker%28%0A%20%20%20%20%20%20%20%20%20%20%20%20%20%20%20%20%5B51.515359633283%2C%20-0.2058905197699%5D%2C%0A%20%20%20%20%20%20%20%20%20%20%20%20%20%20%20%20%7B%7D%0A%20%20%20%20%20%20%20%20%20%20%20%20%29.addTo%28map_2be4973deb41464995569b7a04f0bfae%29%3B%0A%20%20%20%20%20%20%20%20%0A%20%20%20%20%0A%20%20%20%20%20%20%20%20var%20popup_5dbd1b91b3404851996085bebc9e165d%20%3D%20L.popup%28%7B%22maxWidth%22%3A%20%22100%25%22%7D%29%3B%0A%0A%20%20%20%20%20%20%20%20%0A%20%20%20%20%20%20%20%20%20%20%20%20var%20html_85797bca067c4ee5b1b7e7f32a1d253d%20%3D%20%24%28%60%3Cdiv%20id%3D%22html_85797bca067c4ee5b1b7e7f32a1d253d%22%20style%3D%22width%3A%20100.0%25%3B%20height%3A%20100.0%25%3B%22%3E%28%27Osteria%20Basilico%20%2C%20%C2%A3%C2%A3%C2%A3%20%2C%20%27%2C%204.0%29%3C/div%3E%60%29%5B0%5D%3B%0A%20%20%20%20%20%20%20%20%20%20%20%20popup_5dbd1b91b3404851996085bebc9e165d.setContent%28html_85797bca067c4ee5b1b7e7f32a1d253d%29%3B%0A%20%20%20%20%20%20%20%20%0A%0A%20%20%20%20%20%20%20%20marker_9692e45bb13e44288c381cd06c4a9e6f.bindPopup%28popup_5dbd1b91b3404851996085bebc9e165d%29%0A%20%20%20%20%20%20%20%20%3B%0A%0A%20%20%20%20%20%20%20%20%0A%20%20%20%20%0A%20%20%20%20%0A%20%20%20%20%20%20%20%20%20%20%20%20var%20marker_f0465340c87f4790a8dc87fef5b68469%20%3D%20L.marker%28%0A%20%20%20%20%20%20%20%20%20%20%20%20%20%20%20%20%5B51.4956817626953%2C%20-0.141846001148224%5D%2C%0A%20%20%20%20%20%20%20%20%20%20%20%20%20%20%20%20%7B%7D%0A%20%20%20%20%20%20%20%20%20%20%20%20%29.addTo%28map_2be4973deb41464995569b7a04f0bfae%29%3B%0A%20%20%20%20%20%20%20%20%0A%20%20%20%20%0A%20%20%20%20%20%20%20%20var%20popup_4591cb30b1ab4cc6b169ca2ddaf8131e%20%3D%20L.popup%28%7B%22maxWidth%22%3A%20%22100%25%22%7D%29%3B%0A%0A%20%20%20%20%20%20%20%20%0A%20%20%20%20%20%20%20%20%20%20%20%20var%20html_2295c2a4ed944d30afbc93e45aacdc42%20%3D%20%24%28%60%3Cdiv%20id%3D%22html_2295c2a4ed944d30afbc93e45aacdc42%22%20style%3D%22width%3A%20100.0%25%3B%20height%3A%20100.0%25%3B%22%3E%28%27Il%20Posto%20%2C%20%C2%A3%C2%A3%20%2C%20%27%2C%204.0%29%3C/div%3E%60%29%5B0%5D%3B%0A%20%20%20%20%20%20%20%20%20%20%20%20popup_4591cb30b1ab4cc6b169ca2ddaf8131e.setContent%28html_2295c2a4ed944d30afbc93e45aacdc42%29%3B%0A%20%20%20%20%20%20%20%20%0A%0A%20%20%20%20%20%20%20%20marker_f0465340c87f4790a8dc87fef5b68469.bindPopup%28popup_4591cb30b1ab4cc6b169ca2ddaf8131e%29%0A%20%20%20%20%20%20%20%20%3B%0A%0A%20%20%20%20%20%20%20%20%0A%20%20%20%20%0A%20%20%20%20%0A%20%20%20%20%20%20%20%20%20%20%20%20var%20marker_9808ba72f9d045cd8d502a4a102cf92b%20%3D%20L.marker%28%0A%20%20%20%20%20%20%20%20%20%20%20%20%20%20%20%20%5B51.527082%2C%20-0.136661%5D%2C%0A%20%20%20%20%20%20%20%20%20%20%20%20%20%20%20%20%7B%7D%0A%20%20%20%20%20%20%20%20%20%20%20%20%29.addTo%28map_2be4973deb41464995569b7a04f0bfae%29%3B%0A%20%20%20%20%20%20%20%20%0A%20%20%20%20%0A%20%20%20%20%20%20%20%20var%20popup_76a8998a8a54448cb5084bad1606cd6e%20%3D%20L.popup%28%7B%22maxWidth%22%3A%20%22100%25%22%7D%29%3B%0A%0A%20%20%20%20%20%20%20%20%0A%20%20%20%20%20%20%20%20%20%20%20%20var%20html_a77c10e97bad4bef896666734d856c6b%20%3D%20%24%28%60%3Cdiv%20id%3D%22html_a77c10e97bad4bef896666734d856c6b%22%20style%3D%22width%3A%20100.0%25%3B%20height%3A%20100.0%25%3B%22%3E%28%22Brizzi%27s%20%2C%20%C2%A3%20%2C%20%22%2C%205.0%29%3C/div%3E%60%29%5B0%5D%3B%0A%20%20%20%20%20%20%20%20%20%20%20%20popup_76a8998a8a54448cb5084bad1606cd6e.setContent%28html_a77c10e97bad4bef896666734d856c6b%29%3B%0A%20%20%20%20%20%20%20%20%0A%0A%20%20%20%20%20%20%20%20marker_9808ba72f9d045cd8d502a4a102cf92b.bindPopup%28popup_76a8998a8a54448cb5084bad1606cd6e%29%0A%20%20%20%20%20%20%20%20%3B%0A%0A%20%20%20%20%20%20%20%20%0A%20%20%20%20%0A%20%20%20%20%0A%20%20%20%20%20%20%20%20%20%20%20%20var%20marker_aa621f42b7ee4c74a1c8a2ea097ec740%20%3D%20L.marker%28%0A%20%20%20%20%20%20%20%20%20%20%20%20%20%20%20%20%5B51.5099935255636%2C%20-0.197430819704437%5D%2C%0A%20%20%20%20%20%20%20%20%20%20%20%20%20%20%20%20%7B%7D%0A%20%20%20%20%20%20%20%20%20%20%20%20%29.addTo%28map_2be4973deb41464995569b7a04f0bfae%29%3B%0A%20%20%20%20%20%20%20%20%0A%20%20%20%20%0A%20%20%20%20%20%20%20%20var%20popup_2472d10aaedd4dc2b4b8aa375b16cc36%20%3D%20L.popup%28%7B%22maxWidth%22%3A%20%22100%25%22%7D%29%3B%0A%0A%20%20%20%20%20%20%20%20%0A%20%20%20%20%20%20%20%20%20%20%20%20var%20html_e7a3a4da4ec94a4f94df142b360d1451%20%3D%20%24%28%60%3Cdiv%20id%3D%22html_e7a3a4da4ec94a4f94df142b360d1451%22%20style%3D%22width%3A%20100.0%25%3B%20height%3A%20100.0%25%3B%22%3E%28%27Arancina%20%2C%20%C2%A3%C2%A3%20%2C%20%27%2C%204.0%29%3C/div%3E%60%29%5B0%5D%3B%0A%20%20%20%20%20%20%20%20%20%20%20%20popup_2472d10aaedd4dc2b4b8aa375b16cc36.setContent%28html_e7a3a4da4ec94a4f94df142b360d1451%29%3B%0A%20%20%20%20%20%20%20%20%0A%0A%20%20%20%20%20%20%20%20marker_aa621f42b7ee4c74a1c8a2ea097ec740.bindPopup%28popup_2472d10aaedd4dc2b4b8aa375b16cc36%29%0A%20%20%20%20%20%20%20%20%3B%0A%0A%20%20%20%20%20%20%20%20%0A%20%20%20%20%0A%20%20%20%20%0A%20%20%20%20%20%20%20%20%20%20%20%20var%20marker_aeacaad18b6448c9bb02c59ae926667d%20%3D%20L.marker%28%0A%20%20%20%20%20%20%20%20%20%20%20%20%20%20%20%20%5B51.5462962%2C%20-0.1012203%5D%2C%0A%20%20%20%20%20%20%20%20%20%20%20%20%20%20%20%20%7B%7D%0A%20%20%20%20%20%20%20%20%20%20%20%20%29.addTo%28map_2be4973deb41464995569b7a04f0bfae%29%3B%0A%20%20%20%20%20%20%20%20%0A%20%20%20%20%0A%20%20%20%20%20%20%20%20var%20popup_a16daa3846b24c2b8dfb11ba49d44dfd%20%3D%20L.popup%28%7B%22maxWidth%22%3A%20%22100%25%22%7D%29%3B%0A%0A%20%20%20%20%20%20%20%20%0A%20%20%20%20%20%20%20%20%20%20%20%20var%20html_79a06f863ee4421ea017cccf86a8dc41%20%3D%20%24%28%60%3Cdiv%20id%3D%22html_79a06f863ee4421ea017cccf86a8dc41%22%20style%3D%22width%3A%20100.0%25%3B%20height%3A%20100.0%25%3B%22%3E%28%27Trullo%20%2C%20%C2%A3%C2%A3%C2%A3%20%2C%20%27%2C%204.0%29%3C/div%3E%60%29%5B0%5D%3B%0A%20%20%20%20%20%20%20%20%20%20%20%20popup_a16daa3846b24c2b8dfb11ba49d44dfd.setContent%28html_79a06f863ee4421ea017cccf86a8dc41%29%3B%0A%20%20%20%20%20%20%20%20%0A%0A%20%20%20%20%20%20%20%20marker_aeacaad18b6448c9bb02c59ae926667d.bindPopup%28popup_a16daa3846b24c2b8dfb11ba49d44dfd%29%0A%20%20%20%20%20%20%20%20%3B%0A%0A%20%20%20%20%20%20%20%20%0A%20%20%20%20%0A%20%20%20%20%0A%20%20%20%20%20%20%20%20%20%20%20%20var%20marker_18e6ff3dfb13411a830f07ff7c364ae3%20%3D%20L.marker%28%0A%20%20%20%20%20%20%20%20%20%20%20%20%20%20%20%20%5B51.502859%2C%20-0.020183%5D%2C%0A%20%20%20%20%20%20%20%20%20%20%20%20%20%20%20%20%7B%7D%0A%20%20%20%20%20%20%20%20%20%20%20%20%29.addTo%28map_2be4973deb41464995569b7a04f0bfae%29%3B%0A%20%20%20%20%20%20%20%20%0A%20%20%20%20%0A%20%20%20%20%20%20%20%20var%20popup_ae33c69bc186408f9e36275f65c43c99%20%3D%20L.popup%28%7B%22maxWidth%22%3A%20%22100%25%22%7D%29%3B%0A%0A%20%20%20%20%20%20%20%20%0A%20%20%20%20%20%20%20%20%20%20%20%20var%20html_c99c549623804025bdb884cf52f4ad31%20%3D%20%24%28%60%3Cdiv%20id%3D%22html_c99c549623804025bdb884cf52f4ad31%22%20style%3D%22width%3A%20100.0%25%3B%20height%3A%20100.0%25%3B%22%3E%28%27Obic%C3%A0%20%2C%20%C2%A3%C2%A3%20%2C%20%27%2C%203.5%29%3C/div%3E%60%29%5B0%5D%3B%0A%20%20%20%20%20%20%20%20%20%20%20%20popup_ae33c69bc186408f9e36275f65c43c99.setContent%28html_c99c549623804025bdb884cf52f4ad31%29%3B%0A%20%20%20%20%20%20%20%20%0A%0A%20%20%20%20%20%20%20%20marker_18e6ff3dfb13411a830f07ff7c364ae3.bindPopup%28popup_ae33c69bc186408f9e36275f65c43c99%29%0A%20%20%20%20%20%20%20%20%3B%0A%0A%20%20%20%20%20%20%20%20%0A%20%20%20%20%0A%20%20%20%20%0A%20%20%20%20%20%20%20%20%20%20%20%20var%20marker_346b6c687b0e42b5af5da51aadd84553%20%3D%20L.marker%28%0A%20%20%20%20%20%20%20%20%20%20%20%20%20%20%20%20%5B51.51977%2C%20-0.134364%5D%2C%0A%20%20%20%20%20%20%20%20%20%20%20%20%20%20%20%20%7B%7D%0A%20%20%20%20%20%20%20%20%20%20%20%20%29.addTo%28map_2be4973deb41464995569b7a04f0bfae%29%3B%0A%20%20%20%20%20%20%20%20%0A%20%20%20%20%0A%20%20%20%20%20%20%20%20var%20popup_2d2a99fb5b3a45619024efd23c4a5302%20%3D%20L.popup%28%7B%22maxWidth%22%3A%20%22100%25%22%7D%29%3B%0A%0A%20%20%20%20%20%20%20%20%0A%20%20%20%20%20%20%20%20%20%20%20%20var%20html_c67e5eb595a346ea90774a201b8f6898%20%3D%20%24%28%60%3Cdiv%20id%3D%22html_c67e5eb595a346ea90774a201b8f6898%22%20style%3D%22width%3A%20100.0%25%3B%20height%3A%20100.0%25%3B%22%3E%28%27Spaghetti%20House%20%2C%20%C2%A3%C2%A3%20%2C%20%27%2C%204.0%29%3C/div%3E%60%29%5B0%5D%3B%0A%20%20%20%20%20%20%20%20%20%20%20%20popup_2d2a99fb5b3a45619024efd23c4a5302.setContent%28html_c67e5eb595a346ea90774a201b8f6898%29%3B%0A%20%20%20%20%20%20%20%20%0A%0A%20%20%20%20%20%20%20%20marker_346b6c687b0e42b5af5da51aadd84553.bindPopup%28popup_2d2a99fb5b3a45619024efd23c4a5302%29%0A%20%20%20%20%20%20%20%20%3B%0A%0A%20%20%20%20%20%20%20%20%0A%20%20%20%20%0A%20%20%20%20%0A%20%20%20%20%20%20%20%20%20%20%20%20var%20marker_2bb7f8e4c2d643449ac0989b2eb4caff%20%3D%20L.marker%28%0A%20%20%20%20%20%20%20%20%20%20%20%20%20%20%20%20%5B51.494095623609%2C%20-0.201894407860292%5D%2C%0A%20%20%20%20%20%20%20%20%20%20%20%20%20%20%20%20%7B%7D%0A%20%20%20%20%20%20%20%20%20%20%20%20%29.addTo%28map_2be4973deb41464995569b7a04f0bfae%29%3B%0A%20%20%20%20%20%20%20%20%0A%20%20%20%20%0A%20%20%20%20%20%20%20%20var%20popup_abb81f2dc99d40b1ab3f67738cea0fde%20%3D%20L.popup%28%7B%22maxWidth%22%3A%20%22100%25%22%7D%29%3B%0A%0A%20%20%20%20%20%20%20%20%0A%20%20%20%20%20%20%20%20%20%20%20%20var%20html_6b8d74e0d67f4415b96cb550b783e348%20%3D%20%24%28%60%3Cdiv%20id%3D%22html_6b8d74e0d67f4415b96cb550b783e348%22%20style%3D%22width%3A%20100.0%25%3B%20height%3A%20100.0%25%3B%22%3E%28%22Cacciari%27s%20%2C%20%C2%A3%C2%A3%20%2C%20%22%2C%204.5%29%3C/div%3E%60%29%5B0%5D%3B%0A%20%20%20%20%20%20%20%20%20%20%20%20popup_abb81f2dc99d40b1ab3f67738cea0fde.setContent%28html_6b8d74e0d67f4415b96cb550b783e348%29%3B%0A%20%20%20%20%20%20%20%20%0A%0A%20%20%20%20%20%20%20%20marker_2bb7f8e4c2d643449ac0989b2eb4caff.bindPopup%28popup_abb81f2dc99d40b1ab3f67738cea0fde%29%0A%20%20%20%20%20%20%20%20%3B%0A%0A%20%20%20%20%20%20%20%20%0A%20%20%20%20%0A%20%20%20%20%0A%20%20%20%20%20%20%20%20%20%20%20%20var%20marker_4b337eac81124706bbf900292cc09276%20%3D%20L.marker%28%0A%20%20%20%20%20%20%20%20%20%20%20%20%20%20%20%20%5B51.5088519%2C%20-0.1436403%5D%2C%0A%20%20%20%20%20%20%20%20%20%20%20%20%20%20%20%20%7B%7D%0A%20%20%20%20%20%20%20%20%20%20%20%20%29.addTo%28map_2be4973deb41464995569b7a04f0bfae%29%3B%0A%20%20%20%20%20%20%20%20%0A%20%20%20%20%0A%20%20%20%20%20%20%20%20var%20popup_162c7dbd8d8f4ee2b3f1b3fba75b579f%20%3D%20L.popup%28%7B%22maxWidth%22%3A%20%22100%25%22%7D%29%3B%0A%0A%20%20%20%20%20%20%20%20%0A%20%20%20%20%20%20%20%20%20%20%20%20var%20html_de035b567c2c497cb693d6392cdc1e31%20%3D%20%24%28%60%3Cdiv%20id%3D%22html_de035b567c2c497cb693d6392cdc1e31%22%20style%3D%22width%3A%20100.0%25%3B%20height%3A%20100.0%25%3B%22%3E%28%27Bocconcino%20Restaurant%20%2C%20%C2%A3%C2%A3%C2%A3%C2%A3%20%2C%20%27%2C%204.0%29%3C/div%3E%60%29%5B0%5D%3B%0A%20%20%20%20%20%20%20%20%20%20%20%20popup_162c7dbd8d8f4ee2b3f1b3fba75b579f.setContent%28html_de035b567c2c497cb693d6392cdc1e31%29%3B%0A%20%20%20%20%20%20%20%20%0A%0A%20%20%20%20%20%20%20%20marker_4b337eac81124706bbf900292cc09276.bindPopup%28popup_162c7dbd8d8f4ee2b3f1b3fba75b579f%29%0A%20%20%20%20%20%20%20%20%3B%0A%0A%20%20%20%20%20%20%20%20%0A%20%20%20%20%0A%20%20%20%20%0A%20%20%20%20%20%20%20%20%20%20%20%20var%20marker_2dd00a38b09a4ee895578fb5e23a11ea%20%3D%20L.marker%28%0A%20%20%20%20%20%20%20%20%20%20%20%20%20%20%20%20%5B51.5134464%2C%20-0.1002132%5D%2C%0A%20%20%20%20%20%20%20%20%20%20%20%20%20%20%20%20%7B%7D%0A%20%20%20%20%20%20%20%20%20%20%20%20%29.addTo%28map_2be4973deb41464995569b7a04f0bfae%29%3B%0A%20%20%20%20%20%20%20%20%0A%20%20%20%20%0A%20%20%20%20%20%20%20%20var%20popup_f051c38015484456966e183027c25650%20%3D%20L.popup%28%7B%22maxWidth%22%3A%20%22100%25%22%7D%29%3B%0A%0A%20%20%20%20%20%20%20%20%0A%20%20%20%20%20%20%20%20%20%20%20%20var%20html_ad00fd4a0baf48f29b113f91925c0d29%20%3D%20%24%28%60%3Cdiv%20id%3D%22html_ad00fd4a0baf48f29b113f91925c0d29%22%20style%3D%22width%3A%20100.0%25%3B%20height%3A%20100.0%25%3B%22%3E%28%27Coppa%20Club%20%2C%20%C2%A3%C2%A3%20%2C%20%27%2C%203.5%29%3C/div%3E%60%29%5B0%5D%3B%0A%20%20%20%20%20%20%20%20%20%20%20%20popup_f051c38015484456966e183027c25650.setContent%28html_ad00fd4a0baf48f29b113f91925c0d29%29%3B%0A%20%20%20%20%20%20%20%20%0A%0A%20%20%20%20%20%20%20%20marker_2dd00a38b09a4ee895578fb5e23a11ea.bindPopup%28popup_f051c38015484456966e183027c25650%29%0A%20%20%20%20%20%20%20%20%3B%0A%0A%20%20%20%20%20%20%20%20%0A%20%20%20%20%0A%20%20%20%20%0A%20%20%20%20%20%20%20%20%20%20%20%20var%20marker_a1642b21b39d4438ab91cbce09d31cd3%20%3D%20L.marker%28%0A%20%20%20%20%20%20%20%20%20%20%20%20%20%20%20%20%5B51.52612%2C%20-0.081457%5D%2C%0A%20%20%20%20%20%20%20%20%20%20%20%20%20%20%20%20%7B%7D%0A%20%20%20%20%20%20%20%20%20%20%20%20%29.addTo%28map_2be4973deb41464995569b7a04f0bfae%29%3B%0A%20%20%20%20%20%20%20%20%0A%20%20%20%20%0A%20%20%20%20%20%20%20%20var%20popup_8c541ac7c4914dd5a407aa95b0945d00%20%3D%20L.popup%28%7B%22maxWidth%22%3A%20%22100%25%22%7D%29%3B%0A%0A%20%20%20%20%20%20%20%20%0A%20%20%20%20%20%20%20%20%20%20%20%20var%20html_205b78bbd9264ef0acf727cf22c8c092%20%3D%20%24%28%60%3Cdiv%20id%3D%22html_205b78bbd9264ef0acf727cf22c8c092%22%20style%3D%22width%3A%20100.0%25%3B%20height%3A%20100.0%25%3B%22%3E%28%27Bottega%20Prelibato%20%2C%20%C2%A3%C2%A3%20%2C%20%27%2C%204.0%29%3C/div%3E%60%29%5B0%5D%3B%0A%20%20%20%20%20%20%20%20%20%20%20%20popup_8c541ac7c4914dd5a407aa95b0945d00.setContent%28html_205b78bbd9264ef0acf727cf22c8c092%29%3B%0A%20%20%20%20%20%20%20%20%0A%0A%20%20%20%20%20%20%20%20marker_a1642b21b39d4438ab91cbce09d31cd3.bindPopup%28popup_8c541ac7c4914dd5a407aa95b0945d00%29%0A%20%20%20%20%20%20%20%20%3B%0A%0A%20%20%20%20%20%20%20%20%0A%20%20%20%20%0A%20%20%20%20%0A%20%20%20%20%20%20%20%20%20%20%20%20var%20marker_d95f41205650410fbce769744dd2434d%20%3D%20L.marker%28%0A%20%20%20%20%20%20%20%20%20%20%20%20%20%20%20%20%5B51.513356%2C%20-0.134634%5D%2C%0A%20%20%20%20%20%20%20%20%20%20%20%20%20%20%20%20%7B%7D%0A%20%20%20%20%20%20%20%20%20%20%20%20%29.addTo%28map_2be4973deb41464995569b7a04f0bfae%29%3B%0A%20%20%20%20%20%20%20%20%0A%20%20%20%20%0A%20%20%20%20%20%20%20%20var%20popup_70c8527d1d3a49ed94e11ee42a494f50%20%3D%20L.popup%28%7B%22maxWidth%22%3A%20%22100%25%22%7D%29%3B%0A%0A%20%20%20%20%20%20%20%20%0A%20%20%20%20%20%20%20%20%20%20%20%20var%20html_eca419a96a6f4558a23b6d8dcbc98257%20%3D%20%24%28%60%3Cdiv%20id%3D%22html_eca419a96a6f4558a23b6d8dcbc98257%22%20style%3D%22width%3A%20100.0%25%3B%20height%3A%20100.0%25%3B%22%3E%28%27Polpetto%20%2C%20%C2%A3%C2%A3%20%2C%20%27%2C%204.0%29%3C/div%3E%60%29%5B0%5D%3B%0A%20%20%20%20%20%20%20%20%20%20%20%20popup_70c8527d1d3a49ed94e11ee42a494f50.setContent%28html_eca419a96a6f4558a23b6d8dcbc98257%29%3B%0A%20%20%20%20%20%20%20%20%0A%0A%20%20%20%20%20%20%20%20marker_d95f41205650410fbce769744dd2434d.bindPopup%28popup_70c8527d1d3a49ed94e11ee42a494f50%29%0A%20%20%20%20%20%20%20%20%3B%0A%0A%20%20%20%20%20%20%20%20%0A%20%20%20%20%0A%20%20%20%20%0A%20%20%20%20%20%20%20%20%20%20%20%20var%20marker_736dd8ff51a342cba62a18fba0eba661%20%3D%20L.marker%28%0A%20%20%20%20%20%20%20%20%20%20%20%20%20%20%20%20%5B51.5182326%2C%20-0.1543056%5D%2C%0A%20%20%20%20%20%20%20%20%20%20%20%20%20%20%20%20%7B%7D%0A%20%20%20%20%20%20%20%20%20%20%20%20%29.addTo%28map_2be4973deb41464995569b7a04f0bfae%29%3B%0A%20%20%20%20%20%20%20%20%0A%20%20%20%20%0A%20%20%20%20%20%20%20%20var%20popup_f5b6a7a4844a460393b4a927c803a2b6%20%3D%20L.popup%28%7B%22maxWidth%22%3A%20%22100%25%22%7D%29%3B%0A%0A%20%20%20%20%20%20%20%20%0A%20%20%20%20%20%20%20%20%20%20%20%20var%20html_e4f1013c06de4e73a4387599104a3688%20%3D%20%24%28%60%3Cdiv%20id%3D%22html_e4f1013c06de4e73a4387599104a3688%22%20style%3D%22width%3A%20100.0%25%3B%20height%3A%20100.0%25%3B%22%3E%28%27Il%20Baretto%20%2C%20%C2%A3%C2%A3%C2%A3%20%2C%20%27%2C%203.0%29%3C/div%3E%60%29%5B0%5D%3B%0A%20%20%20%20%20%20%20%20%20%20%20%20popup_f5b6a7a4844a460393b4a927c803a2b6.setContent%28html_e4f1013c06de4e73a4387599104a3688%29%3B%0A%20%20%20%20%20%20%20%20%0A%0A%20%20%20%20%20%20%20%20marker_736dd8ff51a342cba62a18fba0eba661.bindPopup%28popup_f5b6a7a4844a460393b4a927c803a2b6%29%0A%20%20%20%20%20%20%20%20%3B%0A%0A%20%20%20%20%20%20%20%20%0A%20%20%20%20%0A%20%20%20%20%0A%20%20%20%20%20%20%20%20%20%20%20%20var%20marker_cbe2abc877db4fa9b4d8b74a0dcdf290%20%3D%20L.marker%28%0A%20%20%20%20%20%20%20%20%20%20%20%20%20%20%20%20%5B51.5489128%2C%20-0.1710916%5D%2C%0A%20%20%20%20%20%20%20%20%20%20%20%20%20%20%20%20%7B%7D%0A%20%20%20%20%20%20%20%20%20%20%20%20%29.addTo%28map_2be4973deb41464995569b7a04f0bfae%29%3B%0A%20%20%20%20%20%20%20%20%0A%20%20%20%20%0A%20%20%20%20%20%20%20%20var%20popup_dc0289bca4c648b9bc012689b84bd611%20%3D%20L.popup%28%7B%22maxWidth%22%3A%20%22100%25%22%7D%29%3B%0A%0A%20%20%20%20%20%20%20%20%0A%20%20%20%20%20%20%20%20%20%20%20%20var%20html_673de6e0a7524b5cab1c2f455e33ea73%20%3D%20%24%28%60%3Cdiv%20id%3D%22html_673de6e0a7524b5cab1c2f455e33ea73%22%20style%3D%22width%3A%20100.0%25%3B%20height%3A%20100.0%25%3B%22%3E%28%27Artigiano%20%2C%20%C2%A3%C2%A3%C2%A3%20%2C%20%27%2C%203.5%29%3C/div%3E%60%29%5B0%5D%3B%0A%20%20%20%20%20%20%20%20%20%20%20%20popup_dc0289bca4c648b9bc012689b84bd611.setContent%28html_673de6e0a7524b5cab1c2f455e33ea73%29%3B%0A%20%20%20%20%20%20%20%20%0A%0A%20%20%20%20%20%20%20%20marker_cbe2abc877db4fa9b4d8b74a0dcdf290.bindPopup%28popup_dc0289bca4c648b9bc012689b84bd611%29%0A%20%20%20%20%20%20%20%20%3B%0A%0A%20%20%20%20%20%20%20%20%0A%20%20%20%20%0A%20%20%20%20%0A%20%20%20%20%20%20%20%20%20%20%20%20var%20marker_878e692735a04639add9774f90dcdb16%20%3D%20L.marker%28%0A%20%20%20%20%20%20%20%20%20%20%20%20%20%20%20%20%5B51.5087656%2C%20-0.1423427%5D%2C%0A%20%20%20%20%20%20%20%20%20%20%20%20%20%20%20%20%7B%7D%0A%20%20%20%20%20%20%20%20%20%20%20%20%29.addTo%28map_2be4973deb41464995569b7a04f0bfae%29%3B%0A%20%20%20%20%20%20%20%20%0A%20%20%20%20%0A%20%20%20%20%20%20%20%20var%20popup_83ddbe837ef4420fb16cfbc649acb24e%20%3D%20L.popup%28%7B%22maxWidth%22%3A%20%22100%25%22%7D%29%3B%0A%0A%20%20%20%20%20%20%20%20%0A%20%20%20%20%20%20%20%20%20%20%20%20var%20html_c9665eca4c984f81addf12afacc8de1b%20%3D%20%24%28%60%3Cdiv%20id%3D%22html_c9665eca4c984f81addf12afacc8de1b%22%20style%3D%22width%3A%20100.0%25%3B%20height%3A%20100.0%25%3B%22%3E%28%27Casa%20Di%20Stefano%20%2C%20Missing%20%2C%20%27%2C%204.5%29%3C/div%3E%60%29%5B0%5D%3B%0A%20%20%20%20%20%20%20%20%20%20%20%20popup_83ddbe837ef4420fb16cfbc649acb24e.setContent%28html_c9665eca4c984f81addf12afacc8de1b%29%3B%0A%20%20%20%20%20%20%20%20%0A%0A%20%20%20%20%20%20%20%20marker_878e692735a04639add9774f90dcdb16.bindPopup%28popup_83ddbe837ef4420fb16cfbc649acb24e%29%0A%20%20%20%20%20%20%20%20%3B%0A%0A%20%20%20%20%20%20%20%20%0A%20%20%20%20%0A%20%20%20%20%0A%20%20%20%20%20%20%20%20%20%20%20%20var%20marker_42901a92d5be415f99f7240f6ba4b1d1%20%3D%20L.marker%28%0A%20%20%20%20%20%20%20%20%20%20%20%20%20%20%20%20%5B51.5206317540388%2C%20-0.15546926141886%5D%2C%0A%20%20%20%20%20%20%20%20%20%20%20%20%20%20%20%20%7B%7D%0A%20%20%20%20%20%20%20%20%20%20%20%20%29.addTo%28map_2be4973deb41464995569b7a04f0bfae%29%3B%0A%20%20%20%20%20%20%20%20%0A%20%20%20%20%0A%20%20%20%20%20%20%20%20var%20popup_0c9441c4edf84d888b6d2dffbf087305%20%3D%20L.popup%28%7B%22maxWidth%22%3A%20%22100%25%22%7D%29%3B%0A%0A%20%20%20%20%20%20%20%20%0A%20%20%20%20%20%20%20%20%20%20%20%20var%20html_1c9148c9c736459e9cddcecc07ae57f9%20%3D%20%24%28%60%3Cdiv%20id%3D%22html_1c9148c9c736459e9cddcecc07ae57f9%22%20style%3D%22width%3A%20100.0%25%3B%20height%3A%20100.0%25%3B%22%3E%28%27Fucina%20%2C%20%C2%A3%C2%A3%20%2C%20%27%2C%204.5%29%3C/div%3E%60%29%5B0%5D%3B%0A%20%20%20%20%20%20%20%20%20%20%20%20popup_0c9441c4edf84d888b6d2dffbf087305.setContent%28html_1c9148c9c736459e9cddcecc07ae57f9%29%3B%0A%20%20%20%20%20%20%20%20%0A%0A%20%20%20%20%20%20%20%20marker_42901a92d5be415f99f7240f6ba4b1d1.bindPopup%28popup_0c9441c4edf84d888b6d2dffbf087305%29%0A%20%20%20%20%20%20%20%20%3B%0A%0A%20%20%20%20%20%20%20%20%0A%20%20%20%20%0A%20%20%20%20%0A%20%20%20%20%20%20%20%20%20%20%20%20var%20marker_6c93167f6e4c40f4ac774423d1070e4e%20%3D%20L.marker%28%0A%20%20%20%20%20%20%20%20%20%20%20%20%20%20%20%20%5B51.502248%2C%20-0.187966%5D%2C%0A%20%20%20%20%20%20%20%20%20%20%20%20%20%20%20%20%7B%7D%0A%20%20%20%20%20%20%20%20%20%20%20%20%29.addTo%28map_2be4973deb41464995569b7a04f0bfae%29%3B%0A%20%20%20%20%20%20%20%20%0A%20%20%20%20%0A%20%20%20%20%20%20%20%20var%20popup_b89b960c5d034f5dbcdb6314d2a96987%20%3D%20L.popup%28%7B%22maxWidth%22%3A%20%22100%25%22%7D%29%3B%0A%0A%20%20%20%20%20%20%20%20%0A%20%20%20%20%20%20%20%20%20%20%20%20var%20html_afa6434c4eb248f0a058ea688db8c3bd%20%3D%20%24%28%60%3Cdiv%20id%3D%22html_afa6434c4eb248f0a058ea688db8c3bd%22%20style%3D%22width%3A%20100.0%25%3B%20height%3A%20100.0%25%3B%22%3E%28%27Spaghetti%20House%20%2C%20%C2%A3%C2%A3%20%2C%20%27%2C%204.0%29%3C/div%3E%60%29%5B0%5D%3B%0A%20%20%20%20%20%20%20%20%20%20%20%20popup_b89b960c5d034f5dbcdb6314d2a96987.setContent%28html_afa6434c4eb248f0a058ea688db8c3bd%29%3B%0A%20%20%20%20%20%20%20%20%0A%0A%20%20%20%20%20%20%20%20marker_6c93167f6e4c40f4ac774423d1070e4e.bindPopup%28popup_b89b960c5d034f5dbcdb6314d2a96987%29%0A%20%20%20%20%20%20%20%20%3B%0A%0A%20%20%20%20%20%20%20%20%0A%20%20%20%20%0A%20%20%20%20%0A%20%20%20%20%20%20%20%20%20%20%20%20var%20marker_3d8384da3cdc4b278eaac1f73134083a%20%3D%20L.marker%28%0A%20%20%20%20%20%20%20%20%20%20%20%20%20%20%20%20%5B51.5005529%2C%20-0.1606957%5D%2C%0A%20%20%20%20%20%20%20%20%20%20%20%20%20%20%20%20%7B%7D%0A%20%20%20%20%20%20%20%20%20%20%20%20%29.addTo%28map_2be4973deb41464995569b7a04f0bfae%29%3B%0A%20%20%20%20%20%20%20%20%0A%20%20%20%20%0A%20%20%20%20%20%20%20%20var%20popup_27eb42591ae44d9c914a85a1430f3403%20%3D%20L.popup%28%7B%22maxWidth%22%3A%20%22100%25%22%7D%29%3B%0A%0A%20%20%20%20%20%20%20%20%0A%20%20%20%20%20%20%20%20%20%20%20%20var%20html_63653c5dd1904d77b74dbc7b93212c86%20%3D%20%24%28%60%3Cdiv%20id%3D%22html_63653c5dd1904d77b74dbc7b93212c86%22%20style%3D%22width%3A%20100.0%25%3B%20height%3A%20100.0%25%3B%22%3E%28%27Sale%20E%20Pepe%20%2C%20%C2%A3%C2%A3%C2%A3%20%2C%20%27%2C%204.0%29%3C/div%3E%60%29%5B0%5D%3B%0A%20%20%20%20%20%20%20%20%20%20%20%20popup_27eb42591ae44d9c914a85a1430f3403.setContent%28html_63653c5dd1904d77b74dbc7b93212c86%29%3B%0A%20%20%20%20%20%20%20%20%0A%0A%20%20%20%20%20%20%20%20marker_3d8384da3cdc4b278eaac1f73134083a.bindPopup%28popup_27eb42591ae44d9c914a85a1430f3403%29%0A%20%20%20%20%20%20%20%20%3B%0A%0A%20%20%20%20%20%20%20%20%0A%20%20%20%20%0A%20%20%20%20%0A%20%20%20%20%20%20%20%20%20%20%20%20var%20marker_a64cc814aece49fcb908fd04cd56a85e%20%3D%20L.marker%28%0A%20%20%20%20%20%20%20%20%20%20%20%20%20%20%20%20%5B51.4924644%2C%20-0.177208%5D%2C%0A%20%20%20%20%20%20%20%20%20%20%20%20%20%20%20%20%7B%7D%0A%20%20%20%20%20%20%20%20%20%20%20%20%29.addTo%28map_2be4973deb41464995569b7a04f0bfae%29%3B%0A%20%20%20%20%20%20%20%20%0A%20%20%20%20%0A%20%20%20%20%20%20%20%20var%20popup_234b61e4b10042eba7a92ef4330bd6f7%20%3D%20L.popup%28%7B%22maxWidth%22%3A%20%22100%25%22%7D%29%3B%0A%0A%20%20%20%20%20%20%20%20%0A%20%20%20%20%20%20%20%20%20%20%20%20var%20html_d13b8cb41aa2436fa1f5d372bb3154f1%20%3D%20%24%28%60%3Cdiv%20id%3D%22html_d13b8cb41aa2436fa1f5d372bb3154f1%22%20style%3D%22width%3A%20100.0%25%3B%20height%3A%20100.0%25%3B%22%3E%28%27Franco%20Manca%20%2C%20%C2%A3%C2%A3%20%2C%20%27%2C%204.5%29%3C/div%3E%60%29%5B0%5D%3B%0A%20%20%20%20%20%20%20%20%20%20%20%20popup_234b61e4b10042eba7a92ef4330bd6f7.setContent%28html_d13b8cb41aa2436fa1f5d372bb3154f1%29%3B%0A%20%20%20%20%20%20%20%20%0A%0A%20%20%20%20%20%20%20%20marker_a64cc814aece49fcb908fd04cd56a85e.bindPopup%28popup_234b61e4b10042eba7a92ef4330bd6f7%29%0A%20%20%20%20%20%20%20%20%3B%0A%0A%20%20%20%20%20%20%20%20%0A%20%20%20%20%0A%20%20%20%20%0A%20%20%20%20%20%20%20%20%20%20%20%20var%20marker_4aafaed24a6940c886e35143d9cdc1ae%20%3D%20L.marker%28%0A%20%20%20%20%20%20%20%20%20%20%20%20%20%20%20%20%5B51.5126836%2C%20-0.1329437%5D%2C%0A%20%20%20%20%20%20%20%20%20%20%20%20%20%20%20%20%7B%7D%0A%20%20%20%20%20%20%20%20%20%20%20%20%29.addTo%28map_2be4973deb41464995569b7a04f0bfae%29%3B%0A%20%20%20%20%20%20%20%20%0A%20%20%20%20%0A%20%20%20%20%20%20%20%20var%20popup_608498f1c523430db056a110c9ee1c18%20%3D%20L.popup%28%7B%22maxWidth%22%3A%20%22100%25%22%7D%29%3B%0A%0A%20%20%20%20%20%20%20%20%0A%20%20%20%20%20%20%20%20%20%20%20%20var%20html_92198e7c5333486db1cfaa2baedfb8f6%20%3D%20%24%28%60%3Cdiv%20id%3D%22html_92198e7c5333486db1cfaa2baedfb8f6%22%20style%3D%22width%3A%20100.0%25%3B%20height%3A%20100.0%25%3B%22%3E%28%27Tuscanic%20%2C%20%C2%A3%C2%A3%20%2C%20%27%2C%204.0%29%3C/div%3E%60%29%5B0%5D%3B%0A%20%20%20%20%20%20%20%20%20%20%20%20popup_608498f1c523430db056a110c9ee1c18.setContent%28html_92198e7c5333486db1cfaa2baedfb8f6%29%3B%0A%20%20%20%20%20%20%20%20%0A%0A%20%20%20%20%20%20%20%20marker_4aafaed24a6940c886e35143d9cdc1ae.bindPopup%28popup_608498f1c523430db056a110c9ee1c18%29%0A%20%20%20%20%20%20%20%20%3B%0A%0A%20%20%20%20%20%20%20%20%0A%20%20%20%20%0A%20%20%20%20%0A%20%20%20%20%20%20%20%20%20%20%20%20var%20marker_354f7170ef044f339e4fdec02fc776f9%20%3D%20L.marker%28%0A%20%20%20%20%20%20%20%20%20%20%20%20%20%20%20%20%5B51.5189107%2C%20-0.1362067%5D%2C%0A%20%20%20%20%20%20%20%20%20%20%20%20%20%20%20%20%7B%7D%0A%20%20%20%20%20%20%20%20%20%20%20%20%29.addTo%28map_2be4973deb41464995569b7a04f0bfae%29%3B%0A%20%20%20%20%20%20%20%20%0A%20%20%20%20%0A%20%20%20%20%20%20%20%20var%20popup_2c67a180962d4818bf68bbeba7bba3bd%20%3D%20L.popup%28%7B%22maxWidth%22%3A%20%22100%25%22%7D%29%3B%0A%0A%20%20%20%20%20%20%20%20%0A%20%20%20%20%20%20%20%20%20%20%20%20var%20html_2149d6741894457281a955fa32ce1b3c%20%3D%20%24%28%60%3Cdiv%20id%3D%22html_2149d6741894457281a955fa32ce1b3c%22%20style%3D%22width%3A%20100.0%25%3B%20height%3A%20100.0%25%3B%22%3E%28%22Da%27Paolo%20Italian%20Restaurant%20%2C%20%C2%A3%C2%A3%C2%A3%20%2C%20%22%2C%204.0%29%3C/div%3E%60%29%5B0%5D%3B%0A%20%20%20%20%20%20%20%20%20%20%20%20popup_2c67a180962d4818bf68bbeba7bba3bd.setContent%28html_2149d6741894457281a955fa32ce1b3c%29%3B%0A%20%20%20%20%20%20%20%20%0A%0A%20%20%20%20%20%20%20%20marker_354f7170ef044f339e4fdec02fc776f9.bindPopup%28popup_2c67a180962d4818bf68bbeba7bba3bd%29%0A%20%20%20%20%20%20%20%20%3B%0A%0A%20%20%20%20%20%20%20%20%0A%20%20%20%20%0A%20%20%20%20%0A%20%20%20%20%20%20%20%20%20%20%20%20var%20marker_24ee67b3429f47788d04c2a797a36a05%20%3D%20L.marker%28%0A%20%20%20%20%20%20%20%20%20%20%20%20%20%20%20%20%5B51.5242958%2C%20-0.0746875%5D%2C%0A%20%20%20%20%20%20%20%20%20%20%20%20%20%20%20%20%7B%7D%0A%20%20%20%20%20%20%20%20%20%20%20%20%29.addTo%28map_2be4973deb41464995569b7a04f0bfae%29%3B%0A%20%20%20%20%20%20%20%20%0A%20%20%20%20%0A%20%20%20%20%20%20%20%20var%20popup_c656dd2d78b045639f4e0d1e2dbf8cde%20%3D%20L.popup%28%7B%22maxWidth%22%3A%20%22100%25%22%7D%29%3B%0A%0A%20%20%20%20%20%20%20%20%0A%20%20%20%20%20%20%20%20%20%20%20%20var%20html_82b9c5eccb5d41458b3fe055de09eef0%20%3D%20%24%28%60%3Cdiv%20id%3D%22html_82b9c5eccb5d41458b3fe055de09eef0%22%20style%3D%22width%3A%20100.0%25%3B%20height%3A%20100.0%25%3B%22%3E%28%27Burro%20E%20Salvia%20Pastificio%20%2C%20%C2%A3%C2%A3%20%2C%20%27%2C%204.5%29%3C/div%3E%60%29%5B0%5D%3B%0A%20%20%20%20%20%20%20%20%20%20%20%20popup_c656dd2d78b045639f4e0d1e2dbf8cde.setContent%28html_82b9c5eccb5d41458b3fe055de09eef0%29%3B%0A%20%20%20%20%20%20%20%20%0A%0A%20%20%20%20%20%20%20%20marker_24ee67b3429f47788d04c2a797a36a05.bindPopup%28popup_c656dd2d78b045639f4e0d1e2dbf8cde%29%0A%20%20%20%20%20%20%20%20%3B%0A%0A%20%20%20%20%20%20%20%20%0A%20%20%20%20%0A%20%20%20%20%0A%20%20%20%20%20%20%20%20%20%20%20%20var%20marker_2882d62f4b3e4b4682379c114b32f806%20%3D%20L.marker%28%0A%20%20%20%20%20%20%20%20%20%20%20%20%20%20%20%20%5B51.4634398%2C%20-0.1107476%5D%2C%0A%20%20%20%20%20%20%20%20%20%20%20%20%20%20%20%20%7B%7D%0A%20%20%20%20%20%20%20%20%20%20%20%20%29.addTo%28map_2be4973deb41464995569b7a04f0bfae%29%3B%0A%20%20%20%20%20%20%20%20%0A%20%20%20%20%0A%20%20%20%20%20%20%20%20var%20popup_e6c8627ac5bd4323a34e1f1a8825577c%20%3D%20L.popup%28%7B%22maxWidth%22%3A%20%22100%25%22%7D%29%3B%0A%0A%20%20%20%20%20%20%20%20%0A%20%20%20%20%20%20%20%20%20%20%20%20var%20html_a9cab6edfb45429bbf397ecc6f43d749%20%3D%20%24%28%60%3Cdiv%20id%3D%22html_a9cab6edfb45429bbf397ecc6f43d749%22%20style%3D%22width%3A%20100.0%25%3B%20height%3A%20100.0%25%3B%22%3E%28%27Franzina%20Trattoria%20%2C%20%C2%A3%C2%A3%20%2C%20%27%2C%204.5%29%3C/div%3E%60%29%5B0%5D%3B%0A%20%20%20%20%20%20%20%20%20%20%20%20popup_e6c8627ac5bd4323a34e1f1a8825577c.setContent%28html_a9cab6edfb45429bbf397ecc6f43d749%29%3B%0A%20%20%20%20%20%20%20%20%0A%0A%20%20%20%20%20%20%20%20marker_2882d62f4b3e4b4682379c114b32f806.bindPopup%28popup_e6c8627ac5bd4323a34e1f1a8825577c%29%0A%20%20%20%20%20%20%20%20%3B%0A%0A%20%20%20%20%20%20%20%20%0A%20%20%20%20%0A%20%20%20%20%0A%20%20%20%20%20%20%20%20%20%20%20%20var%20marker_8e93346dcf154ec1b35e9feb1d212b71%20%3D%20L.marker%28%0A%20%20%20%20%20%20%20%20%20%20%20%20%20%20%20%20%5B51.5694126%2C%20-0.1126623%5D%2C%0A%20%20%20%20%20%20%20%20%20%20%20%20%20%20%20%20%7B%7D%0A%20%20%20%20%20%20%20%20%20%20%20%20%29.addTo%28map_2be4973deb41464995569b7a04f0bfae%29%3B%0A%20%20%20%20%20%20%20%20%0A%20%20%20%20%0A%20%20%20%20%20%20%20%20var%20popup_c4e8a13124994238a4f11df98ebf7bde%20%3D%20L.popup%28%7B%22maxWidth%22%3A%20%22100%25%22%7D%29%3B%0A%0A%20%20%20%20%20%20%20%20%0A%20%20%20%20%20%20%20%20%20%20%20%20var%20html_66aaeb0822b64bcea2ae90f9abed23b4%20%3D%20%24%28%60%3Cdiv%20id%3D%22html_66aaeb0822b64bcea2ae90f9abed23b4%22%20style%3D%22width%3A%20100.0%25%3B%20height%3A%20100.0%25%3B%22%3E%28%27Pizzeria%20Pappagone%20%2C%20%C2%A3%C2%A3%20%2C%20%27%2C%204.5%29%3C/div%3E%60%29%5B0%5D%3B%0A%20%20%20%20%20%20%20%20%20%20%20%20popup_c4e8a13124994238a4f11df98ebf7bde.setContent%28html_66aaeb0822b64bcea2ae90f9abed23b4%29%3B%0A%20%20%20%20%20%20%20%20%0A%0A%20%20%20%20%20%20%20%20marker_8e93346dcf154ec1b35e9feb1d212b71.bindPopup%28popup_c4e8a13124994238a4f11df98ebf7bde%29%0A%20%20%20%20%20%20%20%20%3B%0A%0A%20%20%20%20%20%20%20%20%0A%20%20%20%20%0A%20%20%20%20%0A%20%20%20%20%20%20%20%20%20%20%20%20var%20marker_9c42c4220ff540b7a770f1151868a7a4%20%3D%20L.marker%28%0A%20%20%20%20%20%20%20%20%20%20%20%20%20%20%20%20%5B51.5150206%2C%20-0.1940216%5D%2C%0A%20%20%20%20%20%20%20%20%20%20%20%20%20%20%20%20%7B%7D%0A%20%20%20%20%20%20%20%20%20%20%20%20%29.addTo%28map_2be4973deb41464995569b7a04f0bfae%29%3B%0A%20%20%20%20%20%20%20%20%0A%20%20%20%20%0A%20%20%20%20%20%20%20%20var%20popup_0b899516fdb64e85b9353071fa0b8d09%20%3D%20L.popup%28%7B%22maxWidth%22%3A%20%22100%25%22%7D%29%3B%0A%0A%20%20%20%20%20%20%20%20%0A%20%20%20%20%20%20%20%20%20%20%20%20var%20html_9e477af62f5e4b28a225024ecc22fa0a%20%3D%20%24%28%60%3Cdiv%20id%3D%22html_9e477af62f5e4b28a225024ecc22fa0a%22%20style%3D%22width%3A%20100.0%25%3B%20height%3A%20100.0%25%3B%22%3E%28%27Teca%20del%20Duca%20%2C%20Missing%20%2C%20%27%2C%205.0%29%3C/div%3E%60%29%5B0%5D%3B%0A%20%20%20%20%20%20%20%20%20%20%20%20popup_0b899516fdb64e85b9353071fa0b8d09.setContent%28html_9e477af62f5e4b28a225024ecc22fa0a%29%3B%0A%20%20%20%20%20%20%20%20%0A%0A%20%20%20%20%20%20%20%20marker_9c42c4220ff540b7a770f1151868a7a4.bindPopup%28popup_0b899516fdb64e85b9353071fa0b8d09%29%0A%20%20%20%20%20%20%20%20%3B%0A%0A%20%20%20%20%20%20%20%20%0A%20%20%20%20%0A%20%20%20%20%0A%20%20%20%20%20%20%20%20%20%20%20%20var%20marker_58e15c3df52a45d4b83520c3e573941f%20%3D%20L.marker%28%0A%20%20%20%20%20%20%20%20%20%20%20%20%20%20%20%20%5B51.5140113830566%2C%20-0.159620001912117%5D%2C%0A%20%20%20%20%20%20%20%20%20%20%20%20%20%20%20%20%7B%7D%0A%20%20%20%20%20%20%20%20%20%20%20%20%29.addTo%28map_2be4973deb41464995569b7a04f0bfae%29%3B%0A%20%20%20%20%20%20%20%20%0A%20%20%20%20%0A%20%20%20%20%20%20%20%20var%20popup_459b844d446d4440bf086abccb610129%20%3D%20L.popup%28%7B%22maxWidth%22%3A%20%22100%25%22%7D%29%3B%0A%0A%20%20%20%20%20%20%20%20%0A%20%20%20%20%20%20%20%20%20%20%20%20var%20html_63b46c16f9dd44729910496c989e6269%20%3D%20%24%28%60%3Cdiv%20id%3D%22html_63b46c16f9dd44729910496c989e6269%22%20style%3D%22width%3A%20100.0%25%3B%20height%3A%20100.0%25%3B%22%3E%28%27Spaghetti%20House%20%2C%20%C2%A3%C2%A3%20%2C%20%27%2C%204.0%29%3C/div%3E%60%29%5B0%5D%3B%0A%20%20%20%20%20%20%20%20%20%20%20%20popup_459b844d446d4440bf086abccb610129.setContent%28html_63b46c16f9dd44729910496c989e6269%29%3B%0A%20%20%20%20%20%20%20%20%0A%0A%20%20%20%20%20%20%20%20marker_58e15c3df52a45d4b83520c3e573941f.bindPopup%28popup_459b844d446d4440bf086abccb610129%29%0A%20%20%20%20%20%20%20%20%3B%0A%0A%20%20%20%20%20%20%20%20%0A%20%20%20%20%0A%20%20%20%20%0A%20%20%20%20%20%20%20%20%20%20%20%20var%20marker_87c452d0f6d049dcae960bc110437077%20%3D%20L.marker%28%0A%20%20%20%20%20%20%20%20%20%20%20%20%20%20%20%20%5B51.499097748922%2C%20-0.157740090217924%5D%2C%0A%20%20%20%20%20%20%20%20%20%20%20%20%20%20%20%20%7B%7D%0A%20%20%20%20%20%20%20%20%20%20%20%20%29.addTo%28map_2be4973deb41464995569b7a04f0bfae%29%3B%0A%20%20%20%20%20%20%20%20%0A%20%20%20%20%0A%20%20%20%20%20%20%20%20var%20popup_395f6d3453b143fe834a8fd8b4b3b8d5%20%3D%20L.popup%28%7B%22maxWidth%22%3A%20%22100%25%22%7D%29%3B%0A%0A%20%20%20%20%20%20%20%20%0A%20%20%20%20%20%20%20%20%20%20%20%20var%20html_9e287cb6fb5d4777a0b4fe3396cebde8%20%3D%20%24%28%60%3Cdiv%20id%3D%22html_9e287cb6fb5d4777a0b4fe3396cebde8%22%20style%3D%22width%3A%20100.0%25%3B%20height%3A%20100.0%25%3B%22%3E%28%27Zafferano%20%2C%20%C2%A3%C2%A3%C2%A3%C2%A3%20%2C%20%27%2C%204.0%29%3C/div%3E%60%29%5B0%5D%3B%0A%20%20%20%20%20%20%20%20%20%20%20%20popup_395f6d3453b143fe834a8fd8b4b3b8d5.setContent%28html_9e287cb6fb5d4777a0b4fe3396cebde8%29%3B%0A%20%20%20%20%20%20%20%20%0A%0A%20%20%20%20%20%20%20%20marker_87c452d0f6d049dcae960bc110437077.bindPopup%28popup_395f6d3453b143fe834a8fd8b4b3b8d5%29%0A%20%20%20%20%20%20%20%20%3B%0A%0A%20%20%20%20%20%20%20%20%0A%20%20%20%20%0A%3C/script%3E onload=\"this.contentDocument.open();this.contentDocument.write(    decodeURIComponent(this.getAttribute('data-html')));this.contentDocument.close();\" allowfullscreen webkitallowfullscreen mozallowfullscreen></iframe></div></div>"
      ],
      "text/plain": [
       "<folium.folium.Map at 0x2824ab819d0>"
      ]
     },
     "execution_count": 40,
     "metadata": {},
     "output_type": "execute_result"
    }
   ],
   "source": [
    "# Replace None with appropriate code\n",
    "\n",
    "# Import the library\n",
    "import folium\n",
    "\n",
    "# Set up center latitude and longitude\n",
    "center_lat = business_df['latitude'][0]\n",
    "center_long = business_df['longitude'][0]\n",
    "\n",
    "# Initialize map with center lat and long\n",
    "yelp_map = folium.Map(location=(center_lat, center_long))\n",
    "\n",
    "# Adjust this limit to see more or fewer businesses\n",
    "limit=100\n",
    "\n",
    "for business in full_dataset[:limit]:\n",
    "    # Extract information about business\n",
    "    lat = business['coordinates']['latitude']\n",
    "    long = business['coordinates']['longitude']\n",
    "    name = business['name']\n",
    "    rating =business['rating']\n",
    "    try:\n",
    "        price = business['price']\n",
    "    except:\n",
    "        price = 'Missing'\n",
    "    \n",
    "    details = \"{}\\nPrice: {} Rating:{}\".format(name,price,rating)\n",
    "    \n",
    "    # Create popup with relevant details\n",
    "    popup = (name + \" , \" + price + \" , \", rating)\n",
    "    \n",
    "    # Create marker with relevant lat/long and popup\n",
    "    marker = folium.Marker(location=[lat, long],popup=popup,)\n",
    "    \n",
    "    marker.add_to(yelp_map)\n",
    "    \n",
    "yelp_map"
   ]
  },
  {
   "cell_type": "markdown",
   "metadata": {},
   "source": [
    "# 5. Create Presentation Notebook\n",
    "\n",
    "Now that you've completed your project, let's put it into an easily presentable format so you can add it to your portfolio. To do this, we recommend completing the following steps outside of this notebook.\n",
    "\n",
    "1. Create a new GitHub repository for your project.\n",
    "2. Save a copy of this notebook into your local repository.\n",
    "3. Edit the text and images in the notebook to present your project and help someone else understand it.\n",
    "4. Run your notebook from start to finish, then **delete your API key** and save it.\n",
    "5. Create a README.md file in your repository with a brief summary of your project.\n",
    "6. Push your updated repository to GitHub to share with your instructor and employers!"
   ]
  },
  {
   "cell_type": "markdown",
   "metadata": {},
   "source": [
    "# Level Up: Project Enhancements\n",
    "\n",
    "After completing the project, you could consider the following enhancements if you have time:\n",
    "\n",
    "* Save a cleaned version of your dataset in your repository, then modify the notebook to load and use that dataset for the analysis. This will allow others to replicate your analysis and avoid running their own API queries.\n",
    "* Use `seaborn` to improve the styling of your visualizations\n",
    "* Explain the implications of your findings for business owners or internal Yelp staff\n",
    "* Repeat the project for another business category or location, and compare the results"
   ]
  },
  {
   "cell_type": "markdown",
   "metadata": {},
   "source": [
    "# Summary\n",
    "\n",
    "Nice work! In this lab, you've made multiple API calls to Yelp in order to paginate through a results set, prepared your data for analysis, and then conducted and visualized descriptive analyses. Well done!"
   ]
  }
 ],
 "metadata": {
  "kernelspec": {
   "display_name": "Python 3",
   "language": "python",
   "name": "python3"
  },
  "language_info": {
   "codemirror_mode": {
    "name": "ipython",
    "version": 3
   },
   "file_extension": ".py",
   "mimetype": "text/x-python",
   "name": "python",
   "nbconvert_exporter": "python",
   "pygments_lexer": "ipython3",
   "version": "3.8.8"
  },
  "toc": {
   "base_numbering": 1,
   "nav_menu": {},
   "number_sections": true,
   "sideBar": true,
   "skip_h1_title": false,
   "title_cell": "Table of Contents",
   "title_sidebar": "Contents",
   "toc_cell": false,
   "toc_position": {},
   "toc_section_display": true,
   "toc_window_display": false
  }
 },
 "nbformat": 4,
 "nbformat_minor": 2
}
